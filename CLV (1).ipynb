{
 "cells": [
  {
   "cell_type": "code",
   "execution_count": null,
   "metadata": {},
   "outputs": [],
   "source": []
  },
  {
   "cell_type": "code",
   "execution_count": null,
   "metadata": {},
   "outputs": [],
   "source": []
  },
  {
   "cell_type": "code",
   "execution_count": null,
   "metadata": {},
   "outputs": [],
   "source": []
  },
  {
   "cell_type": "code",
   "execution_count": 1,
   "metadata": {},
   "outputs": [
    {
     "data": {
      "text/html": [
       "        <script type=\"text/javascript\">\n",
       "        window.PlotlyConfig = {MathJaxConfig: 'local'};\n",
       "        if (window.MathJax) {MathJax.Hub.Config({SVG: {font: \"STIX-Web\"}});}\n",
       "        if (typeof require !== 'undefined') {\n",
       "        require.undef(\"plotly\");\n",
       "        requirejs.config({\n",
       "            paths: {\n",
       "                'plotly': ['https://cdn.plot.ly/plotly-latest.min']\n",
       "            }\n",
       "        });\n",
       "        require(['plotly'], function(Plotly) {\n",
       "            window._Plotly = Plotly;\n",
       "        });\n",
       "        }\n",
       "        </script>\n",
       "        "
      ]
     },
     "metadata": {},
     "output_type": "display_data"
    }
   ],
   "source": [
    "import warnings\n",
    "warnings.simplefilter('ignore')\n",
    "import pandas as pd\n",
    "import numpy as np \n",
    "import matplotlib.pyplot as plt\n",
    "import seaborn as sns\n",
    "from sklearn.preprocessing import LabelEncoder,StandardScaler\n",
    "from sklearn.model_selection import train_test_split as tts,cross_val_score,ShuffleSplit\n",
    "from imblearn.over_sampling import SMOTE\n",
    "from sklearn.tree import DecisionTreeClassifier\n",
    "from sklearn.ensemble import RandomForestClassifier\n",
    "from xgboost import XGBClassifier\n",
    "from sklearn.cluster import KMeans\n",
    "from sklearn.decomposition import PCA\n",
    "from sklearn.metrics import accuracy_score,f1_score,classification_report,roc_auc_score\n",
    "pd.set_option('display.max_columns', None)\n",
    "#pd.set_option('display.max_rows',None)\n",
    "from plotly import tools\n",
    "import plotly.offline as py\n",
    "py.init_notebook_mode(connected=True)\n",
    "import plotly.graph_objs as go\n",
    "import plotly_express as px"
   ]
  },
  {
   "cell_type": "code",
   "execution_count": 2,
   "metadata": {},
   "outputs": [
    {
     "data": {
      "text/html": [
       "<div>\n",
       "<style scoped>\n",
       "    .dataframe tbody tr th:only-of-type {\n",
       "        vertical-align: middle;\n",
       "    }\n",
       "\n",
       "    .dataframe tbody tr th {\n",
       "        vertical-align: top;\n",
       "    }\n",
       "\n",
       "    .dataframe thead th {\n",
       "        text-align: right;\n",
       "    }\n",
       "</style>\n",
       "<table border=\"1\" class=\"dataframe\">\n",
       "  <thead>\n",
       "    <tr style=\"text-align: right;\">\n",
       "      <th></th>\n",
       "      <th>Unnamed: 0</th>\n",
       "      <th>Customer No.</th>\n",
       "      <th>Cust Type</th>\n",
       "      <th>Make</th>\n",
       "      <th>Year</th>\n",
       "      <th>Model</th>\n",
       "      <th>City</th>\n",
       "      <th>State</th>\n",
       "      <th>Order Type</th>\n",
       "      <th>Total Revenue</th>\n",
       "      <th>Total Servicing Hrs</th>\n",
       "      <th>Clusters</th>\n",
       "    </tr>\n",
       "  </thead>\n",
       "  <tbody>\n",
       "    <tr>\n",
       "      <th>0</th>\n",
       "      <td>2</td>\n",
       "      <td>10</td>\n",
       "      <td>Retail</td>\n",
       "      <td>GENERAL MOTORS</td>\n",
       "      <td>2012</td>\n",
       "      <td>OPTRA</td>\n",
       "      <td>mumbai</td>\n",
       "      <td>maharashtra</td>\n",
       "      <td>Running Repairs</td>\n",
       "      <td>599.84</td>\n",
       "      <td>3.000000</td>\n",
       "      <td>low_revenue</td>\n",
       "    </tr>\n",
       "    <tr>\n",
       "      <th>1</th>\n",
       "      <td>7</td>\n",
       "      <td>1000</td>\n",
       "      <td>Retail</td>\n",
       "      <td>MARUTI SUZUKI</td>\n",
       "      <td>2013</td>\n",
       "      <td>ALTO</td>\n",
       "      <td>pune</td>\n",
       "      <td>maharashtra</td>\n",
       "      <td>Paid Service</td>\n",
       "      <td>1980.84</td>\n",
       "      <td>2.000000</td>\n",
       "      <td>low_revenue</td>\n",
       "    </tr>\n",
       "    <tr>\n",
       "      <th>2</th>\n",
       "      <td>8</td>\n",
       "      <td>1000</td>\n",
       "      <td>Retail</td>\n",
       "      <td>MARUTI SUZUKI</td>\n",
       "      <td>2013</td>\n",
       "      <td>ALTO</td>\n",
       "      <td>pune</td>\n",
       "      <td>maharashtra</td>\n",
       "      <td>Running Repairs</td>\n",
       "      <td>749.42</td>\n",
       "      <td>5.000000</td>\n",
       "      <td>low_revenue</td>\n",
       "    </tr>\n",
       "    <tr>\n",
       "      <th>3</th>\n",
       "      <td>10</td>\n",
       "      <td>1000</td>\n",
       "      <td>Retail</td>\n",
       "      <td>MARUTI SUZUKI</td>\n",
       "      <td>2014</td>\n",
       "      <td>ALTO</td>\n",
       "      <td>pune</td>\n",
       "      <td>maharashtra</td>\n",
       "      <td>Running Repairs</td>\n",
       "      <td>446.75</td>\n",
       "      <td>5.000000</td>\n",
       "      <td>low_revenue</td>\n",
       "    </tr>\n",
       "    <tr>\n",
       "      <th>4</th>\n",
       "      <td>13</td>\n",
       "      <td>10000</td>\n",
       "      <td>Retail</td>\n",
       "      <td>MARUTI SUZUKI</td>\n",
       "      <td>2014</td>\n",
       "      <td>WAGONR</td>\n",
       "      <td>hyderabad</td>\n",
       "      <td>telangana</td>\n",
       "      <td>SMC Value Package</td>\n",
       "      <td>1001.29</td>\n",
       "      <td>3.000000</td>\n",
       "      <td>low_revenue</td>\n",
       "    </tr>\n",
       "    <tr>\n",
       "      <th>...</th>\n",
       "      <td>...</td>\n",
       "      <td>...</td>\n",
       "      <td>...</td>\n",
       "      <td>...</td>\n",
       "      <td>...</td>\n",
       "      <td>...</td>\n",
       "      <td>...</td>\n",
       "      <td>...</td>\n",
       "      <td>...</td>\n",
       "      <td>...</td>\n",
       "      <td>...</td>\n",
       "      <td>...</td>\n",
       "    </tr>\n",
       "    <tr>\n",
       "      <th>378417</th>\n",
       "      <td>379637</td>\n",
       "      <td>MFCWP01</td>\n",
       "      <td>MFCWL</td>\n",
       "      <td>MARUTI SUZUKI</td>\n",
       "      <td>2012</td>\n",
       "      <td>WAGONR</td>\n",
       "      <td>pune</td>\n",
       "      <td>maharashtra</td>\n",
       "      <td>Paid Service</td>\n",
       "      <td>25074.28</td>\n",
       "      <td>52.333333</td>\n",
       "      <td>high_revenue</td>\n",
       "    </tr>\n",
       "    <tr>\n",
       "      <th>378418</th>\n",
       "      <td>379645</td>\n",
       "      <td>MFCWP01</td>\n",
       "      <td>MFCWL</td>\n",
       "      <td>MARUTI SUZUKI</td>\n",
       "      <td>2013</td>\n",
       "      <td>SWIFT</td>\n",
       "      <td>pune</td>\n",
       "      <td>maharashtra</td>\n",
       "      <td>Paid Service</td>\n",
       "      <td>24515.27</td>\n",
       "      <td>148.500000</td>\n",
       "      <td>high_revenue</td>\n",
       "    </tr>\n",
       "    <tr>\n",
       "      <th>378419</th>\n",
       "      <td>379661</td>\n",
       "      <td>MFCWP01</td>\n",
       "      <td>MFCWL</td>\n",
       "      <td>TATA MOTORS</td>\n",
       "      <td>2013</td>\n",
       "      <td>INDICA</td>\n",
       "      <td>pune</td>\n",
       "      <td>maharashtra</td>\n",
       "      <td>Paid Service</td>\n",
       "      <td>35618.95</td>\n",
       "      <td>263.500000</td>\n",
       "      <td>high_revenue</td>\n",
       "    </tr>\n",
       "    <tr>\n",
       "      <th>378420</th>\n",
       "      <td>379668</td>\n",
       "      <td>MFCWP01</td>\n",
       "      <td>MFCWL</td>\n",
       "      <td>TOYOTA</td>\n",
       "      <td>2012</td>\n",
       "      <td>COROLLA</td>\n",
       "      <td>pune</td>\n",
       "      <td>maharashtra</td>\n",
       "      <td>Running Repairs</td>\n",
       "      <td>24141.05</td>\n",
       "      <td>84.000000</td>\n",
       "      <td>high_revenue</td>\n",
       "    </tr>\n",
       "    <tr>\n",
       "      <th>378421</th>\n",
       "      <td>379732</td>\n",
       "      <td>MFCWP01</td>\n",
       "      <td>Retail</td>\n",
       "      <td>MARUTI SUZUKI</td>\n",
       "      <td>2012</td>\n",
       "      <td>SWIFT</td>\n",
       "      <td>pune</td>\n",
       "      <td>maharashtra</td>\n",
       "      <td>Paid Service</td>\n",
       "      <td>27197.04</td>\n",
       "      <td>100.666667</td>\n",
       "      <td>high_revenue</td>\n",
       "    </tr>\n",
       "  </tbody>\n",
       "</table>\n",
       "<p>378422 rows × 12 columns</p>\n",
       "</div>"
      ],
      "text/plain": [
       "        Unnamed: 0 Customer No. Cust Type            Make  Year    Model  \\\n",
       "0                2           10    Retail  GENERAL MOTORS  2012    OPTRA   \n",
       "1                7         1000    Retail   MARUTI SUZUKI  2013     ALTO   \n",
       "2                8         1000    Retail   MARUTI SUZUKI  2013     ALTO   \n",
       "3               10         1000    Retail   MARUTI SUZUKI  2014     ALTO   \n",
       "4               13        10000    Retail   MARUTI SUZUKI  2014   WAGONR   \n",
       "...            ...          ...       ...             ...   ...      ...   \n",
       "378417      379637      MFCWP01     MFCWL   MARUTI SUZUKI  2012   WAGONR   \n",
       "378418      379645      MFCWP01     MFCWL   MARUTI SUZUKI  2013    SWIFT   \n",
       "378419      379661      MFCWP01     MFCWL     TATA MOTORS  2013   INDICA   \n",
       "378420      379668      MFCWP01     MFCWL          TOYOTA  2012  COROLLA   \n",
       "378421      379732      MFCWP01    Retail   MARUTI SUZUKI  2012    SWIFT   \n",
       "\n",
       "             City        State         Order Type  Total Revenue  \\\n",
       "0          mumbai  maharashtra    Running Repairs         599.84   \n",
       "1            pune  maharashtra       Paid Service        1980.84   \n",
       "2            pune  maharashtra    Running Repairs         749.42   \n",
       "3            pune  maharashtra    Running Repairs         446.75   \n",
       "4       hyderabad    telangana  SMC Value Package        1001.29   \n",
       "...           ...          ...                ...            ...   \n",
       "378417       pune  maharashtra       Paid Service       25074.28   \n",
       "378418       pune  maharashtra       Paid Service       24515.27   \n",
       "378419       pune  maharashtra       Paid Service       35618.95   \n",
       "378420       pune  maharashtra    Running Repairs       24141.05   \n",
       "378421       pune  maharashtra       Paid Service       27197.04   \n",
       "\n",
       "        Total Servicing Hrs      Clusters  \n",
       "0                  3.000000   low_revenue  \n",
       "1                  2.000000   low_revenue  \n",
       "2                  5.000000   low_revenue  \n",
       "3                  5.000000   low_revenue  \n",
       "4                  3.000000   low_revenue  \n",
       "...                     ...           ...  \n",
       "378417            52.333333  high_revenue  \n",
       "378418           148.500000  high_revenue  \n",
       "378419           263.500000  high_revenue  \n",
       "378420            84.000000  high_revenue  \n",
       "378421           100.666667  high_revenue  \n",
       "\n",
       "[378422 rows x 12 columns]"
      ]
     },
     "execution_count": 2,
     "metadata": {},
     "output_type": "execute_result"
    }
   ],
   "source": [
    "df5=pd.read_csv(\"revenue_clust.csv\")\n",
    "df5"
   ]
  },
  {
   "cell_type": "code",
   "execution_count": 3,
   "metadata": {},
   "outputs": [],
   "source": [
    "df5=df5[df5['Year']==2016]"
   ]
  },
  {
   "cell_type": "code",
   "execution_count": 4,
   "metadata": {},
   "outputs": [
    {
     "data": {
      "text/plain": [
       "2016    153461\n",
       "Name: Year, dtype: int64"
      ]
     },
     "execution_count": 4,
     "metadata": {},
     "output_type": "execute_result"
    }
   ],
   "source": [
    "df5['Year'].value_counts()"
   ]
  },
  {
   "cell_type": "code",
   "execution_count": 5,
   "metadata": {},
   "outputs": [
    {
     "data": {
      "text/html": [
       "<div>\n",
       "<style scoped>\n",
       "    .dataframe tbody tr th:only-of-type {\n",
       "        vertical-align: middle;\n",
       "    }\n",
       "\n",
       "    .dataframe tbody tr th {\n",
       "        vertical-align: top;\n",
       "    }\n",
       "\n",
       "    .dataframe thead th {\n",
       "        text-align: right;\n",
       "    }\n",
       "</style>\n",
       "<table border=\"1\" class=\"dataframe\">\n",
       "  <thead>\n",
       "    <tr style=\"text-align: right;\">\n",
       "      <th></th>\n",
       "      <th>Customer No.</th>\n",
       "      <th>Clusters</th>\n",
       "    </tr>\n",
       "  </thead>\n",
       "  <tbody>\n",
       "    <tr>\n",
       "      <th>13</th>\n",
       "      <td>100007</td>\n",
       "      <td>low_revenue</td>\n",
       "    </tr>\n",
       "    <tr>\n",
       "      <th>18</th>\n",
       "      <td>100011</td>\n",
       "      <td>low_revenue</td>\n",
       "    </tr>\n",
       "    <tr>\n",
       "      <th>29</th>\n",
       "      <td>100026</td>\n",
       "      <td>low_revenue</td>\n",
       "    </tr>\n",
       "    <tr>\n",
       "      <th>38</th>\n",
       "      <td>100035</td>\n",
       "      <td>low_revenue</td>\n",
       "    </tr>\n",
       "    <tr>\n",
       "      <th>45</th>\n",
       "      <td>100040</td>\n",
       "      <td>low_revenue</td>\n",
       "    </tr>\n",
       "    <tr>\n",
       "      <th>...</th>\n",
       "      <td>...</td>\n",
       "      <td>...</td>\n",
       "    </tr>\n",
       "    <tr>\n",
       "      <th>378397</th>\n",
       "      <td>MFCCM14</td>\n",
       "      <td>high_revenue</td>\n",
       "    </tr>\n",
       "    <tr>\n",
       "      <th>378400</th>\n",
       "      <td>MFCCM14</td>\n",
       "      <td>high_revenue</td>\n",
       "    </tr>\n",
       "    <tr>\n",
       "      <th>378405</th>\n",
       "      <td>MFCCM19</td>\n",
       "      <td>high_revenue</td>\n",
       "    </tr>\n",
       "    <tr>\n",
       "      <th>378406</th>\n",
       "      <td>MFCCM19</td>\n",
       "      <td>high_revenue</td>\n",
       "    </tr>\n",
       "    <tr>\n",
       "      <th>378410</th>\n",
       "      <td>MFCCM21</td>\n",
       "      <td>high_revenue</td>\n",
       "    </tr>\n",
       "  </tbody>\n",
       "</table>\n",
       "<p>153461 rows × 2 columns</p>\n",
       "</div>"
      ],
      "text/plain": [
       "       Customer No.      Clusters\n",
       "13           100007   low_revenue\n",
       "18           100011   low_revenue\n",
       "29           100026   low_revenue\n",
       "38           100035   low_revenue\n",
       "45           100040   low_revenue\n",
       "...             ...           ...\n",
       "378397      MFCCM14  high_revenue\n",
       "378400      MFCCM14  high_revenue\n",
       "378405      MFCCM19  high_revenue\n",
       "378406      MFCCM19  high_revenue\n",
       "378410      MFCCM21  high_revenue\n",
       "\n",
       "[153461 rows x 2 columns]"
      ]
     },
     "execution_count": 5,
     "metadata": {},
     "output_type": "execute_result"
    }
   ],
   "source": [
    "df5=df5[['Customer No.','Clusters']]\n",
    "df5"
   ]
  },
  {
   "cell_type": "code",
   "execution_count": null,
   "metadata": {},
   "outputs": [],
   "source": []
  },
  {
   "cell_type": "code",
   "execution_count": null,
   "metadata": {},
   "outputs": [],
   "source": []
  },
  {
   "cell_type": "code",
   "execution_count": null,
   "metadata": {},
   "outputs": [],
   "source": []
  },
  {
   "cell_type": "code",
   "execution_count": 6,
   "metadata": {},
   "outputs": [],
   "source": [
    "df=pd.read_csv(\"Final_invoice.csv\")\n",
    "df = df.rename(columns={'Total Amt Wtd Tax.':'Total_Expense'})"
   ]
  },
  {
   "cell_type": "code",
   "execution_count": 7,
   "metadata": {},
   "outputs": [
    {
     "data": {
      "text/html": [
       "<div>\n",
       "<style scoped>\n",
       "    .dataframe tbody tr th:only-of-type {\n",
       "        vertical-align: middle;\n",
       "    }\n",
       "\n",
       "    .dataframe tbody tr th {\n",
       "        vertical-align: top;\n",
       "    }\n",
       "\n",
       "    .dataframe thead th {\n",
       "        text-align: right;\n",
       "    }\n",
       "</style>\n",
       "<table border=\"1\" class=\"dataframe\">\n",
       "  <thead>\n",
       "    <tr style=\"text-align: right;\">\n",
       "      <th></th>\n",
       "      <th>Unnamed: 0</th>\n",
       "      <th>Amt Rcvd From Custom</th>\n",
       "      <th>Amt Rcvd From Ins Co</th>\n",
       "      <th>Area / Locality</th>\n",
       "      <th>CGST(14%)</th>\n",
       "      <th>CGST(2.5%)</th>\n",
       "      <th>CGST(6%)</th>\n",
       "      <th>CGST(9%)</th>\n",
       "      <th>CITY</th>\n",
       "      <th>Cash /Cashless Type</th>\n",
       "      <th>Claim No.</th>\n",
       "      <th>Cust Type</th>\n",
       "      <th>Customer No.</th>\n",
       "      <th>District</th>\n",
       "      <th>Expiry Date</th>\n",
       "      <th>Gate Pass Date</th>\n",
       "      <th>Gate Pass Time</th>\n",
       "      <th>IGST(12%)</th>\n",
       "      <th>IGST(18%)</th>\n",
       "      <th>IGST(28%)</th>\n",
       "      <th>IGST(5%)</th>\n",
       "      <th>Insurance Company</th>\n",
       "      <th>Invoice Date</th>\n",
       "      <th>Invoice No</th>\n",
       "      <th>Invoice Time</th>\n",
       "      <th>Job Card No</th>\n",
       "      <th>JobCard Date</th>\n",
       "      <th>JobCard Time</th>\n",
       "      <th>KMs Reading</th>\n",
       "      <th>Labour Total</th>\n",
       "      <th>Make</th>\n",
       "      <th>Misc Total</th>\n",
       "      <th>Model</th>\n",
       "      <th>ODN No.</th>\n",
       "      <th>OSL Total</th>\n",
       "      <th>Order Type</th>\n",
       "      <th>Outstanding Amt</th>\n",
       "      <th>Parts Total</th>\n",
       "      <th>Pin code</th>\n",
       "      <th>Plant</th>\n",
       "      <th>Plant Name1</th>\n",
       "      <th>Policy no.</th>\n",
       "      <th>Print Status</th>\n",
       "      <th>Recovrbl Exp</th>\n",
       "      <th>Regn No</th>\n",
       "      <th>SGST/UGST(14%)</th>\n",
       "      <th>SGST/UGST(2.5%)</th>\n",
       "      <th>SGST/UGST(6%)</th>\n",
       "      <th>SGST/UGST(9%)</th>\n",
       "      <th>Service Advisor Name</th>\n",
       "      <th>TDS amount</th>\n",
       "      <th>Technician Name</th>\n",
       "      <th>Total_Expense</th>\n",
       "      <th>Total CGST</th>\n",
       "      <th>Total GST</th>\n",
       "      <th>Total IGST</th>\n",
       "      <th>Total SGST/UGST</th>\n",
       "      <th>Total Value</th>\n",
       "      <th>User ID</th>\n",
       "    </tr>\n",
       "  </thead>\n",
       "  <tbody>\n",
       "    <tr>\n",
       "      <th>0</th>\n",
       "      <td>0</td>\n",
       "      <td>0.0</td>\n",
       "      <td>0.0</td>\n",
       "      <td>MAJIWADA</td>\n",
       "      <td>0.0</td>\n",
       "      <td>0.0</td>\n",
       "      <td>0.0</td>\n",
       "      <td>0.0</td>\n",
       "      <td>Thane</td>\n",
       "      <td>NaN</td>\n",
       "      <td>NaN</td>\n",
       "      <td>Retail</td>\n",
       "      <td>67849</td>\n",
       "      <td>Maharashtra</td>\n",
       "      <td>NaN</td>\n",
       "      <td>NaN</td>\n",
       "      <td>00:00:00</td>\n",
       "      <td>0.0</td>\n",
       "      <td>0.0</td>\n",
       "      <td>0.0</td>\n",
       "      <td>0.0</td>\n",
       "      <td>NaN</td>\n",
       "      <td>2015-01-02</td>\n",
       "      <td>7005200002</td>\n",
       "      <td>11:30:36</td>\n",
       "      <td>168303</td>\n",
       "      <td>2014-12-13</td>\n",
       "      <td>14:29:43</td>\n",
       "      <td>49317</td>\n",
       "      <td>1203.14</td>\n",
       "      <td>GENERAL MOTORS</td>\n",
       "      <td>0.00</td>\n",
       "      <td>SPARK</td>\n",
       "      <td>7.005200e+09</td>\n",
       "      <td>500.06</td>\n",
       "      <td>Paid Service</td>\n",
       "      <td>0.0</td>\n",
       "      <td>2348.75</td>\n",
       "      <td>400601</td>\n",
       "      <td>BC01</td>\n",
       "      <td>THANE</td>\n",
       "      <td>NaN</td>\n",
       "      <td>NO</td>\n",
       "      <td>0.0</td>\n",
       "      <td>KA19MA1291</td>\n",
       "      <td>0.0</td>\n",
       "      <td>0.0</td>\n",
       "      <td>0.0</td>\n",
       "      <td>0.0</td>\n",
       "      <td>NaN</td>\n",
       "      <td>0.0</td>\n",
       "      <td>RUPESH</td>\n",
       "      <td>4051.95</td>\n",
       "      <td>0.0</td>\n",
       "      <td>0.0</td>\n",
       "      <td>0.0</td>\n",
       "      <td>0.0</td>\n",
       "      <td>4051.95</td>\n",
       "      <td>BC01FS1</td>\n",
       "    </tr>\n",
       "    <tr>\n",
       "      <th>1</th>\n",
       "      <td>1</td>\n",
       "      <td>0.0</td>\n",
       "      <td>0.0</td>\n",
       "      <td>THNAE</td>\n",
       "      <td>0.0</td>\n",
       "      <td>0.0</td>\n",
       "      <td>0.0</td>\n",
       "      <td>0.0</td>\n",
       "      <td>THNAE</td>\n",
       "      <td>NaN</td>\n",
       "      <td>NaN</td>\n",
       "      <td>Retail</td>\n",
       "      <td>84419</td>\n",
       "      <td>Maharashtra</td>\n",
       "      <td>NaN</td>\n",
       "      <td>NaN</td>\n",
       "      <td>00:00:00</td>\n",
       "      <td>0.0</td>\n",
       "      <td>0.0</td>\n",
       "      <td>0.0</td>\n",
       "      <td>0.0</td>\n",
       "      <td>NaN</td>\n",
       "      <td>2015-01-03</td>\n",
       "      <td>7005200003</td>\n",
       "      <td>10:07:32</td>\n",
       "      <td>173997</td>\n",
       "      <td>2015-01-02</td>\n",
       "      <td>14:12:18</td>\n",
       "      <td>78584</td>\n",
       "      <td>804.26</td>\n",
       "      <td>TATA MOTORS</td>\n",
       "      <td>197.03</td>\n",
       "      <td>INDICA</td>\n",
       "      <td>7.005200e+09</td>\n",
       "      <td>0.00</td>\n",
       "      <td>SMC Value Package</td>\n",
       "      <td>0.0</td>\n",
       "      <td>0.00</td>\n",
       "      <td>400603</td>\n",
       "      <td>BC01</td>\n",
       "      <td>THANE</td>\n",
       "      <td>NaN</td>\n",
       "      <td>NO</td>\n",
       "      <td>0.0</td>\n",
       "      <td>MH43R3046</td>\n",
       "      <td>0.0</td>\n",
       "      <td>0.0</td>\n",
       "      <td>0.0</td>\n",
       "      <td>0.0</td>\n",
       "      <td>NaN</td>\n",
       "      <td>0.0</td>\n",
       "      <td>PRASHANT</td>\n",
       "      <td>1001.29</td>\n",
       "      <td>0.0</td>\n",
       "      <td>0.0</td>\n",
       "      <td>0.0</td>\n",
       "      <td>0.0</td>\n",
       "      <td>1001.29</td>\n",
       "      <td>BC01SA2</td>\n",
       "    </tr>\n",
       "  </tbody>\n",
       "</table>\n",
       "</div>"
      ],
      "text/plain": [
       "   Unnamed: 0  Amt Rcvd From Custom  Amt Rcvd From Ins Co Area / Locality  \\\n",
       "0           0                   0.0                   0.0        MAJIWADA   \n",
       "1           1                   0.0                   0.0           THNAE   \n",
       "\n",
       "   CGST(14%)  CGST(2.5%)  CGST(6%)  CGST(9%)   CITY Cash /Cashless Type  \\\n",
       "0        0.0         0.0       0.0       0.0  Thane                 NaN   \n",
       "1        0.0         0.0       0.0       0.0  THNAE                 NaN   \n",
       "\n",
       "  Claim No. Cust Type Customer No.     District Expiry Date Gate Pass Date  \\\n",
       "0       NaN    Retail        67849  Maharashtra         NaN            NaN   \n",
       "1       NaN    Retail        84419  Maharashtra         NaN            NaN   \n",
       "\n",
       "  Gate Pass Time  IGST(12%)  IGST(18%)  IGST(28%)  IGST(5%) Insurance Company  \\\n",
       "0       00:00:00        0.0        0.0        0.0       0.0               NaN   \n",
       "1       00:00:00        0.0        0.0        0.0       0.0               NaN   \n",
       "\n",
       "  Invoice Date  Invoice No Invoice Time  Job Card No JobCard Date  \\\n",
       "0   2015-01-02  7005200002     11:30:36       168303   2014-12-13   \n",
       "1   2015-01-03  7005200003     10:07:32       173997   2015-01-02   \n",
       "\n",
       "  JobCard Time  KMs Reading  Labour Total            Make  Misc Total   Model  \\\n",
       "0     14:29:43        49317       1203.14  GENERAL MOTORS        0.00   SPARK   \n",
       "1     14:12:18        78584        804.26     TATA MOTORS      197.03  INDICA   \n",
       "\n",
       "        ODN No.  OSL Total         Order Type  Outstanding Amt  Parts Total  \\\n",
       "0  7.005200e+09     500.06       Paid Service              0.0      2348.75   \n",
       "1  7.005200e+09       0.00  SMC Value Package              0.0         0.00   \n",
       "\n",
       "   Pin code Plant Plant Name1 Policy no. Print Status  Recovrbl Exp  \\\n",
       "0    400601  BC01       THANE        NaN           NO           0.0   \n",
       "1    400603  BC01       THANE        NaN           NO           0.0   \n",
       "\n",
       "      Regn No  SGST/UGST(14%)  SGST/UGST(2.5%)  SGST/UGST(6%)  SGST/UGST(9%)  \\\n",
       "0  KA19MA1291             0.0              0.0            0.0            0.0   \n",
       "1   MH43R3046             0.0              0.0            0.0            0.0   \n",
       "\n",
       "   Service Advisor Name  TDS amount Technician Name  Total_Expense  \\\n",
       "0                   NaN         0.0          RUPESH        4051.95   \n",
       "1                   NaN         0.0        PRASHANT        1001.29   \n",
       "\n",
       "   Total CGST  Total GST  Total IGST  Total SGST/UGST  Total Value  User ID  \n",
       "0         0.0        0.0         0.0              0.0      4051.95  BC01FS1  \n",
       "1         0.0        0.0         0.0              0.0      1001.29  BC01SA2  "
      ]
     },
     "execution_count": 7,
     "metadata": {},
     "output_type": "execute_result"
    }
   ],
   "source": [
    "df.head(2)"
   ]
  },
  {
   "cell_type": "code",
   "execution_count": 8,
   "metadata": {},
   "outputs": [],
   "source": [
    "import pgeocode\n",
    "nomi = pgeocode.Nominatim('IN')\n"
   ]
  },
  {
   "cell_type": "code",
   "execution_count": 9,
   "metadata": {},
   "outputs": [],
   "source": [
    "df[\"City\"]=nomi.query_postal_code(np.array(df[\"Pin code\"].astype(str))).county_name\n",
    "# Data_Finalinvoice[\"updated_District\"]=nomi.query_postal_code(np.array(Data_Finalinvoice[\"Pin code\"].astype(str))).state_name\n",
    "# Data_Finalinvoice[\"updated_Location_Area\"]=nomi.query_postal_code(np.array(Data_Finalinvoice[\"Pin code\"].astype(str))).place_name"
   ]
  },
  {
   "cell_type": "code",
   "execution_count": 10,
   "metadata": {},
   "outputs": [],
   "source": [
    "df[\"Invoice_DateTime\"]=df[\"Invoice Date\"]+' '+df[\"Invoice Time\"]\n",
    "df[\"JobCard_DateTime\"]=df[\"JobCard Date\"]+' '+df[\"JobCard Time\"]\n",
    "df['JobCard_DateTime'] = pd.to_datetime(df['JobCard_DateTime'],dayfirst=True)\n",
    "df['Invoice_DateTime'] = pd.to_datetime(df['Invoice_DateTime'],dayfirst=True)\n",
    "df[\"Service_Time\"]=df[\"Invoice_DateTime\"]-df[\"JobCard_DateTime\"]"
   ]
  },
  {
   "cell_type": "code",
   "execution_count": 11,
   "metadata": {},
   "outputs": [],
   "source": [
    "df[\"Invoice_DateTime\"] = pd.to_datetime(df[\"Invoice_DateTime\"])\n",
    "df[\"JobCard_DateTime\"] = pd.to_datetime(df[\"JobCard_DateTime\"])\n",
    "df['Job_duration(in hrs)']=(df['Invoice_DateTime'] -df['JobCard_DateTime']).astype('timedelta64[h]')"
   ]
  },
  {
   "cell_type": "code",
   "execution_count": 12,
   "metadata": {},
   "outputs": [],
   "source": [
    "df[\"Year\"] = pd.DatetimeIndex(df[\"JobCard_DateTime\"]).year"
   ]
  },
  {
   "cell_type": "code",
   "execution_count": 13,
   "metadata": {},
   "outputs": [],
   "source": [
    "df[\"month\"] = pd.DatetimeIndex(df[\"JobCard_DateTime\"]).month"
   ]
  },
  {
   "cell_type": "code",
   "execution_count": 14,
   "metadata": {},
   "outputs": [
    {
     "data": {
      "text/html": [
       "<div>\n",
       "<style scoped>\n",
       "    .dataframe tbody tr th:only-of-type {\n",
       "        vertical-align: middle;\n",
       "    }\n",
       "\n",
       "    .dataframe tbody tr th {\n",
       "        vertical-align: top;\n",
       "    }\n",
       "\n",
       "    .dataframe thead th {\n",
       "        text-align: right;\n",
       "    }\n",
       "</style>\n",
       "<table border=\"1\" class=\"dataframe\">\n",
       "  <thead>\n",
       "    <tr style=\"text-align: right;\">\n",
       "      <th></th>\n",
       "      <th>Unnamed: 0</th>\n",
       "      <th>Amt Rcvd From Custom</th>\n",
       "      <th>Amt Rcvd From Ins Co</th>\n",
       "      <th>Area / Locality</th>\n",
       "      <th>CGST(14%)</th>\n",
       "      <th>CGST(2.5%)</th>\n",
       "      <th>CGST(6%)</th>\n",
       "      <th>CGST(9%)</th>\n",
       "      <th>CITY</th>\n",
       "      <th>Cash /Cashless Type</th>\n",
       "      <th>Claim No.</th>\n",
       "      <th>Cust Type</th>\n",
       "      <th>Customer No.</th>\n",
       "      <th>District</th>\n",
       "      <th>Expiry Date</th>\n",
       "      <th>Gate Pass Date</th>\n",
       "      <th>Gate Pass Time</th>\n",
       "      <th>IGST(12%)</th>\n",
       "      <th>IGST(18%)</th>\n",
       "      <th>IGST(28%)</th>\n",
       "      <th>IGST(5%)</th>\n",
       "      <th>Insurance Company</th>\n",
       "      <th>Invoice Date</th>\n",
       "      <th>Invoice No</th>\n",
       "      <th>Invoice Time</th>\n",
       "      <th>Job Card No</th>\n",
       "      <th>JobCard Date</th>\n",
       "      <th>JobCard Time</th>\n",
       "      <th>KMs Reading</th>\n",
       "      <th>Labour Total</th>\n",
       "      <th>Make</th>\n",
       "      <th>Misc Total</th>\n",
       "      <th>Model</th>\n",
       "      <th>ODN No.</th>\n",
       "      <th>OSL Total</th>\n",
       "      <th>Order Type</th>\n",
       "      <th>Outstanding Amt</th>\n",
       "      <th>Parts Total</th>\n",
       "      <th>Pin code</th>\n",
       "      <th>Plant</th>\n",
       "      <th>Plant Name1</th>\n",
       "      <th>Policy no.</th>\n",
       "      <th>Print Status</th>\n",
       "      <th>Recovrbl Exp</th>\n",
       "      <th>Regn No</th>\n",
       "      <th>SGST/UGST(14%)</th>\n",
       "      <th>SGST/UGST(2.5%)</th>\n",
       "      <th>SGST/UGST(6%)</th>\n",
       "      <th>SGST/UGST(9%)</th>\n",
       "      <th>Service Advisor Name</th>\n",
       "      <th>TDS amount</th>\n",
       "      <th>Technician Name</th>\n",
       "      <th>Total_Expense</th>\n",
       "      <th>Total CGST</th>\n",
       "      <th>Total GST</th>\n",
       "      <th>Total IGST</th>\n",
       "      <th>Total SGST/UGST</th>\n",
       "      <th>Total Value</th>\n",
       "      <th>User ID</th>\n",
       "      <th>City</th>\n",
       "      <th>Invoice_DateTime</th>\n",
       "      <th>JobCard_DateTime</th>\n",
       "      <th>Service_Time</th>\n",
       "      <th>Job_duration(in hrs)</th>\n",
       "      <th>Year</th>\n",
       "      <th>month</th>\n",
       "    </tr>\n",
       "  </thead>\n",
       "  <tbody>\n",
       "    <tr>\n",
       "      <th>0</th>\n",
       "      <td>0</td>\n",
       "      <td>0.0</td>\n",
       "      <td>0.0</td>\n",
       "      <td>MAJIWADA</td>\n",
       "      <td>0.0</td>\n",
       "      <td>0.0</td>\n",
       "      <td>0.0</td>\n",
       "      <td>0.0</td>\n",
       "      <td>Thane</td>\n",
       "      <td>NaN</td>\n",
       "      <td>NaN</td>\n",
       "      <td>Retail</td>\n",
       "      <td>67849</td>\n",
       "      <td>Maharashtra</td>\n",
       "      <td>NaN</td>\n",
       "      <td>NaN</td>\n",
       "      <td>00:00:00</td>\n",
       "      <td>0.0</td>\n",
       "      <td>0.0</td>\n",
       "      <td>0.0</td>\n",
       "      <td>0.0</td>\n",
       "      <td>NaN</td>\n",
       "      <td>2015-01-02</td>\n",
       "      <td>7005200002</td>\n",
       "      <td>11:30:36</td>\n",
       "      <td>168303</td>\n",
       "      <td>2014-12-13</td>\n",
       "      <td>14:29:43</td>\n",
       "      <td>49317</td>\n",
       "      <td>1203.14</td>\n",
       "      <td>GENERAL MOTORS</td>\n",
       "      <td>0.00</td>\n",
       "      <td>SPARK</td>\n",
       "      <td>7.005200e+09</td>\n",
       "      <td>500.06</td>\n",
       "      <td>Paid Service</td>\n",
       "      <td>0.0</td>\n",
       "      <td>2348.75</td>\n",
       "      <td>400601</td>\n",
       "      <td>BC01</td>\n",
       "      <td>THANE</td>\n",
       "      <td>NaN</td>\n",
       "      <td>NO</td>\n",
       "      <td>0.0</td>\n",
       "      <td>KA19MA1291</td>\n",
       "      <td>0.0</td>\n",
       "      <td>0.0</td>\n",
       "      <td>0.0</td>\n",
       "      <td>0.0</td>\n",
       "      <td>NaN</td>\n",
       "      <td>0.0</td>\n",
       "      <td>RUPESH</td>\n",
       "      <td>4051.95</td>\n",
       "      <td>0.0</td>\n",
       "      <td>0.0</td>\n",
       "      <td>0.0</td>\n",
       "      <td>0.0</td>\n",
       "      <td>4051.95</td>\n",
       "      <td>BC01FS1</td>\n",
       "      <td>Thane</td>\n",
       "      <td>2015-01-02 11:30:36</td>\n",
       "      <td>2014-12-13 14:29:43</td>\n",
       "      <td>19 days 21:00:53</td>\n",
       "      <td>477.0</td>\n",
       "      <td>2014</td>\n",
       "      <td>12</td>\n",
       "    </tr>\n",
       "    <tr>\n",
       "      <th>1</th>\n",
       "      <td>1</td>\n",
       "      <td>0.0</td>\n",
       "      <td>0.0</td>\n",
       "      <td>THNAE</td>\n",
       "      <td>0.0</td>\n",
       "      <td>0.0</td>\n",
       "      <td>0.0</td>\n",
       "      <td>0.0</td>\n",
       "      <td>THNAE</td>\n",
       "      <td>NaN</td>\n",
       "      <td>NaN</td>\n",
       "      <td>Retail</td>\n",
       "      <td>84419</td>\n",
       "      <td>Maharashtra</td>\n",
       "      <td>NaN</td>\n",
       "      <td>NaN</td>\n",
       "      <td>00:00:00</td>\n",
       "      <td>0.0</td>\n",
       "      <td>0.0</td>\n",
       "      <td>0.0</td>\n",
       "      <td>0.0</td>\n",
       "      <td>NaN</td>\n",
       "      <td>2015-01-03</td>\n",
       "      <td>7005200003</td>\n",
       "      <td>10:07:32</td>\n",
       "      <td>173997</td>\n",
       "      <td>2015-01-02</td>\n",
       "      <td>14:12:18</td>\n",
       "      <td>78584</td>\n",
       "      <td>804.26</td>\n",
       "      <td>TATA MOTORS</td>\n",
       "      <td>197.03</td>\n",
       "      <td>INDICA</td>\n",
       "      <td>7.005200e+09</td>\n",
       "      <td>0.00</td>\n",
       "      <td>SMC Value Package</td>\n",
       "      <td>0.0</td>\n",
       "      <td>0.00</td>\n",
       "      <td>400603</td>\n",
       "      <td>BC01</td>\n",
       "      <td>THANE</td>\n",
       "      <td>NaN</td>\n",
       "      <td>NO</td>\n",
       "      <td>0.0</td>\n",
       "      <td>MH43R3046</td>\n",
       "      <td>0.0</td>\n",
       "      <td>0.0</td>\n",
       "      <td>0.0</td>\n",
       "      <td>0.0</td>\n",
       "      <td>NaN</td>\n",
       "      <td>0.0</td>\n",
       "      <td>PRASHANT</td>\n",
       "      <td>1001.29</td>\n",
       "      <td>0.0</td>\n",
       "      <td>0.0</td>\n",
       "      <td>0.0</td>\n",
       "      <td>0.0</td>\n",
       "      <td>1001.29</td>\n",
       "      <td>BC01SA2</td>\n",
       "      <td>Thane</td>\n",
       "      <td>2015-01-03 10:07:32</td>\n",
       "      <td>2015-01-02 14:12:18</td>\n",
       "      <td>0 days 19:55:14</td>\n",
       "      <td>19.0</td>\n",
       "      <td>2015</td>\n",
       "      <td>1</td>\n",
       "    </tr>\n",
       "    <tr>\n",
       "      <th>2</th>\n",
       "      <td>2</td>\n",
       "      <td>0.0</td>\n",
       "      <td>0.0</td>\n",
       "      <td>THANE</td>\n",
       "      <td>0.0</td>\n",
       "      <td>0.0</td>\n",
       "      <td>0.0</td>\n",
       "      <td>0.0</td>\n",
       "      <td>THANE[W]</td>\n",
       "      <td>NaN</td>\n",
       "      <td>NaN</td>\n",
       "      <td>Retail</td>\n",
       "      <td>81055</td>\n",
       "      <td>Maharashtra</td>\n",
       "      <td>NaN</td>\n",
       "      <td>NaN</td>\n",
       "      <td>00:00:00</td>\n",
       "      <td>0.0</td>\n",
       "      <td>0.0</td>\n",
       "      <td>0.0</td>\n",
       "      <td>0.0</td>\n",
       "      <td>NaN</td>\n",
       "      <td>2015-01-03</td>\n",
       "      <td>7005200004</td>\n",
       "      <td>11:12:57</td>\n",
       "      <td>173889</td>\n",
       "      <td>2015-01-02</td>\n",
       "      <td>11:40:44</td>\n",
       "      <td>33985</td>\n",
       "      <td>180.19</td>\n",
       "      <td>MARUTI SUZUKI</td>\n",
       "      <td>0.00</td>\n",
       "      <td>ZEN</td>\n",
       "      <td>7.005200e+09</td>\n",
       "      <td>0.00</td>\n",
       "      <td>Running Repairs</td>\n",
       "      <td>0.0</td>\n",
       "      <td>52.95</td>\n",
       "      <td>400607</td>\n",
       "      <td>BC01</td>\n",
       "      <td>THANE</td>\n",
       "      <td>NaN</td>\n",
       "      <td>NO</td>\n",
       "      <td>0.0</td>\n",
       "      <td>AP09AX0582</td>\n",
       "      <td>0.0</td>\n",
       "      <td>0.0</td>\n",
       "      <td>0.0</td>\n",
       "      <td>0.0</td>\n",
       "      <td>NaN</td>\n",
       "      <td>0.0</td>\n",
       "      <td>IMRAN</td>\n",
       "      <td>233.14</td>\n",
       "      <td>0.0</td>\n",
       "      <td>0.0</td>\n",
       "      <td>0.0</td>\n",
       "      <td>0.0</td>\n",
       "      <td>233.14</td>\n",
       "      <td>BC01SA2</td>\n",
       "      <td>Thane</td>\n",
       "      <td>2015-01-03 11:12:57</td>\n",
       "      <td>2015-01-02 11:40:44</td>\n",
       "      <td>0 days 23:32:13</td>\n",
       "      <td>23.0</td>\n",
       "      <td>2015</td>\n",
       "      <td>1</td>\n",
       "    </tr>\n",
       "    <tr>\n",
       "      <th>3</th>\n",
       "      <td>3</td>\n",
       "      <td>0.0</td>\n",
       "      <td>0.0</td>\n",
       "      <td>THNAE</td>\n",
       "      <td>0.0</td>\n",
       "      <td>0.0</td>\n",
       "      <td>0.0</td>\n",
       "      <td>0.0</td>\n",
       "      <td>THNAE</td>\n",
       "      <td>NaN</td>\n",
       "      <td>NaN</td>\n",
       "      <td>Retail</td>\n",
       "      <td>84419</td>\n",
       "      <td>Maharashtra</td>\n",
       "      <td>NaN</td>\n",
       "      <td>NaN</td>\n",
       "      <td>00:00:00</td>\n",
       "      <td>0.0</td>\n",
       "      <td>0.0</td>\n",
       "      <td>0.0</td>\n",
       "      <td>0.0</td>\n",
       "      <td>NaN</td>\n",
       "      <td>2015-01-03</td>\n",
       "      <td>7005200005</td>\n",
       "      <td>11:40:44</td>\n",
       "      <td>174158</td>\n",
       "      <td>2015-01-03</td>\n",
       "      <td>10:12:32</td>\n",
       "      <td>78584</td>\n",
       "      <td>0.00</td>\n",
       "      <td>TATA MOTORS</td>\n",
       "      <td>0.00</td>\n",
       "      <td>INDICA</td>\n",
       "      <td>7.005200e+09</td>\n",
       "      <td>0.00</td>\n",
       "      <td>SMC Redemption</td>\n",
       "      <td>0.0</td>\n",
       "      <td>0.00</td>\n",
       "      <td>400603</td>\n",
       "      <td>BC01</td>\n",
       "      <td>THANE</td>\n",
       "      <td>NaN</td>\n",
       "      <td>NO</td>\n",
       "      <td>0.0</td>\n",
       "      <td>MH43R3046</td>\n",
       "      <td>0.0</td>\n",
       "      <td>0.0</td>\n",
       "      <td>0.0</td>\n",
       "      <td>0.0</td>\n",
       "      <td>NaN</td>\n",
       "      <td>0.0</td>\n",
       "      <td>PRASHANT</td>\n",
       "      <td>0.00</td>\n",
       "      <td>0.0</td>\n",
       "      <td>0.0</td>\n",
       "      <td>0.0</td>\n",
       "      <td>0.0</td>\n",
       "      <td>0.00</td>\n",
       "      <td>BC01SA2</td>\n",
       "      <td>Thane</td>\n",
       "      <td>2015-01-03 11:40:44</td>\n",
       "      <td>2015-01-03 10:12:32</td>\n",
       "      <td>0 days 01:28:12</td>\n",
       "      <td>1.0</td>\n",
       "      <td>2015</td>\n",
       "      <td>1</td>\n",
       "    </tr>\n",
       "    <tr>\n",
       "      <th>4</th>\n",
       "      <td>4</td>\n",
       "      <td>0.0</td>\n",
       "      <td>0.0</td>\n",
       "      <td>THANE</td>\n",
       "      <td>0.0</td>\n",
       "      <td>0.0</td>\n",
       "      <td>0.0</td>\n",
       "      <td>0.0</td>\n",
       "      <td>THANE</td>\n",
       "      <td>NaN</td>\n",
       "      <td>NaN</td>\n",
       "      <td>Retail</td>\n",
       "      <td>18980</td>\n",
       "      <td>Maharashtra</td>\n",
       "      <td>NaN</td>\n",
       "      <td>NaN</td>\n",
       "      <td>00:00:00</td>\n",
       "      <td>0.0</td>\n",
       "      <td>0.0</td>\n",
       "      <td>0.0</td>\n",
       "      <td>0.0</td>\n",
       "      <td>NaN</td>\n",
       "      <td>2015-01-03</td>\n",
       "      <td>7005200006</td>\n",
       "      <td>12:07:17</td>\n",
       "      <td>173860</td>\n",
       "      <td>2015-01-02</td>\n",
       "      <td>10:45:42</td>\n",
       "      <td>50057</td>\n",
       "      <td>1202.97</td>\n",
       "      <td>HYUNDAI</td>\n",
       "      <td>100.00</td>\n",
       "      <td>SANTRO XING</td>\n",
       "      <td>7.005200e+09</td>\n",
       "      <td>499.99</td>\n",
       "      <td>Paid Service</td>\n",
       "      <td>0.0</td>\n",
       "      <td>944.16</td>\n",
       "      <td>400603</td>\n",
       "      <td>BC01</td>\n",
       "      <td>THANE</td>\n",
       "      <td>NaN</td>\n",
       "      <td>NO</td>\n",
       "      <td>0.0</td>\n",
       "      <td>MH04CD9768</td>\n",
       "      <td>0.0</td>\n",
       "      <td>0.0</td>\n",
       "      <td>0.0</td>\n",
       "      <td>0.0</td>\n",
       "      <td>NaN</td>\n",
       "      <td>0.0</td>\n",
       "      <td>DAYANAND</td>\n",
       "      <td>2747.12</td>\n",
       "      <td>0.0</td>\n",
       "      <td>0.0</td>\n",
       "      <td>0.0</td>\n",
       "      <td>0.0</td>\n",
       "      <td>2747.12</td>\n",
       "      <td>BC01SA2</td>\n",
       "      <td>Thane</td>\n",
       "      <td>2015-01-03 12:07:17</td>\n",
       "      <td>2015-01-02 10:45:42</td>\n",
       "      <td>1 days 01:21:35</td>\n",
       "      <td>25.0</td>\n",
       "      <td>2015</td>\n",
       "      <td>1</td>\n",
       "    </tr>\n",
       "  </tbody>\n",
       "</table>\n",
       "</div>"
      ],
      "text/plain": [
       "   Unnamed: 0  Amt Rcvd From Custom  Amt Rcvd From Ins Co Area / Locality  \\\n",
       "0           0                   0.0                   0.0        MAJIWADA   \n",
       "1           1                   0.0                   0.0           THNAE   \n",
       "2           2                   0.0                   0.0           THANE   \n",
       "3           3                   0.0                   0.0           THNAE   \n",
       "4           4                   0.0                   0.0           THANE   \n",
       "\n",
       "   CGST(14%)  CGST(2.5%)  CGST(6%)  CGST(9%)      CITY Cash /Cashless Type  \\\n",
       "0        0.0         0.0       0.0       0.0     Thane                 NaN   \n",
       "1        0.0         0.0       0.0       0.0     THNAE                 NaN   \n",
       "2        0.0         0.0       0.0       0.0  THANE[W]                 NaN   \n",
       "3        0.0         0.0       0.0       0.0     THNAE                 NaN   \n",
       "4        0.0         0.0       0.0       0.0     THANE                 NaN   \n",
       "\n",
       "  Claim No. Cust Type Customer No.     District Expiry Date Gate Pass Date  \\\n",
       "0       NaN    Retail        67849  Maharashtra         NaN            NaN   \n",
       "1       NaN    Retail        84419  Maharashtra         NaN            NaN   \n",
       "2       NaN    Retail        81055  Maharashtra         NaN            NaN   \n",
       "3       NaN    Retail        84419  Maharashtra         NaN            NaN   \n",
       "4       NaN    Retail        18980  Maharashtra         NaN            NaN   \n",
       "\n",
       "  Gate Pass Time  IGST(12%)  IGST(18%)  IGST(28%)  IGST(5%) Insurance Company  \\\n",
       "0       00:00:00        0.0        0.0        0.0       0.0               NaN   \n",
       "1       00:00:00        0.0        0.0        0.0       0.0               NaN   \n",
       "2       00:00:00        0.0        0.0        0.0       0.0               NaN   \n",
       "3       00:00:00        0.0        0.0        0.0       0.0               NaN   \n",
       "4       00:00:00        0.0        0.0        0.0       0.0               NaN   \n",
       "\n",
       "  Invoice Date  Invoice No Invoice Time  Job Card No JobCard Date  \\\n",
       "0   2015-01-02  7005200002     11:30:36       168303   2014-12-13   \n",
       "1   2015-01-03  7005200003     10:07:32       173997   2015-01-02   \n",
       "2   2015-01-03  7005200004     11:12:57       173889   2015-01-02   \n",
       "3   2015-01-03  7005200005     11:40:44       174158   2015-01-03   \n",
       "4   2015-01-03  7005200006     12:07:17       173860   2015-01-02   \n",
       "\n",
       "  JobCard Time  KMs Reading  Labour Total            Make  Misc Total  \\\n",
       "0     14:29:43        49317       1203.14  GENERAL MOTORS        0.00   \n",
       "1     14:12:18        78584        804.26     TATA MOTORS      197.03   \n",
       "2     11:40:44        33985        180.19   MARUTI SUZUKI        0.00   \n",
       "3     10:12:32        78584          0.00     TATA MOTORS        0.00   \n",
       "4     10:45:42        50057       1202.97         HYUNDAI      100.00   \n",
       "\n",
       "         Model       ODN No.  OSL Total         Order Type  Outstanding Amt  \\\n",
       "0        SPARK  7.005200e+09     500.06       Paid Service              0.0   \n",
       "1       INDICA  7.005200e+09       0.00  SMC Value Package              0.0   \n",
       "2          ZEN  7.005200e+09       0.00    Running Repairs              0.0   \n",
       "3       INDICA  7.005200e+09       0.00     SMC Redemption              0.0   \n",
       "4  SANTRO XING  7.005200e+09     499.99       Paid Service              0.0   \n",
       "\n",
       "   Parts Total  Pin code Plant Plant Name1 Policy no. Print Status  \\\n",
       "0      2348.75    400601  BC01       THANE        NaN           NO   \n",
       "1         0.00    400603  BC01       THANE        NaN           NO   \n",
       "2        52.95    400607  BC01       THANE        NaN           NO   \n",
       "3         0.00    400603  BC01       THANE        NaN           NO   \n",
       "4       944.16    400603  BC01       THANE        NaN           NO   \n",
       "\n",
       "   Recovrbl Exp     Regn No  SGST/UGST(14%)  SGST/UGST(2.5%)  SGST/UGST(6%)  \\\n",
       "0           0.0  KA19MA1291             0.0              0.0            0.0   \n",
       "1           0.0   MH43R3046             0.0              0.0            0.0   \n",
       "2           0.0  AP09AX0582             0.0              0.0            0.0   \n",
       "3           0.0   MH43R3046             0.0              0.0            0.0   \n",
       "4           0.0  MH04CD9768             0.0              0.0            0.0   \n",
       "\n",
       "   SGST/UGST(9%)  Service Advisor Name  TDS amount Technician Name  \\\n",
       "0            0.0                   NaN         0.0          RUPESH   \n",
       "1            0.0                   NaN         0.0        PRASHANT   \n",
       "2            0.0                   NaN         0.0           IMRAN   \n",
       "3            0.0                   NaN         0.0        PRASHANT   \n",
       "4            0.0                   NaN         0.0        DAYANAND   \n",
       "\n",
       "   Total_Expense  Total CGST  Total GST  Total IGST  Total SGST/UGST  \\\n",
       "0        4051.95         0.0        0.0         0.0              0.0   \n",
       "1        1001.29         0.0        0.0         0.0              0.0   \n",
       "2         233.14         0.0        0.0         0.0              0.0   \n",
       "3           0.00         0.0        0.0         0.0              0.0   \n",
       "4        2747.12         0.0        0.0         0.0              0.0   \n",
       "\n",
       "   Total Value  User ID   City    Invoice_DateTime    JobCard_DateTime  \\\n",
       "0      4051.95  BC01FS1  Thane 2015-01-02 11:30:36 2014-12-13 14:29:43   \n",
       "1      1001.29  BC01SA2  Thane 2015-01-03 10:07:32 2015-01-02 14:12:18   \n",
       "2       233.14  BC01SA2  Thane 2015-01-03 11:12:57 2015-01-02 11:40:44   \n",
       "3         0.00  BC01SA2  Thane 2015-01-03 11:40:44 2015-01-03 10:12:32   \n",
       "4      2747.12  BC01SA2  Thane 2015-01-03 12:07:17 2015-01-02 10:45:42   \n",
       "\n",
       "      Service_Time  Job_duration(in hrs)  Year  month  \n",
       "0 19 days 21:00:53                 477.0  2014     12  \n",
       "1  0 days 19:55:14                  19.0  2015      1  \n",
       "2  0 days 23:32:13                  23.0  2015      1  \n",
       "3  0 days 01:28:12                   1.0  2015      1  \n",
       "4  1 days 01:21:35                  25.0  2015      1  "
      ]
     },
     "execution_count": 14,
     "metadata": {},
     "output_type": "execute_result"
    }
   ],
   "source": [
    "df.head()"
   ]
  },
  {
   "cell_type": "code",
   "execution_count": null,
   "metadata": {},
   "outputs": [],
   "source": []
  },
  {
   "cell_type": "code",
   "execution_count": null,
   "metadata": {},
   "outputs": [],
   "source": []
  },
  {
   "cell_type": "code",
   "execution_count": null,
   "metadata": {},
   "outputs": [],
   "source": []
  },
  {
   "cell_type": "code",
   "execution_count": 15,
   "metadata": {},
   "outputs": [
    {
     "data": {
      "text/html": [
       "<div>\n",
       "<style scoped>\n",
       "    .dataframe tbody tr th:only-of-type {\n",
       "        vertical-align: middle;\n",
       "    }\n",
       "\n",
       "    .dataframe tbody tr th {\n",
       "        vertical-align: top;\n",
       "    }\n",
       "\n",
       "    .dataframe thead th {\n",
       "        text-align: right;\n",
       "    }\n",
       "</style>\n",
       "<table border=\"1\" class=\"dataframe\">\n",
       "  <thead>\n",
       "    <tr style=\"text-align: right;\">\n",
       "      <th></th>\n",
       "      <th>Unnamed: 0</th>\n",
       "      <th>Amt Rcvd From Custom</th>\n",
       "      <th>Amt Rcvd From Ins Co</th>\n",
       "      <th>Area / Locality</th>\n",
       "      <th>CGST(14%)</th>\n",
       "      <th>CGST(2.5%)</th>\n",
       "      <th>CGST(6%)</th>\n",
       "      <th>CGST(9%)</th>\n",
       "      <th>CITY</th>\n",
       "      <th>Cash /Cashless Type</th>\n",
       "      <th>Claim No.</th>\n",
       "      <th>Cust Type</th>\n",
       "      <th>Customer No.</th>\n",
       "      <th>District</th>\n",
       "      <th>Expiry Date</th>\n",
       "      <th>Gate Pass Date</th>\n",
       "      <th>Gate Pass Time</th>\n",
       "      <th>IGST(12%)</th>\n",
       "      <th>IGST(18%)</th>\n",
       "      <th>IGST(28%)</th>\n",
       "      <th>IGST(5%)</th>\n",
       "      <th>Insurance Company</th>\n",
       "      <th>Invoice Date</th>\n",
       "      <th>Invoice No</th>\n",
       "      <th>Invoice Time</th>\n",
       "      <th>Job Card No</th>\n",
       "      <th>JobCard Date</th>\n",
       "      <th>JobCard Time</th>\n",
       "      <th>KMs Reading</th>\n",
       "      <th>Labour Total</th>\n",
       "      <th>Make</th>\n",
       "      <th>Misc Total</th>\n",
       "      <th>Model</th>\n",
       "      <th>ODN No.</th>\n",
       "      <th>OSL Total</th>\n",
       "      <th>Order Type</th>\n",
       "      <th>Outstanding Amt</th>\n",
       "      <th>Parts Total</th>\n",
       "      <th>Pin code</th>\n",
       "      <th>Plant</th>\n",
       "      <th>Plant Name1</th>\n",
       "      <th>Policy no.</th>\n",
       "      <th>Print Status</th>\n",
       "      <th>Recovrbl Exp</th>\n",
       "      <th>Regn No</th>\n",
       "      <th>SGST/UGST(14%)</th>\n",
       "      <th>SGST/UGST(2.5%)</th>\n",
       "      <th>SGST/UGST(6%)</th>\n",
       "      <th>SGST/UGST(9%)</th>\n",
       "      <th>Service Advisor Name</th>\n",
       "      <th>TDS amount</th>\n",
       "      <th>Technician Name</th>\n",
       "      <th>Total_Expense</th>\n",
       "      <th>Total CGST</th>\n",
       "      <th>Total GST</th>\n",
       "      <th>Total IGST</th>\n",
       "      <th>Total SGST/UGST</th>\n",
       "      <th>Total Value</th>\n",
       "      <th>User ID</th>\n",
       "      <th>City</th>\n",
       "      <th>Invoice_DateTime</th>\n",
       "      <th>JobCard_DateTime</th>\n",
       "      <th>Service_Time</th>\n",
       "      <th>Job_duration(in hrs)</th>\n",
       "      <th>Year</th>\n",
       "      <th>month</th>\n",
       "    </tr>\n",
       "  </thead>\n",
       "  <tbody>\n",
       "    <tr>\n",
       "      <th>359015</th>\n",
       "      <td>794156</td>\n",
       "      <td>NaN</td>\n",
       "      <td>NaN</td>\n",
       "      <td>PUDUPAKKAM</td>\n",
       "      <td>NaN</td>\n",
       "      <td>NaN</td>\n",
       "      <td>NaN</td>\n",
       "      <td>NaN</td>\n",
       "      <td>CHENNAI</td>\n",
       "      <td>NaN</td>\n",
       "      <td>NaN</td>\n",
       "      <td>Retail</td>\n",
       "      <td>182085</td>\n",
       "      <td>Tamil Nadu</td>\n",
       "      <td>NaN</td>\n",
       "      <td>NaN</td>\n",
       "      <td>00:00:00</td>\n",
       "      <td>NaN</td>\n",
       "      <td>NaN</td>\n",
       "      <td>NaN</td>\n",
       "      <td>NaN</td>\n",
       "      <td>NaN</td>\n",
       "      <td>2016-05-02</td>\n",
       "      <td>7167000988</td>\n",
       "      <td>15:12:11</td>\n",
       "      <td>363294</td>\n",
       "      <td>2016-05-02</td>\n",
       "      <td>15:12:44</td>\n",
       "      <td>62001</td>\n",
       "      <td>0.0</td>\n",
       "      <td>MARUTI SUZUKI</td>\n",
       "      <td>0.0</td>\n",
       "      <td>SWIFT DZIRE</td>\n",
       "      <td>NaN</td>\n",
       "      <td>0.0</td>\n",
       "      <td>Running Repairs</td>\n",
       "      <td>NaN</td>\n",
       "      <td>0.0</td>\n",
       "      <td>603103</td>\n",
       "      <td>X085</td>\n",
       "      <td>X085 - SRI MOTORS</td>\n",
       "      <td>NaN</td>\n",
       "      <td>NO</td>\n",
       "      <td>0.0</td>\n",
       "      <td>TN19M6594</td>\n",
       "      <td>NaN</td>\n",
       "      <td>NaN</td>\n",
       "      <td>NaN</td>\n",
       "      <td>NaN</td>\n",
       "      <td>NaN</td>\n",
       "      <td>NaN</td>\n",
       "      <td>NaN</td>\n",
       "      <td>0.0</td>\n",
       "      <td>NaN</td>\n",
       "      <td>NaN</td>\n",
       "      <td>NaN</td>\n",
       "      <td>NaN</td>\n",
       "      <td>NaN</td>\n",
       "      <td>X085SA1</td>\n",
       "      <td>Kanchipuram</td>\n",
       "      <td>2016-05-02 15:12:11</td>\n",
       "      <td>2016-05-02 15:12:44</td>\n",
       "      <td>-1 days +23:59:27</td>\n",
       "      <td>-1.0</td>\n",
       "      <td>2016</td>\n",
       "      <td>5</td>\n",
       "    </tr>\n",
       "  </tbody>\n",
       "</table>\n",
       "</div>"
      ],
      "text/plain": [
       "        Unnamed: 0  Amt Rcvd From Custom  Amt Rcvd From Ins Co  \\\n",
       "359015      794156                   NaN                   NaN   \n",
       "\n",
       "       Area / Locality  CGST(14%)  CGST(2.5%)  CGST(6%)  CGST(9%)     CITY  \\\n",
       "359015      PUDUPAKKAM        NaN         NaN       NaN       NaN  CHENNAI   \n",
       "\n",
       "       Cash /Cashless Type Claim No. Cust Type Customer No.    District  \\\n",
       "359015                 NaN       NaN    Retail       182085  Tamil Nadu   \n",
       "\n",
       "       Expiry Date Gate Pass Date Gate Pass Time  IGST(12%)  IGST(18%)  \\\n",
       "359015         NaN            NaN       00:00:00        NaN        NaN   \n",
       "\n",
       "        IGST(28%)  IGST(5%) Insurance Company Invoice Date  Invoice No  \\\n",
       "359015        NaN       NaN               NaN   2016-05-02  7167000988   \n",
       "\n",
       "       Invoice Time  Job Card No JobCard Date JobCard Time  KMs Reading  \\\n",
       "359015     15:12:11       363294   2016-05-02     15:12:44        62001   \n",
       "\n",
       "        Labour Total           Make  Misc Total        Model  ODN No.  \\\n",
       "359015           0.0  MARUTI SUZUKI         0.0  SWIFT DZIRE      NaN   \n",
       "\n",
       "        OSL Total       Order Type  Outstanding Amt  Parts Total  Pin code  \\\n",
       "359015        0.0  Running Repairs              NaN          0.0    603103   \n",
       "\n",
       "       Plant        Plant Name1 Policy no. Print Status  Recovrbl Exp  \\\n",
       "359015  X085  X085 - SRI MOTORS        NaN           NO           0.0   \n",
       "\n",
       "          Regn No  SGST/UGST(14%)  SGST/UGST(2.5%)  SGST/UGST(6%)  \\\n",
       "359015  TN19M6594             NaN              NaN            NaN   \n",
       "\n",
       "        SGST/UGST(9%)  Service Advisor Name  TDS amount Technician Name  \\\n",
       "359015            NaN                   NaN         NaN             NaN   \n",
       "\n",
       "        Total_Expense  Total CGST  Total GST  Total IGST  Total SGST/UGST  \\\n",
       "359015            0.0         NaN        NaN         NaN              NaN   \n",
       "\n",
       "        Total Value  User ID         City    Invoice_DateTime  \\\n",
       "359015          NaN  X085SA1  Kanchipuram 2016-05-02 15:12:11   \n",
       "\n",
       "          JobCard_DateTime      Service_Time  Job_duration(in hrs)  Year  \\\n",
       "359015 2016-05-02 15:12:44 -1 days +23:59:27                  -1.0  2016   \n",
       "\n",
       "        month  \n",
       "359015      5  "
      ]
     },
     "execution_count": 15,
     "metadata": {},
     "output_type": "execute_result"
    }
   ],
   "source": [
    "df[df['Job_duration(in hrs)']<0]"
   ]
  },
  {
   "cell_type": "code",
   "execution_count": 16,
   "metadata": {},
   "outputs": [],
   "source": [
    "# df.drop(index=359015,axis=0,inplace=True)"
   ]
  },
  {
   "cell_type": "code",
   "execution_count": 17,
   "metadata": {},
   "outputs": [
    {
     "data": {
      "text/plain": [
       "2016    196156\n",
       "2015    125393\n",
       "2014     95777\n",
       "2013     56240\n",
       "2012     18748\n",
       "Name: Year, dtype: int64"
      ]
     },
     "execution_count": 17,
     "metadata": {},
     "output_type": "execute_result"
    }
   ],
   "source": [
    "df.Year.value_counts()"
   ]
  },
  {
   "cell_type": "code",
   "execution_count": 18,
   "metadata": {},
   "outputs": [],
   "source": [
    "# df.columns"
   ]
  },
  {
   "cell_type": "code",
   "execution_count": 19,
   "metadata": {},
   "outputs": [
    {
     "data": {
      "text/plain": [
       "(492314, 66)"
      ]
     },
     "execution_count": 19,
     "metadata": {},
     "output_type": "execute_result"
    }
   ],
   "source": [
    "df.shape"
   ]
  },
  {
   "cell_type": "code",
   "execution_count": 20,
   "metadata": {},
   "outputs": [
    {
     "data": {
      "text/plain": [
       "492314"
      ]
     },
     "execution_count": 20,
     "metadata": {},
     "output_type": "execute_result"
    }
   ],
   "source": [
    "len(df['Invoice No'].unique())"
   ]
  },
  {
   "cell_type": "code",
   "execution_count": 21,
   "metadata": {},
   "outputs": [
    {
     "data": {
      "text/plain": [
       "253484"
      ]
     },
     "execution_count": 21,
     "metadata": {},
     "output_type": "execute_result"
    }
   ],
   "source": [
    "len(df['Customer No.'].unique())"
   ]
  },
  {
   "cell_type": "code",
   "execution_count": 22,
   "metadata": {},
   "outputs": [
    {
     "data": {
      "text/plain": [
       "2016    196156\n",
       "2015    125393\n",
       "2014     95777\n",
       "2013     56240\n",
       "2012     18748\n",
       "Name: Year, dtype: int64"
      ]
     },
     "execution_count": 22,
     "metadata": {},
     "output_type": "execute_result"
    }
   ],
   "source": [
    "df.Year.value_counts()"
   ]
  },
  {
   "cell_type": "code",
   "execution_count": 23,
   "metadata": {},
   "outputs": [],
   "source": [
    "year_16=df[df[\"Year\"]==2016]"
   ]
  },
  {
   "cell_type": "code",
   "execution_count": 24,
   "metadata": {},
   "outputs": [],
   "source": [
    "year_16.drop([\"Unnamed: 0\"],1,inplace=True)"
   ]
  },
  {
   "cell_type": "code",
   "execution_count": 25,
   "metadata": {},
   "outputs": [
    {
     "data": {
      "text/html": [
       "<div>\n",
       "<style scoped>\n",
       "    .dataframe tbody tr th:only-of-type {\n",
       "        vertical-align: middle;\n",
       "    }\n",
       "\n",
       "    .dataframe tbody tr th {\n",
       "        vertical-align: top;\n",
       "    }\n",
       "\n",
       "    .dataframe thead th {\n",
       "        text-align: right;\n",
       "    }\n",
       "</style>\n",
       "<table border=\"1\" class=\"dataframe\">\n",
       "  <thead>\n",
       "    <tr style=\"text-align: right;\">\n",
       "      <th></th>\n",
       "      <th>Amt Rcvd From Custom</th>\n",
       "      <th>Amt Rcvd From Ins Co</th>\n",
       "      <th>Area / Locality</th>\n",
       "      <th>CGST(14%)</th>\n",
       "      <th>CGST(2.5%)</th>\n",
       "      <th>CGST(6%)</th>\n",
       "      <th>CGST(9%)</th>\n",
       "      <th>CITY</th>\n",
       "      <th>Cash /Cashless Type</th>\n",
       "      <th>Claim No.</th>\n",
       "      <th>Cust Type</th>\n",
       "      <th>Customer No.</th>\n",
       "      <th>District</th>\n",
       "      <th>Expiry Date</th>\n",
       "      <th>Gate Pass Date</th>\n",
       "      <th>Gate Pass Time</th>\n",
       "      <th>IGST(12%)</th>\n",
       "      <th>IGST(18%)</th>\n",
       "      <th>IGST(28%)</th>\n",
       "      <th>IGST(5%)</th>\n",
       "      <th>Insurance Company</th>\n",
       "      <th>Invoice Date</th>\n",
       "      <th>Invoice No</th>\n",
       "      <th>Invoice Time</th>\n",
       "      <th>Job Card No</th>\n",
       "      <th>JobCard Date</th>\n",
       "      <th>JobCard Time</th>\n",
       "      <th>KMs Reading</th>\n",
       "      <th>Labour Total</th>\n",
       "      <th>Make</th>\n",
       "      <th>Misc Total</th>\n",
       "      <th>Model</th>\n",
       "      <th>ODN No.</th>\n",
       "      <th>OSL Total</th>\n",
       "      <th>Order Type</th>\n",
       "      <th>Outstanding Amt</th>\n",
       "      <th>Parts Total</th>\n",
       "      <th>Pin code</th>\n",
       "      <th>Plant</th>\n",
       "      <th>Plant Name1</th>\n",
       "      <th>Policy no.</th>\n",
       "      <th>Print Status</th>\n",
       "      <th>Recovrbl Exp</th>\n",
       "      <th>Regn No</th>\n",
       "      <th>SGST/UGST(14%)</th>\n",
       "      <th>SGST/UGST(2.5%)</th>\n",
       "      <th>SGST/UGST(6%)</th>\n",
       "      <th>SGST/UGST(9%)</th>\n",
       "      <th>Service Advisor Name</th>\n",
       "      <th>TDS amount</th>\n",
       "      <th>Technician Name</th>\n",
       "      <th>Total_Expense</th>\n",
       "      <th>Total CGST</th>\n",
       "      <th>Total GST</th>\n",
       "      <th>Total IGST</th>\n",
       "      <th>Total SGST/UGST</th>\n",
       "      <th>Total Value</th>\n",
       "      <th>User ID</th>\n",
       "      <th>City</th>\n",
       "      <th>Invoice_DateTime</th>\n",
       "      <th>JobCard_DateTime</th>\n",
       "      <th>Service_Time</th>\n",
       "      <th>Job_duration(in hrs)</th>\n",
       "      <th>Year</th>\n",
       "      <th>month</th>\n",
       "    </tr>\n",
       "  </thead>\n",
       "  <tbody>\n",
       "    <tr>\n",
       "      <th>295028</th>\n",
       "      <td>NaN</td>\n",
       "      <td>NaN</td>\n",
       "      <td>MUMBAI</td>\n",
       "      <td>NaN</td>\n",
       "      <td>NaN</td>\n",
       "      <td>NaN</td>\n",
       "      <td>NaN</td>\n",
       "      <td>BHANDUP</td>\n",
       "      <td>NaN</td>\n",
       "      <td>NaN</td>\n",
       "      <td>Retail</td>\n",
       "      <td>119371</td>\n",
       "      <td>Maharashtra</td>\n",
       "      <td>NaN</td>\n",
       "      <td>2016-01-02 00:00:00</td>\n",
       "      <td>15:41:33</td>\n",
       "      <td>NaN</td>\n",
       "      <td>NaN</td>\n",
       "      <td>NaN</td>\n",
       "      <td>NaN</td>\n",
       "      <td>NaN</td>\n",
       "      <td>2016-01-02</td>\n",
       "      <td>7005202789</td>\n",
       "      <td>11:27:27</td>\n",
       "      <td>300412</td>\n",
       "      <td>2016-01-02</td>\n",
       "      <td>10:52:24</td>\n",
       "      <td>35654</td>\n",
       "      <td>1125.76</td>\n",
       "      <td>MARUTI SUZUKI</td>\n",
       "      <td>291.45</td>\n",
       "      <td>ZEN ESTILO</td>\n",
       "      <td>NaN</td>\n",
       "      <td>0.0</td>\n",
       "      <td>SMC Value Package</td>\n",
       "      <td>NaN</td>\n",
       "      <td>2082.07</td>\n",
       "      <td>400089</td>\n",
       "      <td>BC01</td>\n",
       "      <td>THANE</td>\n",
       "      <td>NaN</td>\n",
       "      <td>YES</td>\n",
       "      <td>0.0</td>\n",
       "      <td>MH02BD6668</td>\n",
       "      <td>NaN</td>\n",
       "      <td>NaN</td>\n",
       "      <td>NaN</td>\n",
       "      <td>NaN</td>\n",
       "      <td>NaN</td>\n",
       "      <td>NaN</td>\n",
       "      <td>NaN</td>\n",
       "      <td>3499.28</td>\n",
       "      <td>NaN</td>\n",
       "      <td>NaN</td>\n",
       "      <td>NaN</td>\n",
       "      <td>NaN</td>\n",
       "      <td>NaN</td>\n",
       "      <td>BC01SA2</td>\n",
       "      <td>Mumbai</td>\n",
       "      <td>2016-01-02 11:27:27</td>\n",
       "      <td>2016-01-02 10:52:24</td>\n",
       "      <td>0 days 00:35:03</td>\n",
       "      <td>0.0</td>\n",
       "      <td>2016</td>\n",
       "      <td>1</td>\n",
       "    </tr>\n",
       "    <tr>\n",
       "      <th>295029</th>\n",
       "      <td>NaN</td>\n",
       "      <td>NaN</td>\n",
       "      <td>THNAE</td>\n",
       "      <td>NaN</td>\n",
       "      <td>NaN</td>\n",
       "      <td>NaN</td>\n",
       "      <td>NaN</td>\n",
       "      <td>THANE</td>\n",
       "      <td>NaN</td>\n",
       "      <td>NaN</td>\n",
       "      <td>Retail</td>\n",
       "      <td>128929</td>\n",
       "      <td>Maharashtra</td>\n",
       "      <td>NaN</td>\n",
       "      <td>2016-01-02 00:00:00</td>\n",
       "      <td>13:05:33</td>\n",
       "      <td>NaN</td>\n",
       "      <td>NaN</td>\n",
       "      <td>NaN</td>\n",
       "      <td>NaN</td>\n",
       "      <td>NaN</td>\n",
       "      <td>2016-01-02</td>\n",
       "      <td>7005202790</td>\n",
       "      <td>13:03:16</td>\n",
       "      <td>300447</td>\n",
       "      <td>2016-01-02</td>\n",
       "      <td>11:50:58</td>\n",
       "      <td>70730</td>\n",
       "      <td>233.85</td>\n",
       "      <td>MARUTI SUZUKI</td>\n",
       "      <td>0.00</td>\n",
       "      <td>SWIFT</td>\n",
       "      <td>NaN</td>\n",
       "      <td>0.0</td>\n",
       "      <td>Running Repairs</td>\n",
       "      <td>NaN</td>\n",
       "      <td>195.44</td>\n",
       "      <td>400604</td>\n",
       "      <td>BC01</td>\n",
       "      <td>THANE</td>\n",
       "      <td>NaN</td>\n",
       "      <td>YES</td>\n",
       "      <td>0.0</td>\n",
       "      <td>MH12EM2307</td>\n",
       "      <td>NaN</td>\n",
       "      <td>NaN</td>\n",
       "      <td>NaN</td>\n",
       "      <td>NaN</td>\n",
       "      <td>NaN</td>\n",
       "      <td>NaN</td>\n",
       "      <td>NaN</td>\n",
       "      <td>429.29</td>\n",
       "      <td>NaN</td>\n",
       "      <td>NaN</td>\n",
       "      <td>NaN</td>\n",
       "      <td>NaN</td>\n",
       "      <td>NaN</td>\n",
       "      <td>BC01SA2</td>\n",
       "      <td>Thane</td>\n",
       "      <td>2016-01-02 13:03:16</td>\n",
       "      <td>2016-01-02 11:50:58</td>\n",
       "      <td>0 days 01:12:18</td>\n",
       "      <td>1.0</td>\n",
       "      <td>2016</td>\n",
       "      <td>1</td>\n",
       "    </tr>\n",
       "  </tbody>\n",
       "</table>\n",
       "</div>"
      ],
      "text/plain": [
       "        Amt Rcvd From Custom  Amt Rcvd From Ins Co Area / Locality  CGST(14%)  \\\n",
       "295028                   NaN                   NaN          MUMBAI        NaN   \n",
       "295029                   NaN                   NaN           THNAE        NaN   \n",
       "\n",
       "        CGST(2.5%)  CGST(6%)  CGST(9%)     CITY Cash /Cashless Type Claim No.  \\\n",
       "295028         NaN       NaN       NaN  BHANDUP                 NaN       NaN   \n",
       "295029         NaN       NaN       NaN    THANE                 NaN       NaN   \n",
       "\n",
       "       Cust Type Customer No.     District Expiry Date       Gate Pass Date  \\\n",
       "295028    Retail       119371  Maharashtra         NaN  2016-01-02 00:00:00   \n",
       "295029    Retail       128929  Maharashtra         NaN  2016-01-02 00:00:00   \n",
       "\n",
       "       Gate Pass Time  IGST(12%)  IGST(18%)  IGST(28%)  IGST(5%)  \\\n",
       "295028       15:41:33        NaN        NaN        NaN       NaN   \n",
       "295029       13:05:33        NaN        NaN        NaN       NaN   \n",
       "\n",
       "       Insurance Company Invoice Date  Invoice No Invoice Time  Job Card No  \\\n",
       "295028               NaN   2016-01-02  7005202789     11:27:27       300412   \n",
       "295029               NaN   2016-01-02  7005202790     13:03:16       300447   \n",
       "\n",
       "       JobCard Date JobCard Time  KMs Reading  Labour Total           Make  \\\n",
       "295028   2016-01-02     10:52:24        35654       1125.76  MARUTI SUZUKI   \n",
       "295029   2016-01-02     11:50:58        70730        233.85  MARUTI SUZUKI   \n",
       "\n",
       "        Misc Total       Model  ODN No.  OSL Total         Order Type  \\\n",
       "295028      291.45  ZEN ESTILO      NaN        0.0  SMC Value Package   \n",
       "295029        0.00       SWIFT      NaN        0.0    Running Repairs   \n",
       "\n",
       "        Outstanding Amt  Parts Total  Pin code Plant Plant Name1 Policy no.  \\\n",
       "295028              NaN      2082.07    400089  BC01       THANE        NaN   \n",
       "295029              NaN       195.44    400604  BC01       THANE        NaN   \n",
       "\n",
       "       Print Status  Recovrbl Exp     Regn No  SGST/UGST(14%)  \\\n",
       "295028          YES           0.0  MH02BD6668             NaN   \n",
       "295029          YES           0.0  MH12EM2307             NaN   \n",
       "\n",
       "        SGST/UGST(2.5%)  SGST/UGST(6%)  SGST/UGST(9%)  Service Advisor Name  \\\n",
       "295028              NaN            NaN            NaN                   NaN   \n",
       "295029              NaN            NaN            NaN                   NaN   \n",
       "\n",
       "        TDS amount Technician Name  Total_Expense  Total CGST  Total GST  \\\n",
       "295028         NaN             NaN        3499.28         NaN        NaN   \n",
       "295029         NaN             NaN         429.29         NaN        NaN   \n",
       "\n",
       "        Total IGST  Total SGST/UGST  Total Value  User ID    City  \\\n",
       "295028         NaN              NaN          NaN  BC01SA2  Mumbai   \n",
       "295029         NaN              NaN          NaN  BC01SA2   Thane   \n",
       "\n",
       "          Invoice_DateTime    JobCard_DateTime    Service_Time  \\\n",
       "295028 2016-01-02 11:27:27 2016-01-02 10:52:24 0 days 00:35:03   \n",
       "295029 2016-01-02 13:03:16 2016-01-02 11:50:58 0 days 01:12:18   \n",
       "\n",
       "        Job_duration(in hrs)  Year  month  \n",
       "295028                   0.0  2016      1  \n",
       "295029                   1.0  2016      1  "
      ]
     },
     "execution_count": 25,
     "metadata": {},
     "output_type": "execute_result"
    }
   ],
   "source": [
    "year_16.head(2)"
   ]
  },
  {
   "cell_type": "code",
   "execution_count": 26,
   "metadata": {},
   "outputs": [
    {
     "data": {
      "text/plain": [
       "Index(['Amt Rcvd From Custom', 'Amt Rcvd From Ins Co', 'Area / Locality',\n",
       "       'CGST(14%)', 'CGST(2.5%)', 'CGST(6%)', 'CGST(9%)', 'CITY',\n",
       "       'Cash /Cashless Type', 'Claim No.', 'Cust Type', 'Customer No.',\n",
       "       'District', 'Expiry Date', 'Gate Pass Date', 'Gate Pass Time',\n",
       "       'IGST(12%)', 'IGST(18%)', 'IGST(28%)', 'IGST(5%)', 'Insurance Company',\n",
       "       'Invoice Date', 'Invoice No', 'Invoice Time', 'Job Card No',\n",
       "       'JobCard Date', 'JobCard Time', 'KMs Reading', 'Labour Total', 'Make',\n",
       "       'Misc Total', 'Model', 'ODN No.', 'OSL Total', 'Order Type',\n",
       "       'Outstanding Amt', 'Parts Total', 'Pin code', 'Plant', 'Plant Name1',\n",
       "       'Policy no.', 'Print Status', 'Recovrbl Exp', 'Regn No',\n",
       "       'SGST/UGST(14%)', 'SGST/UGST(2.5%)', 'SGST/UGST(6%)', 'SGST/UGST(9%)',\n",
       "       'Service Advisor Name', 'TDS amount', 'Technician Name',\n",
       "       'Total_Expense', 'Total CGST', 'Total GST', 'Total IGST',\n",
       "       'Total SGST/UGST', 'Total Value', 'User ID', 'City', 'Invoice_DateTime',\n",
       "       'JobCard_DateTime', 'Service_Time', 'Job_duration(in hrs)', 'Year',\n",
       "       'month'],\n",
       "      dtype='object')"
      ]
     },
     "execution_count": 26,
     "metadata": {},
     "output_type": "execute_result"
    }
   ],
   "source": [
    "year_16.columns"
   ]
  },
  {
   "cell_type": "code",
   "execution_count": null,
   "metadata": {},
   "outputs": [],
   "source": []
  },
  {
   "cell_type": "code",
   "execution_count": null,
   "metadata": {},
   "outputs": [],
   "source": []
  },
  {
   "cell_type": "code",
   "execution_count": 27,
   "metadata": {},
   "outputs": [
    {
     "data": {
      "text/html": [
       "<div>\n",
       "<style scoped>\n",
       "    .dataframe tbody tr th:only-of-type {\n",
       "        vertical-align: middle;\n",
       "    }\n",
       "\n",
       "    .dataframe tbody tr th {\n",
       "        vertical-align: top;\n",
       "    }\n",
       "\n",
       "    .dataframe thead th {\n",
       "        text-align: right;\n",
       "    }\n",
       "</style>\n",
       "<table border=\"1\" class=\"dataframe\">\n",
       "  <thead>\n",
       "    <tr style=\"text-align: right;\">\n",
       "      <th></th>\n",
       "      <th>Make</th>\n",
       "      <th>Model</th>\n",
       "      <th>City</th>\n",
       "      <th>Customer No.</th>\n",
       "      <th>Invoice No</th>\n",
       "      <th>Total_Expense</th>\n",
       "      <th>Job_duration(in hrs)</th>\n",
       "    </tr>\n",
       "  </thead>\n",
       "  <tbody>\n",
       "    <tr>\n",
       "      <th>0</th>\n",
       "      <td>AUDI</td>\n",
       "      <td>A4</td>\n",
       "      <td>Bengaluru</td>\n",
       "      <td>197826</td>\n",
       "      <td>1</td>\n",
       "      <td>0.00</td>\n",
       "      <td>839.000000</td>\n",
       "    </tr>\n",
       "    <tr>\n",
       "      <th>1</th>\n",
       "      <td>AUDI</td>\n",
       "      <td>A4</td>\n",
       "      <td>Chennai</td>\n",
       "      <td>251998</td>\n",
       "      <td>1</td>\n",
       "      <td>131637.61</td>\n",
       "      <td>359.000000</td>\n",
       "    </tr>\n",
       "    <tr>\n",
       "      <th>2</th>\n",
       "      <td>AUDI</td>\n",
       "      <td>A4</td>\n",
       "      <td>East Godavari</td>\n",
       "      <td>182988</td>\n",
       "      <td>2</td>\n",
       "      <td>479.38</td>\n",
       "      <td>12.500000</td>\n",
       "    </tr>\n",
       "    <tr>\n",
       "      <th>3</th>\n",
       "      <td>AUDI</td>\n",
       "      <td>A4</td>\n",
       "      <td>East Godavari</td>\n",
       "      <td>243916</td>\n",
       "      <td>1</td>\n",
       "      <td>1478.30</td>\n",
       "      <td>4.000000</td>\n",
       "    </tr>\n",
       "    <tr>\n",
       "      <th>4</th>\n",
       "      <td>AUDI</td>\n",
       "      <td>A4</td>\n",
       "      <td>Firozpur</td>\n",
       "      <td>89967</td>\n",
       "      <td>2</td>\n",
       "      <td>3493.44</td>\n",
       "      <td>24.500000</td>\n",
       "    </tr>\n",
       "    <tr>\n",
       "      <th>5</th>\n",
       "      <td>AUDI</td>\n",
       "      <td>A4</td>\n",
       "      <td>Ghaziabad</td>\n",
       "      <td>141369</td>\n",
       "      <td>1</td>\n",
       "      <td>248.89</td>\n",
       "      <td>1.000000</td>\n",
       "    </tr>\n",
       "    <tr>\n",
       "      <th>6</th>\n",
       "      <td>AUDI</td>\n",
       "      <td>A4</td>\n",
       "      <td>Indore</td>\n",
       "      <td>158521</td>\n",
       "      <td>3</td>\n",
       "      <td>23460.48</td>\n",
       "      <td>30.666667</td>\n",
       "    </tr>\n",
       "    <tr>\n",
       "      <th>7</th>\n",
       "      <td>AUDI</td>\n",
       "      <td>A4</td>\n",
       "      <td>Indore</td>\n",
       "      <td>238765</td>\n",
       "      <td>2</td>\n",
       "      <td>34493.22</td>\n",
       "      <td>145.000000</td>\n",
       "    </tr>\n",
       "    <tr>\n",
       "      <th>8</th>\n",
       "      <td>AUDI</td>\n",
       "      <td>A4</td>\n",
       "      <td>Khorda</td>\n",
       "      <td>259799</td>\n",
       "      <td>1</td>\n",
       "      <td>330.50</td>\n",
       "      <td>0.000000</td>\n",
       "    </tr>\n",
       "    <tr>\n",
       "      <th>9</th>\n",
       "      <td>AUDI</td>\n",
       "      <td>A4</td>\n",
       "      <td>Kolhapur</td>\n",
       "      <td>83636</td>\n",
       "      <td>2</td>\n",
       "      <td>1125.25</td>\n",
       "      <td>10.500000</td>\n",
       "    </tr>\n",
       "  </tbody>\n",
       "</table>\n",
       "</div>"
      ],
      "text/plain": [
       "   Make Model           City Customer No.  Invoice No  Total_Expense  \\\n",
       "0  AUDI    A4      Bengaluru       197826           1           0.00   \n",
       "1  AUDI    A4        Chennai       251998           1      131637.61   \n",
       "2  AUDI    A4  East Godavari       182988           2         479.38   \n",
       "3  AUDI    A4  East Godavari       243916           1        1478.30   \n",
       "4  AUDI    A4       Firozpur        89967           2        3493.44   \n",
       "5  AUDI    A4      Ghaziabad       141369           1         248.89   \n",
       "6  AUDI    A4         Indore       158521           3       23460.48   \n",
       "7  AUDI    A4         Indore       238765           2       34493.22   \n",
       "8  AUDI    A4         Khorda       259799           1         330.50   \n",
       "9  AUDI    A4       Kolhapur        83636           2        1125.25   \n",
       "\n",
       "   Job_duration(in hrs)  \n",
       "0            839.000000  \n",
       "1            359.000000  \n",
       "2             12.500000  \n",
       "3              4.000000  \n",
       "4             24.500000  \n",
       "5              1.000000  \n",
       "6             30.666667  \n",
       "7            145.000000  \n",
       "8              0.000000  \n",
       "9             10.500000  "
      ]
     },
     "execution_count": 27,
     "metadata": {},
     "output_type": "execute_result"
    }
   ],
   "source": [
    "# Calculating frequency of visits & total revenue of a customer for calculation of ltv\n",
    "\n",
    "customer_freq=year_16.groupby([\"Make\",\"Model\",\"City\",\"Customer No.\"]).agg({\"Invoice No\":'nunique',\"Total_Expense\":'mean',\"Job_duration(in hrs)\":'mean'})\n",
    "customer_freq=customer_freq.reset_index()\n",
    "\n",
    "customer_freq.head(10)"
   ]
  },
  {
   "cell_type": "code",
   "execution_count": 28,
   "metadata": {},
   "outputs": [
    {
     "data": {
      "text/html": [
       "<div>\n",
       "<style scoped>\n",
       "    .dataframe tbody tr th:only-of-type {\n",
       "        vertical-align: middle;\n",
       "    }\n",
       "\n",
       "    .dataframe tbody tr th {\n",
       "        vertical-align: top;\n",
       "    }\n",
       "\n",
       "    .dataframe thead th {\n",
       "        text-align: right;\n",
       "    }\n",
       "</style>\n",
       "<table border=\"1\" class=\"dataframe\">\n",
       "  <thead>\n",
       "    <tr style=\"text-align: right;\">\n",
       "      <th></th>\n",
       "      <th>Make</th>\n",
       "      <th>Model</th>\n",
       "      <th>City</th>\n",
       "      <th>Customer No.</th>\n",
       "      <th>Invoice No</th>\n",
       "      <th>Total_Expense</th>\n",
       "      <th>Job_duration(in hrs)</th>\n",
       "      <th>LTV</th>\n",
       "    </tr>\n",
       "  </thead>\n",
       "  <tbody>\n",
       "    <tr>\n",
       "      <th>0</th>\n",
       "      <td>AUDI</td>\n",
       "      <td>A4</td>\n",
       "      <td>Bengaluru</td>\n",
       "      <td>197826</td>\n",
       "      <td>1</td>\n",
       "      <td>0.00</td>\n",
       "      <td>839.0</td>\n",
       "      <td>0.00</td>\n",
       "    </tr>\n",
       "    <tr>\n",
       "      <th>1</th>\n",
       "      <td>AUDI</td>\n",
       "      <td>A4</td>\n",
       "      <td>Chennai</td>\n",
       "      <td>251998</td>\n",
       "      <td>1</td>\n",
       "      <td>131637.61</td>\n",
       "      <td>359.0</td>\n",
       "      <td>131637.61</td>\n",
       "    </tr>\n",
       "    <tr>\n",
       "      <th>2</th>\n",
       "      <td>AUDI</td>\n",
       "      <td>A4</td>\n",
       "      <td>East Godavari</td>\n",
       "      <td>182988</td>\n",
       "      <td>2</td>\n",
       "      <td>479.38</td>\n",
       "      <td>12.5</td>\n",
       "      <td>958.76</td>\n",
       "    </tr>\n",
       "    <tr>\n",
       "      <th>3</th>\n",
       "      <td>AUDI</td>\n",
       "      <td>A4</td>\n",
       "      <td>East Godavari</td>\n",
       "      <td>243916</td>\n",
       "      <td>1</td>\n",
       "      <td>1478.30</td>\n",
       "      <td>4.0</td>\n",
       "      <td>1478.30</td>\n",
       "    </tr>\n",
       "    <tr>\n",
       "      <th>4</th>\n",
       "      <td>AUDI</td>\n",
       "      <td>A4</td>\n",
       "      <td>Firozpur</td>\n",
       "      <td>89967</td>\n",
       "      <td>2</td>\n",
       "      <td>3493.44</td>\n",
       "      <td>24.5</td>\n",
       "      <td>6986.88</td>\n",
       "    </tr>\n",
       "  </tbody>\n",
       "</table>\n",
       "</div>"
      ],
      "text/plain": [
       "   Make Model           City Customer No.  Invoice No  Total_Expense  \\\n",
       "0  AUDI    A4      Bengaluru       197826           1           0.00   \n",
       "1  AUDI    A4        Chennai       251998           1      131637.61   \n",
       "2  AUDI    A4  East Godavari       182988           2         479.38   \n",
       "3  AUDI    A4  East Godavari       243916           1        1478.30   \n",
       "4  AUDI    A4       Firozpur        89967           2        3493.44   \n",
       "\n",
       "   Job_duration(in hrs)        LTV  \n",
       "0                 839.0       0.00  \n",
       "1                 359.0  131637.61  \n",
       "2                  12.5     958.76  \n",
       "3                   4.0    1478.30  \n",
       "4                  24.5    6986.88  "
      ]
     },
     "execution_count": 28,
     "metadata": {},
     "output_type": "execute_result"
    }
   ],
   "source": [
    "ltv_make_model_r=customer_freq.copy()\n",
    "ltv_make_model_r[\"LTV\"] = ltv_make_model_r['Invoice No'] * ltv_make_model_r[\"Total_Expense\"]\n",
    "ltv_make_model_r.head()"
   ]
  },
  {
   "cell_type": "markdown",
   "metadata": {},
   "source": [
    "# Filtering customer having LTV/Total revenue > 0"
   ]
  },
  {
   "cell_type": "code",
   "execution_count": 29,
   "metadata": {},
   "outputs": [],
   "source": [
    "ltv_make_model_r = ltv_make_model_r[ltv_make_model_r['LTV'] > 0]"
   ]
  },
  {
   "cell_type": "code",
   "execution_count": 30,
   "metadata": {},
   "outputs": [
    {
     "data": {
      "text/plain": [
       "(113686, 8)"
      ]
     },
     "execution_count": 30,
     "metadata": {},
     "output_type": "execute_result"
    }
   ],
   "source": [
    "ltv_make_model_r.shape"
   ]
  },
  {
   "cell_type": "code",
   "execution_count": 31,
   "metadata": {},
   "outputs": [
    {
     "name": "stdout",
     "output_type": "stream",
     "text": [
      "0.05 quantile :- 99.14\n",
      "0.25 quantile :- 449.75\n",
      "0.50 quantile :- 2204.23\n",
      "0.75 quantile :- 6278.9925\n",
      "0.95 quantile :- 26696.415\n",
      "minimum LTV :- 0.01\n",
      "maximum LTV :- 1375024.6900000004\n",
      "mean LTV :- 6645.426823443521\n"
     ]
    }
   ],
   "source": [
    "print(\"0.05 quantile :-\",ltv_make_model_r['LTV'].quantile(0.05))\n",
    "print(\"0.25 quantile :-\",ltv_make_model_r['LTV'].quantile(0.25))\n",
    "print(\"0.50 quantile :-\",ltv_make_model_r['LTV'].quantile(0.50))\n",
    "print(\"0.75 quantile :-\",ltv_make_model_r['LTV'].quantile(0.75))\n",
    "print(\"0.95 quantile :-\",ltv_make_model_r['LTV'].quantile(0.95))\n",
    "print(\"minimum LTV :-\",ltv_make_model_r['LTV'].min())\n",
    "print(\"maximum LTV :-\",ltv_make_model_r['LTV'].max())\n",
    "print(\"mean LTV :-\",ltv_make_model_r['LTV'].mean())"
   ]
  },
  {
   "cell_type": "code",
   "execution_count": 32,
   "metadata": {},
   "outputs": [],
   "source": [
    "# Low revenue customers (less than 0.50 quantile)\n",
    "low_ltv = ltv_make_model_r[(ltv_make_model_r['LTV']< ltv_make_model_r['LTV'].quantile(0.50))]\n",
    "\n",
    "# Medium revenue customers (between 0.50 to 0.75 quantile)\n",
    "medium_ltv = ltv_make_model_r[\n",
    "                            (ltv_make_model_r['LTV'] > ltv_make_model_r['LTV'].quantile(0.50)) & \n",
    "                            (ltv_make_model_r['LTV']< ltv_make_model_r['LTV'].quantile(0.75))\n",
    "                         ]\n",
    "\n",
    "\n",
    "# Average revenue customers (between 0.75 to 0.95 quantile)\n",
    "avg_ltv = ltv_make_model_r[\n",
    "                        (ltv_make_model_r['LTV'] > ltv_make_model_r['LTV'].quantile(0.75)) & \n",
    "                        (ltv_make_model_r['LTV'] < ltv_make_model_r['LTV'].quantile(0.95))\n",
    "                      ]\n",
    "\n",
    "\n",
    "# High revenue customers (moe than 0.95 quantile)\n",
    "high_ltv = ltv_make_model_r[\n",
    "                        (ltv_make_model_r['LTV'] > ltv_make_model_r['LTV'].quantile(0.95))\n",
    "                       ]"
   ]
  },
  {
   "cell_type": "code",
   "execution_count": 33,
   "metadata": {},
   "outputs": [
    {
     "name": "stdout",
     "output_type": "stream",
     "text": [
      "low_ltv (56843, 8)\n",
      "medium_ltv (28421, 8)\n",
      "avg_ltv (22737, 8)\n",
      "high_ltv (5685, 8)\n"
     ]
    }
   ],
   "source": [
    "print(\"low_ltv\",low_ltv.shape)\n",
    "print(\"medium_ltv\",medium_ltv.shape)\n",
    "print(\"avg_ltv\",avg_ltv.shape)\n",
    "print(\"high_ltv\",high_ltv.shape)"
   ]
  },
  {
   "cell_type": "code",
   "execution_count": 34,
   "metadata": {},
   "outputs": [],
   "source": [
    "# Naming the clusters\n",
    "low_ltv['LTV Category'] = 'low_ltv'\n",
    "medium_ltv['LTV Category'] = 'medium_ltv'\n",
    "avg_ltv['LTV Category'] = 'avg_ltv'\n",
    "high_ltv['LTV Category'] = 'high_ltv'"
   ]
  },
  {
   "cell_type": "code",
   "execution_count": 35,
   "metadata": {},
   "outputs": [],
   "source": [
    "ltv_make_model_r= pd.concat([low_ltv,medium_ltv,avg_ltv,high_ltv],axis=0)"
   ]
  },
  {
   "cell_type": "code",
   "execution_count": 36,
   "metadata": {},
   "outputs": [
    {
     "data": {
      "text/html": [
       "<div>\n",
       "<style scoped>\n",
       "    .dataframe tbody tr th:only-of-type {\n",
       "        vertical-align: middle;\n",
       "    }\n",
       "\n",
       "    .dataframe tbody tr th {\n",
       "        vertical-align: top;\n",
       "    }\n",
       "\n",
       "    .dataframe thead th {\n",
       "        text-align: right;\n",
       "    }\n",
       "</style>\n",
       "<table border=\"1\" class=\"dataframe\">\n",
       "  <thead>\n",
       "    <tr style=\"text-align: right;\">\n",
       "      <th></th>\n",
       "      <th>Make</th>\n",
       "      <th>Model</th>\n",
       "      <th>City</th>\n",
       "      <th>Customer No.</th>\n",
       "      <th>Invoice No</th>\n",
       "      <th>Total_Expense</th>\n",
       "      <th>Job_duration(in hrs)</th>\n",
       "      <th>LTV</th>\n",
       "      <th>LTV Category</th>\n",
       "    </tr>\n",
       "  </thead>\n",
       "  <tbody>\n",
       "    <tr>\n",
       "      <th>2</th>\n",
       "      <td>AUDI</td>\n",
       "      <td>A4</td>\n",
       "      <td>East Godavari</td>\n",
       "      <td>182988</td>\n",
       "      <td>2</td>\n",
       "      <td>479.380000</td>\n",
       "      <td>12.500000</td>\n",
       "      <td>958.76</td>\n",
       "      <td>low_ltv</td>\n",
       "    </tr>\n",
       "    <tr>\n",
       "      <th>3</th>\n",
       "      <td>AUDI</td>\n",
       "      <td>A4</td>\n",
       "      <td>East Godavari</td>\n",
       "      <td>243916</td>\n",
       "      <td>1</td>\n",
       "      <td>1478.300000</td>\n",
       "      <td>4.000000</td>\n",
       "      <td>1478.30</td>\n",
       "      <td>low_ltv</td>\n",
       "    </tr>\n",
       "    <tr>\n",
       "      <th>5</th>\n",
       "      <td>AUDI</td>\n",
       "      <td>A4</td>\n",
       "      <td>Ghaziabad</td>\n",
       "      <td>141369</td>\n",
       "      <td>1</td>\n",
       "      <td>248.890000</td>\n",
       "      <td>1.000000</td>\n",
       "      <td>248.89</td>\n",
       "      <td>low_ltv</td>\n",
       "    </tr>\n",
       "    <tr>\n",
       "      <th>8</th>\n",
       "      <td>AUDI</td>\n",
       "      <td>A4</td>\n",
       "      <td>Khorda</td>\n",
       "      <td>259799</td>\n",
       "      <td>1</td>\n",
       "      <td>330.500000</td>\n",
       "      <td>0.000000</td>\n",
       "      <td>330.50</td>\n",
       "      <td>low_ltv</td>\n",
       "    </tr>\n",
       "    <tr>\n",
       "      <th>10</th>\n",
       "      <td>AUDI</td>\n",
       "      <td>A4</td>\n",
       "      <td>Malappuram</td>\n",
       "      <td>201655</td>\n",
       "      <td>1</td>\n",
       "      <td>151.340000</td>\n",
       "      <td>1.000000</td>\n",
       "      <td>151.34</td>\n",
       "      <td>low_ltv</td>\n",
       "    </tr>\n",
       "    <tr>\n",
       "      <th>...</th>\n",
       "      <td>...</td>\n",
       "      <td>...</td>\n",
       "      <td>...</td>\n",
       "      <td>...</td>\n",
       "      <td>...</td>\n",
       "      <td>...</td>\n",
       "      <td>...</td>\n",
       "      <td>...</td>\n",
       "      <td>...</td>\n",
       "    </tr>\n",
       "    <tr>\n",
       "      <th>121836</th>\n",
       "      <td>VOLKSWAGEN</td>\n",
       "      <td>VENTO</td>\n",
       "      <td>Thanjavur</td>\n",
       "      <td>80445</td>\n",
       "      <td>4</td>\n",
       "      <td>10855.042500</td>\n",
       "      <td>15.000000</td>\n",
       "      <td>43420.17</td>\n",
       "      <td>high_ltv</td>\n",
       "    </tr>\n",
       "    <tr>\n",
       "      <th>121843</th>\n",
       "      <td>VOLKSWAGEN</td>\n",
       "      <td>VENTO</td>\n",
       "      <td>Tirunelveli</td>\n",
       "      <td>148381</td>\n",
       "      <td>4</td>\n",
       "      <td>14779.917500</td>\n",
       "      <td>597.500000</td>\n",
       "      <td>59119.67</td>\n",
       "      <td>high_ltv</td>\n",
       "    </tr>\n",
       "    <tr>\n",
       "      <th>121855</th>\n",
       "      <td>VOLKSWAGEN</td>\n",
       "      <td>VENTO</td>\n",
       "      <td>Tirunelveli</td>\n",
       "      <td>206379</td>\n",
       "      <td>8</td>\n",
       "      <td>6567.853750</td>\n",
       "      <td>103.375000</td>\n",
       "      <td>52542.83</td>\n",
       "      <td>high_ltv</td>\n",
       "    </tr>\n",
       "    <tr>\n",
       "      <th>121857</th>\n",
       "      <td>VOLKSWAGEN</td>\n",
       "      <td>VENTO</td>\n",
       "      <td>Tirunelveli</td>\n",
       "      <td>228476</td>\n",
       "      <td>3</td>\n",
       "      <td>11843.713333</td>\n",
       "      <td>210.666667</td>\n",
       "      <td>35531.14</td>\n",
       "      <td>high_ltv</td>\n",
       "    </tr>\n",
       "    <tr>\n",
       "      <th>121889</th>\n",
       "      <td>VOLKSWAGEN</td>\n",
       "      <td>VENTO</td>\n",
       "      <td>Vadodara</td>\n",
       "      <td>256649</td>\n",
       "      <td>1</td>\n",
       "      <td>34422.020000</td>\n",
       "      <td>101.000000</td>\n",
       "      <td>34422.02</td>\n",
       "      <td>high_ltv</td>\n",
       "    </tr>\n",
       "  </tbody>\n",
       "</table>\n",
       "<p>113686 rows × 9 columns</p>\n",
       "</div>"
      ],
      "text/plain": [
       "              Make  Model           City Customer No.  Invoice No  \\\n",
       "2             AUDI     A4  East Godavari       182988           2   \n",
       "3             AUDI     A4  East Godavari       243916           1   \n",
       "5             AUDI     A4      Ghaziabad       141369           1   \n",
       "8             AUDI     A4         Khorda       259799           1   \n",
       "10            AUDI     A4     Malappuram       201655           1   \n",
       "...            ...    ...            ...          ...         ...   \n",
       "121836  VOLKSWAGEN  VENTO      Thanjavur        80445           4   \n",
       "121843  VOLKSWAGEN  VENTO    Tirunelveli       148381           4   \n",
       "121855  VOLKSWAGEN  VENTO    Tirunelveli       206379           8   \n",
       "121857  VOLKSWAGEN  VENTO    Tirunelveli       228476           3   \n",
       "121889  VOLKSWAGEN  VENTO       Vadodara       256649           1   \n",
       "\n",
       "        Total_Expense  Job_duration(in hrs)       LTV LTV Category  \n",
       "2          479.380000             12.500000    958.76      low_ltv  \n",
       "3         1478.300000              4.000000   1478.30      low_ltv  \n",
       "5          248.890000              1.000000    248.89      low_ltv  \n",
       "8          330.500000              0.000000    330.50      low_ltv  \n",
       "10         151.340000              1.000000    151.34      low_ltv  \n",
       "...               ...                   ...       ...          ...  \n",
       "121836   10855.042500             15.000000  43420.17     high_ltv  \n",
       "121843   14779.917500            597.500000  59119.67     high_ltv  \n",
       "121855    6567.853750            103.375000  52542.83     high_ltv  \n",
       "121857   11843.713333            210.666667  35531.14     high_ltv  \n",
       "121889   34422.020000            101.000000  34422.02     high_ltv  \n",
       "\n",
       "[113686 rows x 9 columns]"
      ]
     },
     "execution_count": 36,
     "metadata": {},
     "output_type": "execute_result"
    }
   ],
   "source": [
    "ltv_make_model_r"
   ]
  },
  {
   "cell_type": "code",
   "execution_count": 37,
   "metadata": {},
   "outputs": [
    {
     "data": {
      "text/plain": [
       "Index(['Make', 'Model', 'City', 'Customer No.', 'Invoice No', 'Total_Expense',\n",
       "       'Job_duration(in hrs)', 'LTV', 'LTV Category'],\n",
       "      dtype='object')"
      ]
     },
     "execution_count": 37,
     "metadata": {},
     "output_type": "execute_result"
    }
   ],
   "source": [
    "ltv_make_model_r.columns"
   ]
  },
  {
   "cell_type": "code",
   "execution_count": 38,
   "metadata": {},
   "outputs": [
    {
     "data": {
      "text/plain": [
       "low_ltv       56843\n",
       "medium_ltv    28421\n",
       "avg_ltv       22737\n",
       "high_ltv       5685\n",
       "Name: LTV Category, dtype: int64"
      ]
     },
     "execution_count": 38,
     "metadata": {},
     "output_type": "execute_result"
    }
   ],
   "source": [
    "ltv_make_model_r[\"LTV Category\"].value_counts(dropna=False)"
   ]
  },
  {
   "cell_type": "markdown",
   "metadata": {},
   "source": []
  },
  {
   "cell_type": "code",
   "execution_count": 39,
   "metadata": {},
   "outputs": [
    {
     "data": {
      "text/plain": [
       "<AxesSubplot:xlabel='LTV Category'>"
      ]
     },
     "execution_count": 39,
     "metadata": {},
     "output_type": "execute_result"
    },
    {
     "data": {
      "image/png": "[encoded data removed]",
      "text/plain": [
       "<Figure size 432x288 with 1 Axes>"
      ]
     },
     "metadata": {
      "needs_background": "light"
     },
     "output_type": "display_data"
    }
   ],
   "source": [
    "ltv_make_model_r.groupby('LTV Category').size().plot(kind='bar')"
   ]
  },
  {
   "cell_type": "code",
   "execution_count": 40,
   "metadata": {},
   "outputs": [
    {
     "data": {
      "application/vnd.plotly.v1+json": {
       "config": {
        "linkText": "Export to plot.ly",
        "plotlyServerURL": "https://plot.ly",
        "showLink": false
       },
       "data": [
        {
         "type": "bar",
         "x": [
          "avg_ltv",
          "high_ltv",
          "low_ltv",
          "medium_ltv"
         ],
         "y": [
          22737,
          5685,
          56843,
          28421
         ]
        }
       ],
       "layout": {
        "font": {
         "size": 14
        },
        "height": 500,
        "template": {
         "data": {
          "bar": [
           {
            "error_x": {
             "color": "#2a3f5f"
            },
            "error_y": {
             "color": "#2a3f5f"
            },
            "marker": {
             "line": {
              "color": "#E5ECF6",
              "width": 0.5
             }
            },
            "type": "bar"
           }
          ],
          "barpolar": [
           {
            "marker": {
             "line": {
              "color": "#E5ECF6",
              "width": 0.5
             }
            },
            "type": "barpolar"
           }
          ],
          "carpet": [
           {
            "aaxis": {
             "endlinecolor": "#2a3f5f",
             "gridcolor": "white",
             "linecolor": "white",
             "minorgridcolor": "white",
             "startlinecolor": "#2a3f5f"
            },
            "baxis": {
             "endlinecolor": "#2a3f5f",
             "gridcolor": "white",
             "linecolor": "white",
             "minorgridcolor": "white",
             "startlinecolor": "#2a3f5f"
            },
            "type": "carpet"
           }
          ],
          "choropleth": [
           {
            "colorbar": {
             "outlinewidth": 0,
             "ticks": ""
            },
            "type": "choropleth"
           }
          ],
          "contour": [
           {
            "colorbar": {
             "outlinewidth": 0,
             "ticks": ""
            },
            "colorscale": [
             [
              0,
              "#0d0887"
             ],
             [
              0.1111111111111111,
              "#46039f"
             ],
             [
              0.2222222222222222,
              "#7201a8"
             ],
             [
              0.3333333333333333,
              "#9c179e"
             ],
             [
              0.4444444444444444,
              "#bd3786"
             ],
             [
              0.5555555555555556,
              "#d8576b"
             ],
             [
              0.6666666666666666,
              "#ed7953"
             ],
             [
              0.7777777777777778,
              "#fb9f3a"
             ],
             [
              0.8888888888888888,
              "#fdca26"
             ],
             [
              1,
              "#f0f921"
             ]
            ],
            "type": "contour"
           }
          ],
          "contourcarpet": [
           {
            "colorbar": {
             "outlinewidth": 0,
             "ticks": ""
            },
            "type": "contourcarpet"
           }
          ],
          "heatmap": [
           {
            "colorbar": {
             "outlinewidth": 0,
             "ticks": ""
            },
            "colorscale": [
             [
              0,
              "#0d0887"
             ],
             [
              0.1111111111111111,
              "#46039f"
             ],
             [
              0.2222222222222222,
              "#7201a8"
             ],
             [
              0.3333333333333333,
              "#9c179e"
             ],
             [
              0.4444444444444444,
              "#bd3786"
             ],
             [
              0.5555555555555556,
              "#d8576b"
             ],
             [
              0.6666666666666666,
              "#ed7953"
             ],
             [
              0.7777777777777778,
              "#fb9f3a"
             ],
             [
              0.8888888888888888,
              "#fdca26"
             ],
             [
              1,
              "#f0f921"
             ]
            ],
            "type": "heatmap"
           }
          ],
          "heatmapgl": [
           {
            "colorbar": {
             "outlinewidth": 0,
             "ticks": ""
            },
            "colorscale": [
             [
              0,
              "#0d0887"
             ],
             [
              0.1111111111111111,
              "#46039f"
             ],
             [
              0.2222222222222222,
              "#7201a8"
             ],
             [
              0.3333333333333333,
              "#9c179e"
             ],
             [
              0.4444444444444444,
              "#bd3786"
             ],
             [
              0.5555555555555556,
              "#d8576b"
             ],
             [
              0.6666666666666666,
              "#ed7953"
             ],
             [
              0.7777777777777778,
              "#fb9f3a"
             ],
             [
              0.8888888888888888,
              "#fdca26"
             ],
             [
              1,
              "#f0f921"
             ]
            ],
            "type": "heatmapgl"
           }
          ],
          "histogram": [
           {
            "marker": {
             "colorbar": {
              "outlinewidth": 0,
              "ticks": ""
             }
            },
            "type": "histogram"
           }
          ],
          "histogram2d": [
           {
            "colorbar": {
             "outlinewidth": 0,
             "ticks": ""
            },
            "colorscale": [
             [
              0,
              "#0d0887"
             ],
             [
              0.1111111111111111,
              "#46039f"
             ],
             [
              0.2222222222222222,
              "#7201a8"
             ],
             [
              0.3333333333333333,
              "#9c179e"
             ],
             [
              0.4444444444444444,
              "#bd3786"
             ],
             [
              0.5555555555555556,
              "#d8576b"
             ],
             [
              0.6666666666666666,
              "#ed7953"
             ],
             [
              0.7777777777777778,
              "#fb9f3a"
             ],
             [
              0.8888888888888888,
              "#fdca26"
             ],
             [
              1,
              "#f0f921"
             ]
            ],
            "type": "histogram2d"
           }
          ],
          "histogram2dcontour": [
           {
            "colorbar": {
             "outlinewidth": 0,
             "ticks": ""
            },
            "colorscale": [
             [
              0,
              "#0d0887"
             ],
             [
              0.1111111111111111,
              "#46039f"
             ],
             [
              0.2222222222222222,
              "#7201a8"
             ],
             [
              0.3333333333333333,
              "#9c179e"
             ],
             [
              0.4444444444444444,
              "#bd3786"
             ],
             [
              0.5555555555555556,
              "#d8576b"
             ],
             [
              0.6666666666666666,
              "#ed7953"
             ],
             [
              0.7777777777777778,
              "#fb9f3a"
             ],
             [
              0.8888888888888888,
              "#fdca26"
             ],
             [
              1,
              "#f0f921"
             ]
            ],
            "type": "histogram2dcontour"
           }
          ],
          "mesh3d": [
           {
            "colorbar": {
             "outlinewidth": 0,
             "ticks": ""
            },
            "type": "mesh3d"
           }
          ],
          "parcoords": [
           {
            "line": {
             "colorbar": {
              "outlinewidth": 0,
              "ticks": ""
             }
            },
            "type": "parcoords"
           }
          ],
          "pie": [
           {
            "automargin": true,
            "type": "pie"
           }
          ],
          "scatter": [
           {
            "marker": {
             "colorbar": {
              "outlinewidth": 0,
              "ticks": ""
             }
            },
            "type": "scatter"
           }
          ],
          "scatter3d": [
           {
            "line": {
             "colorbar": {
              "outlinewidth": 0,
              "ticks": ""
             }
            },
            "marker": {
             "colorbar": {
              "outlinewidth": 0,
              "ticks": ""
             }
            },
            "type": "scatter3d"
           }
          ],
          "scattercarpet": [
           {
            "marker": {
             "colorbar": {
              "outlinewidth": 0,
              "ticks": ""
             }
            },
            "type": "scattercarpet"
           }
          ],
          "scattergeo": [
           {
            "marker": {
             "colorbar": {
              "outlinewidth": 0,
              "ticks": ""
             }
            },
            "type": "scattergeo"
           }
          ],
          "scattergl": [
           {
            "marker": {
             "colorbar": {
              "outlinewidth": 0,
              "ticks": ""
             }
            },
            "type": "scattergl"
           }
          ],
          "scattermapbox": [
           {
            "marker": {
             "colorbar": {
              "outlinewidth": 0,
              "ticks": ""
             }
            },
            "type": "scattermapbox"
           }
          ],
          "scatterpolar": [
           {
            "marker": {
             "colorbar": {
              "outlinewidth": 0,
              "ticks": ""
             }
            },
            "type": "scatterpolar"
           }
          ],
          "scatterpolargl": [
           {
            "marker": {
             "colorbar": {
              "outlinewidth": 0,
              "ticks": ""
             }
            },
            "type": "scatterpolargl"
           }
          ],
          "scatterternary": [
           {
            "marker": {
             "colorbar": {
              "outlinewidth": 0,
              "ticks": ""
             }
            },
            "type": "scatterternary"
           }
          ],
          "surface": [
           {
            "colorbar": {
             "outlinewidth": 0,
             "ticks": ""
            },
            "colorscale": [
             [
              0,
              "#0d0887"
             ],
             [
              0.1111111111111111,
              "#46039f"
             ],
             [
              0.2222222222222222,
              "#7201a8"
             ],
             [
              0.3333333333333333,
              "#9c179e"
             ],
             [
              0.4444444444444444,
              "#bd3786"
             ],
             [
              0.5555555555555556,
              "#d8576b"
             ],
             [
              0.6666666666666666,
              "#ed7953"
             ],
             [
              0.7777777777777778,
              "#fb9f3a"
             ],
             [
              0.8888888888888888,
              "#fdca26"
             ],
             [
              1,
              "#f0f921"
             ]
            ],
            "type": "surface"
           }
          ],
          "table": [
           {
            "cells": {
             "fill": {
              "color": "#EBF0F8"
             },
             "line": {
              "color": "white"
             }
            },
            "header": {
             "fill": {
              "color": "#C8D4E3"
             },
             "line": {
              "color": "white"
             }
            },
            "type": "table"
           }
          ]
         },
         "layout": {
          "annotationdefaults": {
           "arrowcolor": "#2a3f5f",
           "arrowhead": 0,
           "arrowwidth": 1
          },
          "autotypenumbers": "strict",
          "coloraxis": {
           "colorbar": {
            "outlinewidth": 0,
            "ticks": ""
           }
          },
          "colorscale": {
           "diverging": [
            [
             0,
             "#8e0152"
            ],
            [
             0.1,
             "#c51b7d"
            ],
            [
             0.2,
             "#de77ae"
            ],
            [
             0.3,
             "#f1b6da"
            ],
            [
             0.4,
             "#fde0ef"
            ],
            [
             0.5,
             "#f7f7f7"
            ],
            [
             0.6,
             "#e6f5d0"
            ],
            [
             0.7,
             "#b8e186"
            ],
            [
             0.8,
             "#7fbc41"
            ],
            [
             0.9,
             "#4d9221"
            ],
            [
             1,
             "#276419"
            ]
           ],
           "sequential": [
            [
             0,
             "#0d0887"
            ],
            [
             0.1111111111111111,
             "#46039f"
            ],
            [
             0.2222222222222222,
             "#7201a8"
            ],
            [
             0.3333333333333333,
             "#9c179e"
            ],
            [
             0.4444444444444444,
             "#bd3786"
            ],
            [
             0.5555555555555556,
             "#d8576b"
            ],
            [
             0.6666666666666666,
             "#ed7953"
            ],
            [
             0.7777777777777778,
             "#fb9f3a"
            ],
            [
             0.8888888888888888,
             "#fdca26"
            ],
            [
             1,
             "#f0f921"
            ]
           ],
           "sequentialminus": [
            [
             0,
             "#0d0887"
            ],
            [
             0.1111111111111111,
             "#46039f"
            ],
            [
             0.2222222222222222,
             "#7201a8"
            ],
            [
             0.3333333333333333,
             "#9c179e"
            ],
            [
             0.4444444444444444,
             "#bd3786"
            ],
            [
             0.5555555555555556,
             "#d8576b"
            ],
            [
             0.6666666666666666,
             "#ed7953"
            ],
            [
             0.7777777777777778,
             "#fb9f3a"
            ],
            [
             0.8888888888888888,
             "#fdca26"
            ],
            [
             1,
             "#f0f921"
            ]
           ]
          },
          "colorway": [
           "#636efa",
           "#EF553B",
           "#00cc96",
           "#ab63fa",
           "#FFA15A",
           "#19d3f3",
           "#FF6692",
           "#B6E880",
           "#FF97FF",
           "#FECB52"
          ],
          "font": {
           "color": "#2a3f5f"
          },
          "geo": {
           "bgcolor": "white",
           "lakecolor": "white",
           "landcolor": "#E5ECF6",
           "showlakes": true,
           "showland": true,
           "subunitcolor": "white"
          },
          "hoverlabel": {
           "align": "left"
          },
          "hovermode": "closest",
          "mapbox": {
           "style": "light"
          },
          "paper_bgcolor": "white",
          "plot_bgcolor": "#E5ECF6",
          "polar": {
           "angularaxis": {
            "gridcolor": "white",
            "linecolor": "white",
            "ticks": ""
           },
           "bgcolor": "#E5ECF6",
           "radialaxis": {
            "gridcolor": "white",
            "linecolor": "white",
            "ticks": ""
           }
          },
          "scene": {
           "xaxis": {
            "backgroundcolor": "#E5ECF6",
            "gridcolor": "white",
            "gridwidth": 2,
            "linecolor": "white",
            "showbackground": true,
            "ticks": "",
            "zerolinecolor": "white"
           },
           "yaxis": {
            "backgroundcolor": "#E5ECF6",
            "gridcolor": "white",
            "gridwidth": 2,
            "linecolor": "white",
            "showbackground": true,
            "ticks": "",
            "zerolinecolor": "white"
           },
           "zaxis": {
            "backgroundcolor": "#E5ECF6",
            "gridcolor": "white",
            "gridwidth": 2,
            "linecolor": "white",
            "showbackground": true,
            "ticks": "",
            "zerolinecolor": "white"
           }
          },
          "shapedefaults": {
           "line": {
            "color": "#2a3f5f"
           }
          },
          "ternary": {
           "aaxis": {
            "gridcolor": "white",
            "linecolor": "white",
            "ticks": ""
           },
           "baxis": {
            "gridcolor": "white",
            "linecolor": "white",
            "ticks": ""
           },
           "bgcolor": "#E5ECF6",
           "caxis": {
            "gridcolor": "white",
            "linecolor": "white",
            "ticks": ""
           }
          },
          "title": {
           "x": 0.05
          },
          "xaxis": {
           "automargin": true,
           "gridcolor": "white",
           "linecolor": "white",
           "ticks": "",
           "title": {
            "standoff": 15
           },
           "zerolinecolor": "white",
           "zerolinewidth": 2
          },
          "yaxis": {
           "automargin": true,
           "gridcolor": "white",
           "linecolor": "white",
           "ticks": "",
           "title": {
            "standoff": 15
           },
           "zerolinecolor": "white",
           "zerolinewidth": 2
          }
         }
        },
        "title": {
         "text": "Customer LTV Catogarization",
         "x": 0.5
        },
        "width": 800
       }
      },
      "text/html": [
       "<div>                            <div id=\"7e5655a9-f565-4405-ba0f-5430d1eb5fbe\" class=\"plotly-graph-div\" style=\"height:500px; width:800px;\"></div>            <script type=\"text/javascript\">                require([\"plotly\"], function(Plotly) {                    window.PLOTLYENV=window.PLOTLYENV || {};                                    if (document.getElementById(\"7e5655a9-f565-4405-ba0f-5430d1eb5fbe\")) {                    Plotly.newPlot(                        \"7e5655a9-f565-4405-ba0f-5430d1eb5fbe\",                        [{\"type\": \"bar\", \"x\": [\"avg_ltv\", \"high_ltv\", \"low_ltv\", \"medium_ltv\"], \"y\": [22737, 5685, 56843, 28421]}],                        {\"font\": {\"size\": 14}, \"height\": 500, \"template\": {\"data\": {\"bar\": [{\"error_x\": {\"color\": \"#2a3f5f\"}, \"error_y\": {\"color\": \"#2a3f5f\"}, \"marker\": {\"line\": {\"color\": \"#E5ECF6\", \"width\": 0.5}}, \"type\": \"bar\"}], \"barpolar\": [{\"marker\": {\"line\": {\"color\": \"#E5ECF6\", \"width\": 0.5}}, \"type\": \"barpolar\"}], \"carpet\": [{\"aaxis\": {\"endlinecolor\": \"#2a3f5f\", \"gridcolor\": \"white\", \"linecolor\": \"white\", \"minorgridcolor\": \"white\", \"startlinecolor\": \"#2a3f5f\"}, \"baxis\": {\"endlinecolor\": \"#2a3f5f\", \"gridcolor\": \"white\", \"linecolor\": \"white\", \"minorgridcolor\": \"white\", \"startlinecolor\": \"#2a3f5f\"}, \"type\": \"carpet\"}], \"choropleth\": [{\"colorbar\": {\"outlinewidth\": 0, \"ticks\": \"\"}, \"type\": \"choropleth\"}], \"contour\": [{\"colorbar\": {\"outlinewidth\": 0, \"ticks\": \"\"}, \"colorscale\": [[0.0, \"#0d0887\"], [0.1111111111111111, \"#46039f\"], [0.2222222222222222, \"#7201a8\"], [0.3333333333333333, \"#9c179e\"], [0.4444444444444444, \"#bd3786\"], [0.5555555555555556, \"#d8576b\"], [0.6666666666666666, \"#ed7953\"], [0.7777777777777778, \"#fb9f3a\"], [0.8888888888888888, \"#fdca26\"], [1.0, \"#f0f921\"]], \"type\": \"contour\"}], \"contourcarpet\": [{\"colorbar\": {\"outlinewidth\": 0, \"ticks\": \"\"}, \"type\": \"contourcarpet\"}], \"heatmap\": [{\"colorbar\": {\"outlinewidth\": 0, \"ticks\": \"\"}, \"colorscale\": [[0.0, \"#0d0887\"], [0.1111111111111111, \"#46039f\"], [0.2222222222222222, \"#7201a8\"], [0.3333333333333333, \"#9c179e\"], [0.4444444444444444, \"#bd3786\"], [0.5555555555555556, \"#d8576b\"], [0.6666666666666666, \"#ed7953\"], [0.7777777777777778, \"#fb9f3a\"], [0.8888888888888888, \"#fdca26\"], [1.0, \"#f0f921\"]], \"type\": \"heatmap\"}], \"heatmapgl\": [{\"colorbar\": {\"outlinewidth\": 0, \"ticks\": \"\"}, \"colorscale\": [[0.0, \"#0d0887\"], [0.1111111111111111, \"#46039f\"], [0.2222222222222222, \"#7201a8\"], [0.3333333333333333, \"#9c179e\"], [0.4444444444444444, \"#bd3786\"], [0.5555555555555556, \"#d8576b\"], [0.6666666666666666, \"#ed7953\"], [0.7777777777777778, \"#fb9f3a\"], [0.8888888888888888, \"#fdca26\"], [1.0, \"#f0f921\"]], \"type\": \"heatmapgl\"}], \"histogram\": [{\"marker\": {\"colorbar\": {\"outlinewidth\": 0, \"ticks\": \"\"}}, \"type\": \"histogram\"}], \"histogram2d\": [{\"colorbar\": {\"outlinewidth\": 0, \"ticks\": \"\"}, \"colorscale\": [[0.0, \"#0d0887\"], [0.1111111111111111, \"#46039f\"], [0.2222222222222222, \"#7201a8\"], [0.3333333333333333, \"#9c179e\"], [0.4444444444444444, \"#bd3786\"], [0.5555555555555556, \"#d8576b\"], [0.6666666666666666, \"#ed7953\"], [0.7777777777777778, \"#fb9f3a\"], [0.8888888888888888, \"#fdca26\"], [1.0, \"#f0f921\"]], \"type\": \"histogram2d\"}], \"histogram2dcontour\": [{\"colorbar\": {\"outlinewidth\": 0, \"ticks\": \"\"}, \"colorscale\": [[0.0, \"#0d0887\"], [0.1111111111111111, \"#46039f\"], [0.2222222222222222, \"#7201a8\"], [0.3333333333333333, \"#9c179e\"], [0.4444444444444444, \"#bd3786\"], [0.5555555555555556, \"#d8576b\"], [0.6666666666666666, \"#ed7953\"], [0.7777777777777778, \"#fb9f3a\"], [0.8888888888888888, \"#fdca26\"], [1.0, \"#f0f921\"]], \"type\": \"histogram2dcontour\"}], \"mesh3d\": [{\"colorbar\": {\"outlinewidth\": 0, \"ticks\": \"\"}, \"type\": \"mesh3d\"}], \"parcoords\": [{\"line\": {\"colorbar\": {\"outlinewidth\": 0, \"ticks\": \"\"}}, \"type\": \"parcoords\"}], \"pie\": [{\"automargin\": true, \"type\": \"pie\"}], \"scatter\": [{\"marker\": {\"colorbar\": {\"outlinewidth\": 0, \"ticks\": \"\"}}, \"type\": \"scatter\"}], \"scatter3d\": [{\"line\": {\"colorbar\": {\"outlinewidth\": 0, \"ticks\": \"\"}}, \"marker\": {\"colorbar\": {\"outlinewidth\": 0, \"ticks\": \"\"}}, \"type\": \"scatter3d\"}], \"scattercarpet\": [{\"marker\": {\"colorbar\": {\"outlinewidth\": 0, \"ticks\": \"\"}}, \"type\": \"scattercarpet\"}], \"scattergeo\": [{\"marker\": {\"colorbar\": {\"outlinewidth\": 0, \"ticks\": \"\"}}, \"type\": \"scattergeo\"}], \"scattergl\": [{\"marker\": {\"colorbar\": {\"outlinewidth\": 0, \"ticks\": \"\"}}, \"type\": \"scattergl\"}], \"scattermapbox\": [{\"marker\": {\"colorbar\": {\"outlinewidth\": 0, \"ticks\": \"\"}}, \"type\": \"scattermapbox\"}], \"scatterpolar\": [{\"marker\": {\"colorbar\": {\"outlinewidth\": 0, \"ticks\": \"\"}}, \"type\": \"scatterpolar\"}], \"scatterpolargl\": [{\"marker\": {\"colorbar\": {\"outlinewidth\": 0, \"ticks\": \"\"}}, \"type\": \"scatterpolargl\"}], \"scatterternary\": [{\"marker\": {\"colorbar\": {\"outlinewidth\": 0, \"ticks\": \"\"}}, \"type\": \"scatterternary\"}], \"surface\": [{\"colorbar\": {\"outlinewidth\": 0, \"ticks\": \"\"}, \"colorscale\": [[0.0, \"#0d0887\"], [0.1111111111111111, \"#46039f\"], [0.2222222222222222, \"#7201a8\"], [0.3333333333333333, \"#9c179e\"], [0.4444444444444444, \"#bd3786\"], [0.5555555555555556, \"#d8576b\"], [0.6666666666666666, \"#ed7953\"], [0.7777777777777778, \"#fb9f3a\"], [0.8888888888888888, \"#fdca26\"], [1.0, \"#f0f921\"]], \"type\": \"surface\"}], \"table\": [{\"cells\": {\"fill\": {\"color\": \"#EBF0F8\"}, \"line\": {\"color\": \"white\"}}, \"header\": {\"fill\": {\"color\": \"#C8D4E3\"}, \"line\": {\"color\": \"white\"}}, \"type\": \"table\"}]}, \"layout\": {\"annotationdefaults\": {\"arrowcolor\": \"#2a3f5f\", \"arrowhead\": 0, \"arrowwidth\": 1}, \"autotypenumbers\": \"strict\", \"coloraxis\": {\"colorbar\": {\"outlinewidth\": 0, \"ticks\": \"\"}}, \"colorscale\": {\"diverging\": [[0, \"#8e0152\"], [0.1, \"#c51b7d\"], [0.2, \"#de77ae\"], [0.3, \"#f1b6da\"], [0.4, \"#fde0ef\"], [0.5, \"#f7f7f7\"], [0.6, \"#e6f5d0\"], [0.7, \"#b8e186\"], [0.8, \"#7fbc41\"], [0.9, \"#4d9221\"], [1, \"#276419\"]], \"sequential\": [[0.0, \"#0d0887\"], [0.1111111111111111, \"#46039f\"], [0.2222222222222222, \"#7201a8\"], [0.3333333333333333, \"#9c179e\"], [0.4444444444444444, \"#bd3786\"], [0.5555555555555556, \"#d8576b\"], [0.6666666666666666, \"#ed7953\"], [0.7777777777777778, \"#fb9f3a\"], [0.8888888888888888, \"#fdca26\"], [1.0, \"#f0f921\"]], \"sequentialminus\": [[0.0, \"#0d0887\"], [0.1111111111111111, \"#46039f\"], [0.2222222222222222, \"#7201a8\"], [0.3333333333333333, \"#9c179e\"], [0.4444444444444444, \"#bd3786\"], [0.5555555555555556, \"#d8576b\"], [0.6666666666666666, \"#ed7953\"], [0.7777777777777778, \"#fb9f3a\"], [0.8888888888888888, \"#fdca26\"], [1.0, \"#f0f921\"]]}, \"colorway\": [\"#636efa\", \"#EF553B\", \"#00cc96\", \"#ab63fa\", \"#FFA15A\", \"#19d3f3\", \"#FF6692\", \"#B6E880\", \"#FF97FF\", \"#FECB52\"], \"font\": {\"color\": \"#2a3f5f\"}, \"geo\": {\"bgcolor\": \"white\", \"lakecolor\": \"white\", \"landcolor\": \"#E5ECF6\", \"showlakes\": true, \"showland\": true, \"subunitcolor\": \"white\"}, \"hoverlabel\": {\"align\": \"left\"}, \"hovermode\": \"closest\", \"mapbox\": {\"style\": \"light\"}, \"paper_bgcolor\": \"white\", \"plot_bgcolor\": \"#E5ECF6\", \"polar\": {\"angularaxis\": {\"gridcolor\": \"white\", \"linecolor\": \"white\", \"ticks\": \"\"}, \"bgcolor\": \"#E5ECF6\", \"radialaxis\": {\"gridcolor\": \"white\", \"linecolor\": \"white\", \"ticks\": \"\"}}, \"scene\": {\"xaxis\": {\"backgroundcolor\": \"#E5ECF6\", \"gridcolor\": \"white\", \"gridwidth\": 2, \"linecolor\": \"white\", \"showbackground\": true, \"ticks\": \"\", \"zerolinecolor\": \"white\"}, \"yaxis\": {\"backgroundcolor\": \"#E5ECF6\", \"gridcolor\": \"white\", \"gridwidth\": 2, \"linecolor\": \"white\", \"showbackground\": true, \"ticks\": \"\", \"zerolinecolor\": \"white\"}, \"zaxis\": {\"backgroundcolor\": \"#E5ECF6\", \"gridcolor\": \"white\", \"gridwidth\": 2, \"linecolor\": \"white\", \"showbackground\": true, \"ticks\": \"\", \"zerolinecolor\": \"white\"}}, \"shapedefaults\": {\"line\": {\"color\": \"#2a3f5f\"}}, \"ternary\": {\"aaxis\": {\"gridcolor\": \"white\", \"linecolor\": \"white\", \"ticks\": \"\"}, \"baxis\": {\"gridcolor\": \"white\", \"linecolor\": \"white\", \"ticks\": \"\"}, \"bgcolor\": \"#E5ECF6\", \"caxis\": {\"gridcolor\": \"white\", \"linecolor\": \"white\", \"ticks\": \"\"}}, \"title\": {\"x\": 0.05}, \"xaxis\": {\"automargin\": true, \"gridcolor\": \"white\", \"linecolor\": \"white\", \"ticks\": \"\", \"title\": {\"standoff\": 15}, \"zerolinecolor\": \"white\", \"zerolinewidth\": 2}, \"yaxis\": {\"automargin\": true, \"gridcolor\": \"white\", \"linecolor\": \"white\", \"ticks\": \"\", \"title\": {\"standoff\": 15}, \"zerolinecolor\": \"white\", \"zerolinewidth\": 2}}}, \"title\": {\"text\": \"Customer LTV Catogarization\", \"x\": 0.5}, \"width\": 800},                        {\"responsive\": true}                    ).then(function(){\n",
       "                            \n",
       "var gd = document.getElementById('7e5655a9-f565-4405-ba0f-5430d1eb5fbe');\n",
       "var x = new MutationObserver(function (mutations, observer) {{\n",
       "        var display = window.getComputedStyle(gd).display;\n",
       "        if (!display || display === 'none') {{\n",
       "            console.log([gd, 'removed!']);\n",
       "            Plotly.purge(gd);\n",
       "            observer.disconnect();\n",
       "        }}\n",
       "}});\n",
       "\n",
       "// Listen for the removal of the full notebook cells\n",
       "var notebookContainer = gd.closest('#notebook-container');\n",
       "if (notebookContainer) {{\n",
       "    x.observe(notebookContainer, {childList: true});\n",
       "}}\n",
       "\n",
       "// Listen for the clearing of the current output cell\n",
       "var outputEl = gd.closest('.output');\n",
       "if (outputEl) {{\n",
       "    x.observe(outputEl, {childList: true});\n",
       "}}\n",
       "\n",
       "                        })                };                });            </script>        </div>"
      ]
     },
     "metadata": {},
     "output_type": "display_data"
    }
   ],
   "source": [
    "# Getting the number of fundings according to year\n",
    "cnt_srs = ltv_make_model_r[\"LTV Category\"].value_counts()\n",
    "# sorting the years in ascending order\n",
    "cnt_srs = cnt_srs.sort_index()\n",
    "# setting uo the bar graph\n",
    "trace = go.Bar(\n",
    "    x=cnt_srs.index,\n",
    "    y=cnt_srs.values,\n",
    "    \n",
    ")\n",
    "# setting the layout\n",
    "layout = go.Layout(\n",
    "    title=go.layout.Title(\n",
    "        text=\"Customer LTV Catogarization\",\n",
    "        x=0.5\n",
    "    ),\n",
    "    font=dict(size=14),\n",
    "    width=800,\n",
    "    height=500,\n",
    ")\n",
    "\n",
    "data = [trace]\n",
    "fig = go.Figure(data=data, layout=layout)\n",
    "py.iplot(fig, filename=\"funding\")"
   ]
  },
  {
   "cell_type": "code",
   "execution_count": 136,
   "metadata": {},
   "outputs": [],
   "source": [
    "merge_data=pd.merge(ltv_make_model_r, df5, on='Customer No.')"
   ]
  },
  {
   "cell_type": "code",
   "execution_count": 137,
   "metadata": {},
   "outputs": [
    {
     "data": {
      "text/html": [
       "<div>\n",
       "<style scoped>\n",
       "    .dataframe tbody tr th:only-of-type {\n",
       "        vertical-align: middle;\n",
       "    }\n",
       "\n",
       "    .dataframe tbody tr th {\n",
       "        vertical-align: top;\n",
       "    }\n",
       "\n",
       "    .dataframe thead th {\n",
       "        text-align: right;\n",
       "    }\n",
       "</style>\n",
       "<table border=\"1\" class=\"dataframe\">\n",
       "  <thead>\n",
       "    <tr style=\"text-align: right;\">\n",
       "      <th></th>\n",
       "      <th>Make</th>\n",
       "      <th>Model</th>\n",
       "      <th>City</th>\n",
       "      <th>Customer No.</th>\n",
       "      <th>Invoice No</th>\n",
       "      <th>Total_Expense</th>\n",
       "      <th>Job_duration(in hrs)</th>\n",
       "      <th>LTV</th>\n",
       "      <th>LTV Category</th>\n",
       "      <th>Clusters</th>\n",
       "    </tr>\n",
       "  </thead>\n",
       "  <tbody>\n",
       "    <tr>\n",
       "      <th>0</th>\n",
       "      <td>AUDI</td>\n",
       "      <td>A8</td>\n",
       "      <td>Thanjavur</td>\n",
       "      <td>164341</td>\n",
       "      <td>1</td>\n",
       "      <td>217.440000</td>\n",
       "      <td>0.000000</td>\n",
       "      <td>217.44</td>\n",
       "      <td>low_ltv</td>\n",
       "      <td>high_revenue</td>\n",
       "    </tr>\n",
       "    <tr>\n",
       "      <th>1</th>\n",
       "      <td>AUDI</td>\n",
       "      <td>A8</td>\n",
       "      <td>Thanjavur</td>\n",
       "      <td>164341</td>\n",
       "      <td>1</td>\n",
       "      <td>217.440000</td>\n",
       "      <td>0.000000</td>\n",
       "      <td>217.44</td>\n",
       "      <td>low_ltv</td>\n",
       "      <td>high_revenue</td>\n",
       "    </tr>\n",
       "    <tr>\n",
       "      <th>2</th>\n",
       "      <td>HYUNDAI</td>\n",
       "      <td>VERNA</td>\n",
       "      <td>Thanjavur</td>\n",
       "      <td>164341</td>\n",
       "      <td>5</td>\n",
       "      <td>16071.566000</td>\n",
       "      <td>53.800000</td>\n",
       "      <td>80357.83</td>\n",
       "      <td>high_ltv</td>\n",
       "      <td>high_revenue</td>\n",
       "    </tr>\n",
       "    <tr>\n",
       "      <th>3</th>\n",
       "      <td>HYUNDAI</td>\n",
       "      <td>VERNA</td>\n",
       "      <td>Thanjavur</td>\n",
       "      <td>164341</td>\n",
       "      <td>5</td>\n",
       "      <td>16071.566000</td>\n",
       "      <td>53.800000</td>\n",
       "      <td>80357.83</td>\n",
       "      <td>high_ltv</td>\n",
       "      <td>high_revenue</td>\n",
       "    </tr>\n",
       "    <tr>\n",
       "      <th>4</th>\n",
       "      <td>AUDI</td>\n",
       "      <td>Q7</td>\n",
       "      <td>Moga</td>\n",
       "      <td>85119</td>\n",
       "      <td>3</td>\n",
       "      <td>524.933333</td>\n",
       "      <td>2.000000</td>\n",
       "      <td>1574.80</td>\n",
       "      <td>low_ltv</td>\n",
       "      <td>low_revenue</td>\n",
       "    </tr>\n",
       "    <tr>\n",
       "      <th>...</th>\n",
       "      <td>...</td>\n",
       "      <td>...</td>\n",
       "      <td>...</td>\n",
       "      <td>...</td>\n",
       "      <td>...</td>\n",
       "      <td>...</td>\n",
       "      <td>...</td>\n",
       "      <td>...</td>\n",
       "      <td>...</td>\n",
       "      <td>...</td>\n",
       "    </tr>\n",
       "    <tr>\n",
       "      <th>42742</th>\n",
       "      <td>VOLKSWAGEN</td>\n",
       "      <td>VENTO</td>\n",
       "      <td>Tirunelveli</td>\n",
       "      <td>206379</td>\n",
       "      <td>8</td>\n",
       "      <td>6567.853750</td>\n",
       "      <td>103.375000</td>\n",
       "      <td>52542.83</td>\n",
       "      <td>high_ltv</td>\n",
       "      <td>avg_revenue</td>\n",
       "    </tr>\n",
       "    <tr>\n",
       "      <th>42743</th>\n",
       "      <td>VOLKSWAGEN</td>\n",
       "      <td>VENTO</td>\n",
       "      <td>Tirunelveli</td>\n",
       "      <td>206379</td>\n",
       "      <td>8</td>\n",
       "      <td>6567.853750</td>\n",
       "      <td>103.375000</td>\n",
       "      <td>52542.83</td>\n",
       "      <td>high_ltv</td>\n",
       "      <td>high_revenue</td>\n",
       "    </tr>\n",
       "    <tr>\n",
       "      <th>42744</th>\n",
       "      <td>VOLKSWAGEN</td>\n",
       "      <td>VENTO</td>\n",
       "      <td>Tirunelveli</td>\n",
       "      <td>228476</td>\n",
       "      <td>3</td>\n",
       "      <td>11843.713333</td>\n",
       "      <td>210.666667</td>\n",
       "      <td>35531.14</td>\n",
       "      <td>high_ltv</td>\n",
       "      <td>avg_revenue</td>\n",
       "    </tr>\n",
       "    <tr>\n",
       "      <th>42745</th>\n",
       "      <td>VOLKSWAGEN</td>\n",
       "      <td>VENTO</td>\n",
       "      <td>Tirunelveli</td>\n",
       "      <td>228476</td>\n",
       "      <td>3</td>\n",
       "      <td>11843.713333</td>\n",
       "      <td>210.666667</td>\n",
       "      <td>35531.14</td>\n",
       "      <td>high_ltv</td>\n",
       "      <td>high_revenue</td>\n",
       "    </tr>\n",
       "    <tr>\n",
       "      <th>42746</th>\n",
       "      <td>VOLKSWAGEN</td>\n",
       "      <td>VENTO</td>\n",
       "      <td>Vadodara</td>\n",
       "      <td>256649</td>\n",
       "      <td>1</td>\n",
       "      <td>34422.020000</td>\n",
       "      <td>101.000000</td>\n",
       "      <td>34422.02</td>\n",
       "      <td>high_ltv</td>\n",
       "      <td>high_revenue</td>\n",
       "    </tr>\n",
       "  </tbody>\n",
       "</table>\n",
       "<p>42747 rows × 10 columns</p>\n",
       "</div>"
      ],
      "text/plain": [
       "             Make  Model         City Customer No.  Invoice No  Total_Expense  \\\n",
       "0            AUDI     A8    Thanjavur       164341           1     217.440000   \n",
       "1            AUDI     A8    Thanjavur       164341           1     217.440000   \n",
       "2         HYUNDAI  VERNA    Thanjavur       164341           5   16071.566000   \n",
       "3         HYUNDAI  VERNA    Thanjavur       164341           5   16071.566000   \n",
       "4            AUDI     Q7         Moga        85119           3     524.933333   \n",
       "...           ...    ...          ...          ...         ...            ...   \n",
       "42742  VOLKSWAGEN  VENTO  Tirunelveli       206379           8    6567.853750   \n",
       "42743  VOLKSWAGEN  VENTO  Tirunelveli       206379           8    6567.853750   \n",
       "42744  VOLKSWAGEN  VENTO  Tirunelveli       228476           3   11843.713333   \n",
       "42745  VOLKSWAGEN  VENTO  Tirunelveli       228476           3   11843.713333   \n",
       "42746  VOLKSWAGEN  VENTO     Vadodara       256649           1   34422.020000   \n",
       "\n",
       "       Job_duration(in hrs)       LTV LTV Category      Clusters  \n",
       "0                  0.000000    217.44      low_ltv  high_revenue  \n",
       "1                  0.000000    217.44      low_ltv  high_revenue  \n",
       "2                 53.800000  80357.83     high_ltv  high_revenue  \n",
       "3                 53.800000  80357.83     high_ltv  high_revenue  \n",
       "4                  2.000000   1574.80      low_ltv   low_revenue  \n",
       "...                     ...       ...          ...           ...  \n",
       "42742            103.375000  52542.83     high_ltv   avg_revenue  \n",
       "42743            103.375000  52542.83     high_ltv  high_revenue  \n",
       "42744            210.666667  35531.14     high_ltv   avg_revenue  \n",
       "42745            210.666667  35531.14     high_ltv  high_revenue  \n",
       "42746            101.000000  34422.02     high_ltv  high_revenue  \n",
       "\n",
       "[42747 rows x 10 columns]"
      ]
     },
     "execution_count": 137,
     "metadata": {},
     "output_type": "execute_result"
    }
   ],
   "source": [
    "merge_data"
   ]
  },
  {
   "cell_type": "code",
   "execution_count": 145,
   "metadata": {},
   "outputs": [
    {
     "data": {
      "text/plain": [
       "Clusters\n",
       "avg_revenue       15641.740448\n",
       "high_revenue      52724.188938\n",
       "low_revenue        6322.309485\n",
       "medium_revenue    11321.760781\n",
       "Name: LTV, dtype: float64"
      ]
     },
     "execution_count": 145,
     "metadata": {},
     "output_type": "execute_result"
    }
   ],
   "source": [
    "merge_data.groupby(\"Clusters\").LTV.mean()"
   ]
  },
  {
   "cell_type": "code",
   "execution_count": 151,
   "metadata": {
    "scrolled": true
   },
   "outputs": [],
   "source": [
    "dd=merge_data.groupby(\"Clusters\").LTV.mean()\n",
    "over=pd.DataFrame(dict(Clusters=dd.index, Average=dd.values))"
   ]
  },
  {
   "cell_type": "code",
   "execution_count": null,
   "metadata": {},
   "outputs": [],
   "source": []
  },
  {
   "cell_type": "code",
   "execution_count": 153,
   "metadata": {},
   "outputs": [
    {
     "data": {
      "application/vnd.plotly.v1+json": {
       "config": {
        "plotlyServerURL": "https://plot.ly"
       },
       "data": [
        {
         "hoverinfo": "label+percent",
         "labels": [
          "avg_revenue",
          "high_revenue",
          "low_revenue",
          "medium_revenue"
         ],
         "marker": {
          "colors": [
           "gold",
           "mediumturquoise",
           "darkorange",
           "lightgreen"
          ],
          "line": {
           "color": "#000000",
           "width": 2
          }
         },
         "textfont": {
          "size": 20
         },
         "textinfo": "value",
         "type": "pie",
         "values": [
          15641.740448412294,
          52724.18893821645,
          6322.309484579634,
          11321.760781448529
         ]
        }
       ],
       "layout": {
        "template": {
         "data": {
          "bar": [
           {
            "error_x": {
             "color": "#2a3f5f"
            },
            "error_y": {
             "color": "#2a3f5f"
            },
            "marker": {
             "line": {
              "color": "#E5ECF6",
              "width": 0.5
             }
            },
            "type": "bar"
           }
          ],
          "barpolar": [
           {
            "marker": {
             "line": {
              "color": "#E5ECF6",
              "width": 0.5
             }
            },
            "type": "barpolar"
           }
          ],
          "carpet": [
           {
            "aaxis": {
             "endlinecolor": "#2a3f5f",
             "gridcolor": "white",
             "linecolor": "white",
             "minorgridcolor": "white",
             "startlinecolor": "#2a3f5f"
            },
            "baxis": {
             "endlinecolor": "#2a3f5f",
             "gridcolor": "white",
             "linecolor": "white",
             "minorgridcolor": "white",
             "startlinecolor": "#2a3f5f"
            },
            "type": "carpet"
           }
          ],
          "choropleth": [
           {
            "colorbar": {
             "outlinewidth": 0,
             "ticks": ""
            },
            "type": "choropleth"
           }
          ],
          "contour": [
           {
            "colorbar": {
             "outlinewidth": 0,
             "ticks": ""
            },
            "colorscale": [
             [
              0,
              "#0d0887"
             ],
             [
              0.1111111111111111,
              "#46039f"
             ],
             [
              0.2222222222222222,
              "#7201a8"
             ],
             [
              0.3333333333333333,
              "#9c179e"
             ],
             [
              0.4444444444444444,
              "#bd3786"
             ],
             [
              0.5555555555555556,
              "#d8576b"
             ],
             [
              0.6666666666666666,
              "#ed7953"
             ],
             [
              0.7777777777777778,
              "#fb9f3a"
             ],
             [
              0.8888888888888888,
              "#fdca26"
             ],
             [
              1,
              "#f0f921"
             ]
            ],
            "type": "contour"
           }
          ],
          "contourcarpet": [
           {
            "colorbar": {
             "outlinewidth": 0,
             "ticks": ""
            },
            "type": "contourcarpet"
           }
          ],
          "heatmap": [
           {
            "colorbar": {
             "outlinewidth": 0,
             "ticks": ""
            },
            "colorscale": [
             [
              0,
              "#0d0887"
             ],
             [
              0.1111111111111111,
              "#46039f"
             ],
             [
              0.2222222222222222,
              "#7201a8"
             ],
             [
              0.3333333333333333,
              "#9c179e"
             ],
             [
              0.4444444444444444,
              "#bd3786"
             ],
             [
              0.5555555555555556,
              "#d8576b"
             ],
             [
              0.6666666666666666,
              "#ed7953"
             ],
             [
              0.7777777777777778,
              "#fb9f3a"
             ],
             [
              0.8888888888888888,
              "#fdca26"
             ],
             [
              1,
              "#f0f921"
             ]
            ],
            "type": "heatmap"
           }
          ],
          "heatmapgl": [
           {
            "colorbar": {
             "outlinewidth": 0,
             "ticks": ""
            },
            "colorscale": [
             [
              0,
              "#0d0887"
             ],
             [
              0.1111111111111111,
              "#46039f"
             ],
             [
              0.2222222222222222,
              "#7201a8"
             ],
             [
              0.3333333333333333,
              "#9c179e"
             ],
             [
              0.4444444444444444,
              "#bd3786"
             ],
             [
              0.5555555555555556,
              "#d8576b"
             ],
             [
              0.6666666666666666,
              "#ed7953"
             ],
             [
              0.7777777777777778,
              "#fb9f3a"
             ],
             [
              0.8888888888888888,
              "#fdca26"
             ],
             [
              1,
              "#f0f921"
             ]
            ],
            "type": "heatmapgl"
           }
          ],
          "histogram": [
           {
            "marker": {
             "colorbar": {
              "outlinewidth": 0,
              "ticks": ""
             }
            },
            "type": "histogram"
           }
          ],
          "histogram2d": [
           {
            "colorbar": {
             "outlinewidth": 0,
             "ticks": ""
            },
            "colorscale": [
             [
              0,
              "#0d0887"
             ],
             [
              0.1111111111111111,
              "#46039f"
             ],
             [
              0.2222222222222222,
              "#7201a8"
             ],
             [
              0.3333333333333333,
              "#9c179e"
             ],
             [
              0.4444444444444444,
              "#bd3786"
             ],
             [
              0.5555555555555556,
              "#d8576b"
             ],
             [
              0.6666666666666666,
              "#ed7953"
             ],
             [
              0.7777777777777778,
              "#fb9f3a"
             ],
             [
              0.8888888888888888,
              "#fdca26"
             ],
             [
              1,
              "#f0f921"
             ]
            ],
            "type": "histogram2d"
           }
          ],
          "histogram2dcontour": [
           {
            "colorbar": {
             "outlinewidth": 0,
             "ticks": ""
            },
            "colorscale": [
             [
              0,
              "#0d0887"
             ],
             [
              0.1111111111111111,
              "#46039f"
             ],
             [
              0.2222222222222222,
              "#7201a8"
             ],
             [
              0.3333333333333333,
              "#9c179e"
             ],
             [
              0.4444444444444444,
              "#bd3786"
             ],
             [
              0.5555555555555556,
              "#d8576b"
             ],
             [
              0.6666666666666666,
              "#ed7953"
             ],
             [
              0.7777777777777778,
              "#fb9f3a"
             ],
             [
              0.8888888888888888,
              "#fdca26"
             ],
             [
              1,
              "#f0f921"
             ]
            ],
            "type": "histogram2dcontour"
           }
          ],
          "mesh3d": [
           {
            "colorbar": {
             "outlinewidth": 0,
             "ticks": ""
            },
            "type": "mesh3d"
           }
          ],
          "parcoords": [
           {
            "line": {
             "colorbar": {
              "outlinewidth": 0,
              "ticks": ""
             }
            },
            "type": "parcoords"
           }
          ],
          "pie": [
           {
            "automargin": true,
            "type": "pie"
           }
          ],
          "scatter": [
           {
            "marker": {
             "colorbar": {
              "outlinewidth": 0,
              "ticks": ""
             }
            },
            "type": "scatter"
           }
          ],
          "scatter3d": [
           {
            "line": {
             "colorbar": {
              "outlinewidth": 0,
              "ticks": ""
             }
            },
            "marker": {
             "colorbar": {
              "outlinewidth": 0,
              "ticks": ""
             }
            },
            "type": "scatter3d"
           }
          ],
          "scattercarpet": [
           {
            "marker": {
             "colorbar": {
              "outlinewidth": 0,
              "ticks": ""
             }
            },
            "type": "scattercarpet"
           }
          ],
          "scattergeo": [
           {
            "marker": {
             "colorbar": {
              "outlinewidth": 0,
              "ticks": ""
             }
            },
            "type": "scattergeo"
           }
          ],
          "scattergl": [
           {
            "marker": {
             "colorbar": {
              "outlinewidth": 0,
              "ticks": ""
             }
            },
            "type": "scattergl"
           }
          ],
          "scattermapbox": [
           {
            "marker": {
             "colorbar": {
              "outlinewidth": 0,
              "ticks": ""
             }
            },
            "type": "scattermapbox"
           }
          ],
          "scatterpolar": [
           {
            "marker": {
             "colorbar": {
              "outlinewidth": 0,
              "ticks": ""
             }
            },
            "type": "scatterpolar"
           }
          ],
          "scatterpolargl": [
           {
            "marker": {
             "colorbar": {
              "outlinewidth": 0,
              "ticks": ""
             }
            },
            "type": "scatterpolargl"
           }
          ],
          "scatterternary": [
           {
            "marker": {
             "colorbar": {
              "outlinewidth": 0,
              "ticks": ""
             }
            },
            "type": "scatterternary"
           }
          ],
          "surface": [
           {
            "colorbar": {
             "outlinewidth": 0,
             "ticks": ""
            },
            "colorscale": [
             [
              0,
              "#0d0887"
             ],
             [
              0.1111111111111111,
              "#46039f"
             ],
             [
              0.2222222222222222,
              "#7201a8"
             ],
             [
              0.3333333333333333,
              "#9c179e"
             ],
             [
              0.4444444444444444,
              "#bd3786"
             ],
             [
              0.5555555555555556,
              "#d8576b"
             ],
             [
              0.6666666666666666,
              "#ed7953"
             ],
             [
              0.7777777777777778,
              "#fb9f3a"
             ],
             [
              0.8888888888888888,
              "#fdca26"
             ],
             [
              1,
              "#f0f921"
             ]
            ],
            "type": "surface"
           }
          ],
          "table": [
           {
            "cells": {
             "fill": {
              "color": "#EBF0F8"
             },
             "line": {
              "color": "white"
             }
            },
            "header": {
             "fill": {
              "color": "#C8D4E3"
             },
             "line": {
              "color": "white"
             }
            },
            "type": "table"
           }
          ]
         },
         "layout": {
          "annotationdefaults": {
           "arrowcolor": "#2a3f5f",
           "arrowhead": 0,
           "arrowwidth": 1
          },
          "autotypenumbers": "strict",
          "coloraxis": {
           "colorbar": {
            "outlinewidth": 0,
            "ticks": ""
           }
          },
          "colorscale": {
           "diverging": [
            [
             0,
             "#8e0152"
            ],
            [
             0.1,
             "#c51b7d"
            ],
            [
             0.2,
             "#de77ae"
            ],
            [
             0.3,
             "#f1b6da"
            ],
            [
             0.4,
             "#fde0ef"
            ],
            [
             0.5,
             "#f7f7f7"
            ],
            [
             0.6,
             "#e6f5d0"
            ],
            [
             0.7,
             "#b8e186"
            ],
            [
             0.8,
             "#7fbc41"
            ],
            [
             0.9,
             "#4d9221"
            ],
            [
             1,
             "#276419"
            ]
           ],
           "sequential": [
            [
             0,
             "#0d0887"
            ],
            [
             0.1111111111111111,
             "#46039f"
            ],
            [
             0.2222222222222222,
             "#7201a8"
            ],
            [
             0.3333333333333333,
             "#9c179e"
            ],
            [
             0.4444444444444444,
             "#bd3786"
            ],
            [
             0.5555555555555556,
             "#d8576b"
            ],
            [
             0.6666666666666666,
             "#ed7953"
            ],
            [
             0.7777777777777778,
             "#fb9f3a"
            ],
            [
             0.8888888888888888,
             "#fdca26"
            ],
            [
             1,
             "#f0f921"
            ]
           ],
           "sequentialminus": [
            [
             0,
             "#0d0887"
            ],
            [
             0.1111111111111111,
             "#46039f"
            ],
            [
             0.2222222222222222,
             "#7201a8"
            ],
            [
             0.3333333333333333,
             "#9c179e"
            ],
            [
             0.4444444444444444,
             "#bd3786"
            ],
            [
             0.5555555555555556,
             "#d8576b"
            ],
            [
             0.6666666666666666,
             "#ed7953"
            ],
            [
             0.7777777777777778,
             "#fb9f3a"
            ],
            [
             0.8888888888888888,
             "#fdca26"
            ],
            [
             1,
             "#f0f921"
            ]
           ]
          },
          "colorway": [
           "#636efa",
           "#EF553B",
           "#00cc96",
           "#ab63fa",
           "#FFA15A",
           "#19d3f3",
           "#FF6692",
           "#B6E880",
           "#FF97FF",
           "#FECB52"
          ],
          "font": {
           "color": "#2a3f5f"
          },
          "geo": {
           "bgcolor": "white",
           "lakecolor": "white",
           "landcolor": "#E5ECF6",
           "showlakes": true,
           "showland": true,
           "subunitcolor": "white"
          },
          "hoverlabel": {
           "align": "left"
          },
          "hovermode": "closest",
          "mapbox": {
           "style": "light"
          },
          "paper_bgcolor": "white",
          "plot_bgcolor": "#E5ECF6",
          "polar": {
           "angularaxis": {
            "gridcolor": "white",
            "linecolor": "white",
            "ticks": ""
           },
           "bgcolor": "#E5ECF6",
           "radialaxis": {
            "gridcolor": "white",
            "linecolor": "white",
            "ticks": ""
           }
          },
          "scene": {
           "xaxis": {
            "backgroundcolor": "#E5ECF6",
            "gridcolor": "white",
            "gridwidth": 2,
            "linecolor": "white",
            "showbackground": true,
            "ticks": "",
            "zerolinecolor": "white"
           },
           "yaxis": {
            "backgroundcolor": "#E5ECF6",
            "gridcolor": "white",
            "gridwidth": 2,
            "linecolor": "white",
            "showbackground": true,
            "ticks": "",
            "zerolinecolor": "white"
           },
           "zaxis": {
            "backgroundcolor": "#E5ECF6",
            "gridcolor": "white",
            "gridwidth": 2,
            "linecolor": "white",
            "showbackground": true,
            "ticks": "",
            "zerolinecolor": "white"
           }
          },
          "shapedefaults": {
           "line": {
            "color": "#2a3f5f"
           }
          },
          "ternary": {
           "aaxis": {
            "gridcolor": "white",
            "linecolor": "white",
            "ticks": ""
           },
           "baxis": {
            "gridcolor": "white",
            "linecolor": "white",
            "ticks": ""
           },
           "bgcolor": "#E5ECF6",
           "caxis": {
            "gridcolor": "white",
            "linecolor": "white",
            "ticks": ""
           }
          },
          "title": {
           "x": 0.05
          },
          "xaxis": {
           "automargin": true,
           "gridcolor": "white",
           "linecolor": "white",
           "ticks": "",
           "title": {
            "standoff": 15
           },
           "zerolinecolor": "white",
           "zerolinewidth": 2
          },
          "yaxis": {
           "automargin": true,
           "gridcolor": "white",
           "linecolor": "white",
           "ticks": "",
           "title": {
            "standoff": 15
           },
           "zerolinecolor": "white",
           "zerolinewidth": 2
          }
         }
        }
       }
      },
      "text/html": [
       "<div>                            <div id=\"da33b63b-f967-4bc5-aa8c-672f19cf033f\" class=\"plotly-graph-div\" style=\"height:525px; width:100%;\"></div>            <script type=\"text/javascript\">                require([\"plotly\"], function(Plotly) {                    window.PLOTLYENV=window.PLOTLYENV || {};                                    if (document.getElementById(\"da33b63b-f967-4bc5-aa8c-672f19cf033f\")) {                    Plotly.newPlot(                        \"da33b63b-f967-4bc5-aa8c-672f19cf033f\",                        [{\"hoverinfo\": \"label+percent\", \"labels\": [\"avg_revenue\", \"high_revenue\", \"low_revenue\", \"medium_revenue\"], \"marker\": {\"colors\": [\"gold\", \"mediumturquoise\", \"darkorange\", \"lightgreen\"], \"line\": {\"color\": \"#000000\", \"width\": 2}}, \"textfont\": {\"size\": 20}, \"textinfo\": \"value\", \"type\": \"pie\", \"values\": [15641.740448412294, 52724.18893821645, 6322.309484579634, 11321.760781448529]}],                        {\"template\": {\"data\": {\"bar\": [{\"error_x\": {\"color\": \"#2a3f5f\"}, \"error_y\": {\"color\": \"#2a3f5f\"}, \"marker\": {\"line\": {\"color\": \"#E5ECF6\", \"width\": 0.5}}, \"type\": \"bar\"}], \"barpolar\": [{\"marker\": {\"line\": {\"color\": \"#E5ECF6\", \"width\": 0.5}}, \"type\": \"barpolar\"}], \"carpet\": [{\"aaxis\": {\"endlinecolor\": \"#2a3f5f\", \"gridcolor\": \"white\", \"linecolor\": \"white\", \"minorgridcolor\": \"white\", \"startlinecolor\": \"#2a3f5f\"}, \"baxis\": {\"endlinecolor\": \"#2a3f5f\", \"gridcolor\": \"white\", \"linecolor\": \"white\", \"minorgridcolor\": \"white\", \"startlinecolor\": \"#2a3f5f\"}, \"type\": \"carpet\"}], \"choropleth\": [{\"colorbar\": {\"outlinewidth\": 0, \"ticks\": \"\"}, \"type\": \"choropleth\"}], \"contour\": [{\"colorbar\": {\"outlinewidth\": 0, \"ticks\": \"\"}, \"colorscale\": [[0.0, \"#0d0887\"], [0.1111111111111111, \"#46039f\"], [0.2222222222222222, \"#7201a8\"], [0.3333333333333333, \"#9c179e\"], [0.4444444444444444, \"#bd3786\"], [0.5555555555555556, \"#d8576b\"], [0.6666666666666666, \"#ed7953\"], [0.7777777777777778, \"#fb9f3a\"], [0.8888888888888888, \"#fdca26\"], [1.0, \"#f0f921\"]], \"type\": \"contour\"}], \"contourcarpet\": [{\"colorbar\": {\"outlinewidth\": 0, \"ticks\": \"\"}, \"type\": \"contourcarpet\"}], \"heatmap\": [{\"colorbar\": {\"outlinewidth\": 0, \"ticks\": \"\"}, \"colorscale\": [[0.0, \"#0d0887\"], [0.1111111111111111, \"#46039f\"], [0.2222222222222222, \"#7201a8\"], [0.3333333333333333, \"#9c179e\"], [0.4444444444444444, \"#bd3786\"], [0.5555555555555556, \"#d8576b\"], [0.6666666666666666, \"#ed7953\"], [0.7777777777777778, \"#fb9f3a\"], [0.8888888888888888, \"#fdca26\"], [1.0, \"#f0f921\"]], \"type\": \"heatmap\"}], \"heatmapgl\": [{\"colorbar\": {\"outlinewidth\": 0, \"ticks\": \"\"}, \"colorscale\": [[0.0, \"#0d0887\"], [0.1111111111111111, \"#46039f\"], [0.2222222222222222, \"#7201a8\"], [0.3333333333333333, \"#9c179e\"], [0.4444444444444444, \"#bd3786\"], [0.5555555555555556, \"#d8576b\"], [0.6666666666666666, \"#ed7953\"], [0.7777777777777778, \"#fb9f3a\"], [0.8888888888888888, \"#fdca26\"], [1.0, \"#f0f921\"]], \"type\": \"heatmapgl\"}], \"histogram\": [{\"marker\": {\"colorbar\": {\"outlinewidth\": 0, \"ticks\": \"\"}}, \"type\": \"histogram\"}], \"histogram2d\": [{\"colorbar\": {\"outlinewidth\": 0, \"ticks\": \"\"}, \"colorscale\": [[0.0, \"#0d0887\"], [0.1111111111111111, \"#46039f\"], [0.2222222222222222, \"#7201a8\"], [0.3333333333333333, \"#9c179e\"], [0.4444444444444444, \"#bd3786\"], [0.5555555555555556, \"#d8576b\"], [0.6666666666666666, \"#ed7953\"], [0.7777777777777778, \"#fb9f3a\"], [0.8888888888888888, \"#fdca26\"], [1.0, \"#f0f921\"]], \"type\": \"histogram2d\"}], \"histogram2dcontour\": [{\"colorbar\": {\"outlinewidth\": 0, \"ticks\": \"\"}, \"colorscale\": [[0.0, \"#0d0887\"], [0.1111111111111111, \"#46039f\"], [0.2222222222222222, \"#7201a8\"], [0.3333333333333333, \"#9c179e\"], [0.4444444444444444, \"#bd3786\"], [0.5555555555555556, \"#d8576b\"], [0.6666666666666666, \"#ed7953\"], [0.7777777777777778, \"#fb9f3a\"], [0.8888888888888888, \"#fdca26\"], [1.0, \"#f0f921\"]], \"type\": \"histogram2dcontour\"}], \"mesh3d\": [{\"colorbar\": {\"outlinewidth\": 0, \"ticks\": \"\"}, \"type\": \"mesh3d\"}], \"parcoords\": [{\"line\": {\"colorbar\": {\"outlinewidth\": 0, \"ticks\": \"\"}}, \"type\": \"parcoords\"}], \"pie\": [{\"automargin\": true, \"type\": \"pie\"}], \"scatter\": [{\"marker\": {\"colorbar\": {\"outlinewidth\": 0, \"ticks\": \"\"}}, \"type\": \"scatter\"}], \"scatter3d\": [{\"line\": {\"colorbar\": {\"outlinewidth\": 0, \"ticks\": \"\"}}, \"marker\": {\"colorbar\": {\"outlinewidth\": 0, \"ticks\": \"\"}}, \"type\": \"scatter3d\"}], \"scattercarpet\": [{\"marker\": {\"colorbar\": {\"outlinewidth\": 0, \"ticks\": \"\"}}, \"type\": \"scattercarpet\"}], \"scattergeo\": [{\"marker\": {\"colorbar\": {\"outlinewidth\": 0, \"ticks\": \"\"}}, \"type\": \"scattergeo\"}], \"scattergl\": [{\"marker\": {\"colorbar\": {\"outlinewidth\": 0, \"ticks\": \"\"}}, \"type\": \"scattergl\"}], \"scattermapbox\": [{\"marker\": {\"colorbar\": {\"outlinewidth\": 0, \"ticks\": \"\"}}, \"type\": \"scattermapbox\"}], \"scatterpolar\": [{\"marker\": {\"colorbar\": {\"outlinewidth\": 0, \"ticks\": \"\"}}, \"type\": \"scatterpolar\"}], \"scatterpolargl\": [{\"marker\": {\"colorbar\": {\"outlinewidth\": 0, \"ticks\": \"\"}}, \"type\": \"scatterpolargl\"}], \"scatterternary\": [{\"marker\": {\"colorbar\": {\"outlinewidth\": 0, \"ticks\": \"\"}}, \"type\": \"scatterternary\"}], \"surface\": [{\"colorbar\": {\"outlinewidth\": 0, \"ticks\": \"\"}, \"colorscale\": [[0.0, \"#0d0887\"], [0.1111111111111111, \"#46039f\"], [0.2222222222222222, \"#7201a8\"], [0.3333333333333333, \"#9c179e\"], [0.4444444444444444, \"#bd3786\"], [0.5555555555555556, \"#d8576b\"], [0.6666666666666666, \"#ed7953\"], [0.7777777777777778, \"#fb9f3a\"], [0.8888888888888888, \"#fdca26\"], [1.0, \"#f0f921\"]], \"type\": \"surface\"}], \"table\": [{\"cells\": {\"fill\": {\"color\": \"#EBF0F8\"}, \"line\": {\"color\": \"white\"}}, \"header\": {\"fill\": {\"color\": \"#C8D4E3\"}, \"line\": {\"color\": \"white\"}}, \"type\": \"table\"}]}, \"layout\": {\"annotationdefaults\": {\"arrowcolor\": \"#2a3f5f\", \"arrowhead\": 0, \"arrowwidth\": 1}, \"autotypenumbers\": \"strict\", \"coloraxis\": {\"colorbar\": {\"outlinewidth\": 0, \"ticks\": \"\"}}, \"colorscale\": {\"diverging\": [[0, \"#8e0152\"], [0.1, \"#c51b7d\"], [0.2, \"#de77ae\"], [0.3, \"#f1b6da\"], [0.4, \"#fde0ef\"], [0.5, \"#f7f7f7\"], [0.6, \"#e6f5d0\"], [0.7, \"#b8e186\"], [0.8, \"#7fbc41\"], [0.9, \"#4d9221\"], [1, \"#276419\"]], \"sequential\": [[0.0, \"#0d0887\"], [0.1111111111111111, \"#46039f\"], [0.2222222222222222, \"#7201a8\"], [0.3333333333333333, \"#9c179e\"], [0.4444444444444444, \"#bd3786\"], [0.5555555555555556, \"#d8576b\"], [0.6666666666666666, \"#ed7953\"], [0.7777777777777778, \"#fb9f3a\"], [0.8888888888888888, \"#fdca26\"], [1.0, \"#f0f921\"]], \"sequentialminus\": [[0.0, \"#0d0887\"], [0.1111111111111111, \"#46039f\"], [0.2222222222222222, \"#7201a8\"], [0.3333333333333333, \"#9c179e\"], [0.4444444444444444, \"#bd3786\"], [0.5555555555555556, \"#d8576b\"], [0.6666666666666666, \"#ed7953\"], [0.7777777777777778, \"#fb9f3a\"], [0.8888888888888888, \"#fdca26\"], [1.0, \"#f0f921\"]]}, \"colorway\": [\"#636efa\", \"#EF553B\", \"#00cc96\", \"#ab63fa\", \"#FFA15A\", \"#19d3f3\", \"#FF6692\", \"#B6E880\", \"#FF97FF\", \"#FECB52\"], \"font\": {\"color\": \"#2a3f5f\"}, \"geo\": {\"bgcolor\": \"white\", \"lakecolor\": \"white\", \"landcolor\": \"#E5ECF6\", \"showlakes\": true, \"showland\": true, \"subunitcolor\": \"white\"}, \"hoverlabel\": {\"align\": \"left\"}, \"hovermode\": \"closest\", \"mapbox\": {\"style\": \"light\"}, \"paper_bgcolor\": \"white\", \"plot_bgcolor\": \"#E5ECF6\", \"polar\": {\"angularaxis\": {\"gridcolor\": \"white\", \"linecolor\": \"white\", \"ticks\": \"\"}, \"bgcolor\": \"#E5ECF6\", \"radialaxis\": {\"gridcolor\": \"white\", \"linecolor\": \"white\", \"ticks\": \"\"}}, \"scene\": {\"xaxis\": {\"backgroundcolor\": \"#E5ECF6\", \"gridcolor\": \"white\", \"gridwidth\": 2, \"linecolor\": \"white\", \"showbackground\": true, \"ticks\": \"\", \"zerolinecolor\": \"white\"}, \"yaxis\": {\"backgroundcolor\": \"#E5ECF6\", \"gridcolor\": \"white\", \"gridwidth\": 2, \"linecolor\": \"white\", \"showbackground\": true, \"ticks\": \"\", \"zerolinecolor\": \"white\"}, \"zaxis\": {\"backgroundcolor\": \"#E5ECF6\", \"gridcolor\": \"white\", \"gridwidth\": 2, \"linecolor\": \"white\", \"showbackground\": true, \"ticks\": \"\", \"zerolinecolor\": \"white\"}}, \"shapedefaults\": {\"line\": {\"color\": \"#2a3f5f\"}}, \"ternary\": {\"aaxis\": {\"gridcolor\": \"white\", \"linecolor\": \"white\", \"ticks\": \"\"}, \"baxis\": {\"gridcolor\": \"white\", \"linecolor\": \"white\", \"ticks\": \"\"}, \"bgcolor\": \"#E5ECF6\", \"caxis\": {\"gridcolor\": \"white\", \"linecolor\": \"white\", \"ticks\": \"\"}}, \"title\": {\"x\": 0.05}, \"xaxis\": {\"automargin\": true, \"gridcolor\": \"white\", \"linecolor\": \"white\", \"ticks\": \"\", \"title\": {\"standoff\": 15}, \"zerolinecolor\": \"white\", \"zerolinewidth\": 2}, \"yaxis\": {\"automargin\": true, \"gridcolor\": \"white\", \"linecolor\": \"white\", \"ticks\": \"\", \"title\": {\"standoff\": 15}, \"zerolinecolor\": \"white\", \"zerolinewidth\": 2}}}},                        {\"responsive\": true}                    ).then(function(){\n",
       "                            \n",
       "var gd = document.getElementById('da33b63b-f967-4bc5-aa8c-672f19cf033f');\n",
       "var x = new MutationObserver(function (mutations, observer) {{\n",
       "        var display = window.getComputedStyle(gd).display;\n",
       "        if (!display || display === 'none') {{\n",
       "            console.log([gd, 'removed!']);\n",
       "            Plotly.purge(gd);\n",
       "            observer.disconnect();\n",
       "        }}\n",
       "}});\n",
       "\n",
       "// Listen for the removal of the full notebook cells\n",
       "var notebookContainer = gd.closest('#notebook-container');\n",
       "if (notebookContainer) {{\n",
       "    x.observe(notebookContainer, {childList: true});\n",
       "}}\n",
       "\n",
       "// Listen for the clearing of the current output cell\n",
       "var outputEl = gd.closest('.output');\n",
       "if (outputEl) {{\n",
       "    x.observe(outputEl, {childList: true});\n",
       "}}\n",
       "\n",
       "                        })                };                });            </script>        </div>"
      ]
     },
     "metadata": {},
     "output_type": "display_data"
    },
    {
     "data": {
      "application/vnd.plotly.v1+json": {
       "config": {
        "plotlyServerURL": "https://plot.ly"
       },
       "data": [
        {
         "hoverinfo": "label+percent",
         "labels": [
          "avg_revenue",
          "high_revenue",
          "low_revenue",
          "medium_revenue"
         ],
         "marker": {
          "colors": [
           "gold",
           "mediumturquoise",
           "darkorange",
           "lightgreen"
          ],
          "line": {
           "color": "#000000",
           "width": 2
          }
         },
         "textfont": {
          "size": 20
         },
         "textinfo": "value",
         "type": "pie",
         "values": [
          15641.740448412294,
          52724.18893821645,
          6322.309484579634,
          11321.760781448529
         ]
        }
       ],
       "layout": {
        "template": {
         "data": {
          "bar": [
           {
            "error_x": {
             "color": "#2a3f5f"
            },
            "error_y": {
             "color": "#2a3f5f"
            },
            "marker": {
             "line": {
              "color": "#E5ECF6",
              "width": 0.5
             }
            },
            "type": "bar"
           }
          ],
          "barpolar": [
           {
            "marker": {
             "line": {
              "color": "#E5ECF6",
              "width": 0.5
             }
            },
            "type": "barpolar"
           }
          ],
          "carpet": [
           {
            "aaxis": {
             "endlinecolor": "#2a3f5f",
             "gridcolor": "white",
             "linecolor": "white",
             "minorgridcolor": "white",
             "startlinecolor": "#2a3f5f"
            },
            "baxis": {
             "endlinecolor": "#2a3f5f",
             "gridcolor": "white",
             "linecolor": "white",
             "minorgridcolor": "white",
             "startlinecolor": "#2a3f5f"
            },
            "type": "carpet"
           }
          ],
          "choropleth": [
           {
            "colorbar": {
             "outlinewidth": 0,
             "ticks": ""
            },
            "type": "choropleth"
           }
          ],
          "contour": [
           {
            "colorbar": {
             "outlinewidth": 0,
             "ticks": ""
            },
            "colorscale": [
             [
              0,
              "#0d0887"
             ],
             [
              0.1111111111111111,
              "#46039f"
             ],
             [
              0.2222222222222222,
              "#7201a8"
             ],
             [
              0.3333333333333333,
              "#9c179e"
             ],
             [
              0.4444444444444444,
              "#bd3786"
             ],
             [
              0.5555555555555556,
              "#d8576b"
             ],
             [
              0.6666666666666666,
              "#ed7953"
             ],
             [
              0.7777777777777778,
              "#fb9f3a"
             ],
             [
              0.8888888888888888,
              "#fdca26"
             ],
             [
              1,
              "#f0f921"
             ]
            ],
            "type": "contour"
           }
          ],
          "contourcarpet": [
           {
            "colorbar": {
             "outlinewidth": 0,
             "ticks": ""
            },
            "type": "contourcarpet"
           }
          ],
          "heatmap": [
           {
            "colorbar": {
             "outlinewidth": 0,
             "ticks": ""
            },
            "colorscale": [
             [
              0,
              "#0d0887"
             ],
             [
              0.1111111111111111,
              "#46039f"
             ],
             [
              0.2222222222222222,
              "#7201a8"
             ],
             [
              0.3333333333333333,
              "#9c179e"
             ],
             [
              0.4444444444444444,
              "#bd3786"
             ],
             [
              0.5555555555555556,
              "#d8576b"
             ],
             [
              0.6666666666666666,
              "#ed7953"
             ],
             [
              0.7777777777777778,
              "#fb9f3a"
             ],
             [
              0.8888888888888888,
              "#fdca26"
             ],
             [
              1,
              "#f0f921"
             ]
            ],
            "type": "heatmap"
           }
          ],
          "heatmapgl": [
           {
            "colorbar": {
             "outlinewidth": 0,
             "ticks": ""
            },
            "colorscale": [
             [
              0,
              "#0d0887"
             ],
             [
              0.1111111111111111,
              "#46039f"
             ],
             [
              0.2222222222222222,
              "#7201a8"
             ],
             [
              0.3333333333333333,
              "#9c179e"
             ],
             [
              0.4444444444444444,
              "#bd3786"
             ],
             [
              0.5555555555555556,
              "#d8576b"
             ],
             [
              0.6666666666666666,
              "#ed7953"
             ],
             [
              0.7777777777777778,
              "#fb9f3a"
             ],
             [
              0.8888888888888888,
              "#fdca26"
             ],
             [
              1,
              "#f0f921"
             ]
            ],
            "type": "heatmapgl"
           }
          ],
          "histogram": [
           {
            "marker": {
             "colorbar": {
              "outlinewidth": 0,
              "ticks": ""
             }
            },
            "type": "histogram"
           }
          ],
          "histogram2d": [
           {
            "colorbar": {
             "outlinewidth": 0,
             "ticks": ""
            },
            "colorscale": [
             [
              0,
              "#0d0887"
             ],
             [
              0.1111111111111111,
              "#46039f"
             ],
             [
              0.2222222222222222,
              "#7201a8"
             ],
             [
              0.3333333333333333,
              "#9c179e"
             ],
             [
              0.4444444444444444,
              "#bd3786"
             ],
             [
              0.5555555555555556,
              "#d8576b"
             ],
             [
              0.6666666666666666,
              "#ed7953"
             ],
             [
              0.7777777777777778,
              "#fb9f3a"
             ],
             [
              0.8888888888888888,
              "#fdca26"
             ],
             [
              1,
              "#f0f921"
             ]
            ],
            "type": "histogram2d"
           }
          ],
          "histogram2dcontour": [
           {
            "colorbar": {
             "outlinewidth": 0,
             "ticks": ""
            },
            "colorscale": [
             [
              0,
              "#0d0887"
             ],
             [
              0.1111111111111111,
              "#46039f"
             ],
             [
              0.2222222222222222,
              "#7201a8"
             ],
             [
              0.3333333333333333,
              "#9c179e"
             ],
             [
              0.4444444444444444,
              "#bd3786"
             ],
             [
              0.5555555555555556,
              "#d8576b"
             ],
             [
              0.6666666666666666,
              "#ed7953"
             ],
             [
              0.7777777777777778,
              "#fb9f3a"
             ],
             [
              0.8888888888888888,
              "#fdca26"
             ],
             [
              1,
              "#f0f921"
             ]
            ],
            "type": "histogram2dcontour"
           }
          ],
          "mesh3d": [
           {
            "colorbar": {
             "outlinewidth": 0,
             "ticks": ""
            },
            "type": "mesh3d"
           }
          ],
          "parcoords": [
           {
            "line": {
             "colorbar": {
              "outlinewidth": 0,
              "ticks": ""
             }
            },
            "type": "parcoords"
           }
          ],
          "pie": [
           {
            "automargin": true,
            "type": "pie"
           }
          ],
          "scatter": [
           {
            "marker": {
             "colorbar": {
              "outlinewidth": 0,
              "ticks": ""
             }
            },
            "type": "scatter"
           }
          ],
          "scatter3d": [
           {
            "line": {
             "colorbar": {
              "outlinewidth": 0,
              "ticks": ""
             }
            },
            "marker": {
             "colorbar": {
              "outlinewidth": 0,
              "ticks": ""
             }
            },
            "type": "scatter3d"
           }
          ],
          "scattercarpet": [
           {
            "marker": {
             "colorbar": {
              "outlinewidth": 0,
              "ticks": ""
             }
            },
            "type": "scattercarpet"
           }
          ],
          "scattergeo": [
           {
            "marker": {
             "colorbar": {
              "outlinewidth": 0,
              "ticks": ""
             }
            },
            "type": "scattergeo"
           }
          ],
          "scattergl": [
           {
            "marker": {
             "colorbar": {
              "outlinewidth": 0,
              "ticks": ""
             }
            },
            "type": "scattergl"
           }
          ],
          "scattermapbox": [
           {
            "marker": {
             "colorbar": {
              "outlinewidth": 0,
              "ticks": ""
             }
            },
            "type": "scattermapbox"
           }
          ],
          "scatterpolar": [
           {
            "marker": {
             "colorbar": {
              "outlinewidth": 0,
              "ticks": ""
             }
            },
            "type": "scatterpolar"
           }
          ],
          "scatterpolargl": [
           {
            "marker": {
             "colorbar": {
              "outlinewidth": 0,
              "ticks": ""
             }
            },
            "type": "scatterpolargl"
           }
          ],
          "scatterternary": [
           {
            "marker": {
             "colorbar": {
              "outlinewidth": 0,
              "ticks": ""
             }
            },
            "type": "scatterternary"
           }
          ],
          "surface": [
           {
            "colorbar": {
             "outlinewidth": 0,
             "ticks": ""
            },
            "colorscale": [
             [
              0,
              "#0d0887"
             ],
             [
              0.1111111111111111,
              "#46039f"
             ],
             [
              0.2222222222222222,
              "#7201a8"
             ],
             [
              0.3333333333333333,
              "#9c179e"
             ],
             [
              0.4444444444444444,
              "#bd3786"
             ],
             [
              0.5555555555555556,
              "#d8576b"
             ],
             [
              0.6666666666666666,
              "#ed7953"
             ],
             [
              0.7777777777777778,
              "#fb9f3a"
             ],
             [
              0.8888888888888888,
              "#fdca26"
             ],
             [
              1,
              "#f0f921"
             ]
            ],
            "type": "surface"
           }
          ],
          "table": [
           {
            "cells": {
             "fill": {
              "color": "#EBF0F8"
             },
             "line": {
              "color": "white"
             }
            },
            "header": {
             "fill": {
              "color": "#C8D4E3"
             },
             "line": {
              "color": "white"
             }
            },
            "type": "table"
           }
          ]
         },
         "layout": {
          "annotationdefaults": {
           "arrowcolor": "#2a3f5f",
           "arrowhead": 0,
           "arrowwidth": 1
          },
          "autotypenumbers": "strict",
          "coloraxis": {
           "colorbar": {
            "outlinewidth": 0,
            "ticks": ""
           }
          },
          "colorscale": {
           "diverging": [
            [
             0,
             "#8e0152"
            ],
            [
             0.1,
             "#c51b7d"
            ],
            [
             0.2,
             "#de77ae"
            ],
            [
             0.3,
             "#f1b6da"
            ],
            [
             0.4,
             "#fde0ef"
            ],
            [
             0.5,
             "#f7f7f7"
            ],
            [
             0.6,
             "#e6f5d0"
            ],
            [
             0.7,
             "#b8e186"
            ],
            [
             0.8,
             "#7fbc41"
            ],
            [
             0.9,
             "#4d9221"
            ],
            [
             1,
             "#276419"
            ]
           ],
           "sequential": [
            [
             0,
             "#0d0887"
            ],
            [
             0.1111111111111111,
             "#46039f"
            ],
            [
             0.2222222222222222,
             "#7201a8"
            ],
            [
             0.3333333333333333,
             "#9c179e"
            ],
            [
             0.4444444444444444,
             "#bd3786"
            ],
            [
             0.5555555555555556,
             "#d8576b"
            ],
            [
             0.6666666666666666,
             "#ed7953"
            ],
            [
             0.7777777777777778,
             "#fb9f3a"
            ],
            [
             0.8888888888888888,
             "#fdca26"
            ],
            [
             1,
             "#f0f921"
            ]
           ],
           "sequentialminus": [
            [
             0,
             "#0d0887"
            ],
            [
             0.1111111111111111,
             "#46039f"
            ],
            [
             0.2222222222222222,
             "#7201a8"
            ],
            [
             0.3333333333333333,
             "#9c179e"
            ],
            [
             0.4444444444444444,
             "#bd3786"
            ],
            [
             0.5555555555555556,
             "#d8576b"
            ],
            [
             0.6666666666666666,
             "#ed7953"
            ],
            [
             0.7777777777777778,
             "#fb9f3a"
            ],
            [
             0.8888888888888888,
             "#fdca26"
            ],
            [
             1,
             "#f0f921"
            ]
           ]
          },
          "colorway": [
           "#636efa",
           "#EF553B",
           "#00cc96",
           "#ab63fa",
           "#FFA15A",
           "#19d3f3",
           "#FF6692",
           "#B6E880",
           "#FF97FF",
           "#FECB52"
          ],
          "font": {
           "color": "#2a3f5f"
          },
          "geo": {
           "bgcolor": "white",
           "lakecolor": "white",
           "landcolor": "#E5ECF6",
           "showlakes": true,
           "showland": true,
           "subunitcolor": "white"
          },
          "hoverlabel": {
           "align": "left"
          },
          "hovermode": "closest",
          "mapbox": {
           "style": "light"
          },
          "paper_bgcolor": "white",
          "plot_bgcolor": "#E5ECF6",
          "polar": {
           "angularaxis": {
            "gridcolor": "white",
            "linecolor": "white",
            "ticks": ""
           },
           "bgcolor": "#E5ECF6",
           "radialaxis": {
            "gridcolor": "white",
            "linecolor": "white",
            "ticks": ""
           }
          },
          "scene": {
           "xaxis": {
            "backgroundcolor": "#E5ECF6",
            "gridcolor": "white",
            "gridwidth": 2,
            "linecolor": "white",
            "showbackground": true,
            "ticks": "",
            "zerolinecolor": "white"
           },
           "yaxis": {
            "backgroundcolor": "#E5ECF6",
            "gridcolor": "white",
            "gridwidth": 2,
            "linecolor": "white",
            "showbackground": true,
            "ticks": "",
            "zerolinecolor": "white"
           },
           "zaxis": {
            "backgroundcolor": "#E5ECF6",
            "gridcolor": "white",
            "gridwidth": 2,
            "linecolor": "white",
            "showbackground": true,
            "ticks": "",
            "zerolinecolor": "white"
           }
          },
          "shapedefaults": {
           "line": {
            "color": "#2a3f5f"
           }
          },
          "ternary": {
           "aaxis": {
            "gridcolor": "white",
            "linecolor": "white",
            "ticks": ""
           },
           "baxis": {
            "gridcolor": "white",
            "linecolor": "white",
            "ticks": ""
           },
           "bgcolor": "#E5ECF6",
           "caxis": {
            "gridcolor": "white",
            "linecolor": "white",
            "ticks": ""
           }
          },
          "title": {
           "x": 0.05
          },
          "xaxis": {
           "automargin": true,
           "gridcolor": "white",
           "linecolor": "white",
           "ticks": "",
           "title": {
            "standoff": 15
           },
           "zerolinecolor": "white",
           "zerolinewidth": 2
          },
          "yaxis": {
           "automargin": true,
           "gridcolor": "white",
           "linecolor": "white",
           "ticks": "",
           "title": {
            "standoff": 15
           },
           "zerolinecolor": "white",
           "zerolinewidth": 2
          }
         }
        }
       }
      },
      "text/html": [
       "<div>                            <div id=\"4d057dc2-3357-441b-8524-ce13613e314e\" class=\"plotly-graph-div\" style=\"height:525px; width:100%;\"></div>            <script type=\"text/javascript\">                require([\"plotly\"], function(Plotly) {                    window.PLOTLYENV=window.PLOTLYENV || {};                                    if (document.getElementById(\"4d057dc2-3357-441b-8524-ce13613e314e\")) {                    Plotly.newPlot(                        \"4d057dc2-3357-441b-8524-ce13613e314e\",                        [{\"hoverinfo\": \"label+percent\", \"labels\": [\"avg_revenue\", \"high_revenue\", \"low_revenue\", \"medium_revenue\"], \"marker\": {\"colors\": [\"gold\", \"mediumturquoise\", \"darkorange\", \"lightgreen\"], \"line\": {\"color\": \"#000000\", \"width\": 2}}, \"textfont\": {\"size\": 20}, \"textinfo\": \"value\", \"type\": \"pie\", \"values\": [15641.740448412294, 52724.18893821645, 6322.309484579634, 11321.760781448529]}],                        {\"template\": {\"data\": {\"bar\": [{\"error_x\": {\"color\": \"#2a3f5f\"}, \"error_y\": {\"color\": \"#2a3f5f\"}, \"marker\": {\"line\": {\"color\": \"#E5ECF6\", \"width\": 0.5}}, \"type\": \"bar\"}], \"barpolar\": [{\"marker\": {\"line\": {\"color\": \"#E5ECF6\", \"width\": 0.5}}, \"type\": \"barpolar\"}], \"carpet\": [{\"aaxis\": {\"endlinecolor\": \"#2a3f5f\", \"gridcolor\": \"white\", \"linecolor\": \"white\", \"minorgridcolor\": \"white\", \"startlinecolor\": \"#2a3f5f\"}, \"baxis\": {\"endlinecolor\": \"#2a3f5f\", \"gridcolor\": \"white\", \"linecolor\": \"white\", \"minorgridcolor\": \"white\", \"startlinecolor\": \"#2a3f5f\"}, \"type\": \"carpet\"}], \"choropleth\": [{\"colorbar\": {\"outlinewidth\": 0, \"ticks\": \"\"}, \"type\": \"choropleth\"}], \"contour\": [{\"colorbar\": {\"outlinewidth\": 0, \"ticks\": \"\"}, \"colorscale\": [[0.0, \"#0d0887\"], [0.1111111111111111, \"#46039f\"], [0.2222222222222222, \"#7201a8\"], [0.3333333333333333, \"#9c179e\"], [0.4444444444444444, \"#bd3786\"], [0.5555555555555556, \"#d8576b\"], [0.6666666666666666, \"#ed7953\"], [0.7777777777777778, \"#fb9f3a\"], [0.8888888888888888, \"#fdca26\"], [1.0, \"#f0f921\"]], \"type\": \"contour\"}], \"contourcarpet\": [{\"colorbar\": {\"outlinewidth\": 0, \"ticks\": \"\"}, \"type\": \"contourcarpet\"}], \"heatmap\": [{\"colorbar\": {\"outlinewidth\": 0, \"ticks\": \"\"}, \"colorscale\": [[0.0, \"#0d0887\"], [0.1111111111111111, \"#46039f\"], [0.2222222222222222, \"#7201a8\"], [0.3333333333333333, \"#9c179e\"], [0.4444444444444444, \"#bd3786\"], [0.5555555555555556, \"#d8576b\"], [0.6666666666666666, \"#ed7953\"], [0.7777777777777778, \"#fb9f3a\"], [0.8888888888888888, \"#fdca26\"], [1.0, \"#f0f921\"]], \"type\": \"heatmap\"}], \"heatmapgl\": [{\"colorbar\": {\"outlinewidth\": 0, \"ticks\": \"\"}, \"colorscale\": [[0.0, \"#0d0887\"], [0.1111111111111111, \"#46039f\"], [0.2222222222222222, \"#7201a8\"], [0.3333333333333333, \"#9c179e\"], [0.4444444444444444, \"#bd3786\"], [0.5555555555555556, \"#d8576b\"], [0.6666666666666666, \"#ed7953\"], [0.7777777777777778, \"#fb9f3a\"], [0.8888888888888888, \"#fdca26\"], [1.0, \"#f0f921\"]], \"type\": \"heatmapgl\"}], \"histogram\": [{\"marker\": {\"colorbar\": {\"outlinewidth\": 0, \"ticks\": \"\"}}, \"type\": \"histogram\"}], \"histogram2d\": [{\"colorbar\": {\"outlinewidth\": 0, \"ticks\": \"\"}, \"colorscale\": [[0.0, \"#0d0887\"], [0.1111111111111111, \"#46039f\"], [0.2222222222222222, \"#7201a8\"], [0.3333333333333333, \"#9c179e\"], [0.4444444444444444, \"#bd3786\"], [0.5555555555555556, \"#d8576b\"], [0.6666666666666666, \"#ed7953\"], [0.7777777777777778, \"#fb9f3a\"], [0.8888888888888888, \"#fdca26\"], [1.0, \"#f0f921\"]], \"type\": \"histogram2d\"}], \"histogram2dcontour\": [{\"colorbar\": {\"outlinewidth\": 0, \"ticks\": \"\"}, \"colorscale\": [[0.0, \"#0d0887\"], [0.1111111111111111, \"#46039f\"], [0.2222222222222222, \"#7201a8\"], [0.3333333333333333, \"#9c179e\"], [0.4444444444444444, \"#bd3786\"], [0.5555555555555556, \"#d8576b\"], [0.6666666666666666, \"#ed7953\"], [0.7777777777777778, \"#fb9f3a\"], [0.8888888888888888, \"#fdca26\"], [1.0, \"#f0f921\"]], \"type\": \"histogram2dcontour\"}], \"mesh3d\": [{\"colorbar\": {\"outlinewidth\": 0, \"ticks\": \"\"}, \"type\": \"mesh3d\"}], \"parcoords\": [{\"line\": {\"colorbar\": {\"outlinewidth\": 0, \"ticks\": \"\"}}, \"type\": \"parcoords\"}], \"pie\": [{\"automargin\": true, \"type\": \"pie\"}], \"scatter\": [{\"marker\": {\"colorbar\": {\"outlinewidth\": 0, \"ticks\": \"\"}}, \"type\": \"scatter\"}], \"scatter3d\": [{\"line\": {\"colorbar\": {\"outlinewidth\": 0, \"ticks\": \"\"}}, \"marker\": {\"colorbar\": {\"outlinewidth\": 0, \"ticks\": \"\"}}, \"type\": \"scatter3d\"}], \"scattercarpet\": [{\"marker\": {\"colorbar\": {\"outlinewidth\": 0, \"ticks\": \"\"}}, \"type\": \"scattercarpet\"}], \"scattergeo\": [{\"marker\": {\"colorbar\": {\"outlinewidth\": 0, \"ticks\": \"\"}}, \"type\": \"scattergeo\"}], \"scattergl\": [{\"marker\": {\"colorbar\": {\"outlinewidth\": 0, \"ticks\": \"\"}}, \"type\": \"scattergl\"}], \"scattermapbox\": [{\"marker\": {\"colorbar\": {\"outlinewidth\": 0, \"ticks\": \"\"}}, \"type\": \"scattermapbox\"}], \"scatterpolar\": [{\"marker\": {\"colorbar\": {\"outlinewidth\": 0, \"ticks\": \"\"}}, \"type\": \"scatterpolar\"}], \"scatterpolargl\": [{\"marker\": {\"colorbar\": {\"outlinewidth\": 0, \"ticks\": \"\"}}, \"type\": \"scatterpolargl\"}], \"scatterternary\": [{\"marker\": {\"colorbar\": {\"outlinewidth\": 0, \"ticks\": \"\"}}, \"type\": \"scatterternary\"}], \"surface\": [{\"colorbar\": {\"outlinewidth\": 0, \"ticks\": \"\"}, \"colorscale\": [[0.0, \"#0d0887\"], [0.1111111111111111, \"#46039f\"], [0.2222222222222222, \"#7201a8\"], [0.3333333333333333, \"#9c179e\"], [0.4444444444444444, \"#bd3786\"], [0.5555555555555556, \"#d8576b\"], [0.6666666666666666, \"#ed7953\"], [0.7777777777777778, \"#fb9f3a\"], [0.8888888888888888, \"#fdca26\"], [1.0, \"#f0f921\"]], \"type\": \"surface\"}], \"table\": [{\"cells\": {\"fill\": {\"color\": \"#EBF0F8\"}, \"line\": {\"color\": \"white\"}}, \"header\": {\"fill\": {\"color\": \"#C8D4E3\"}, \"line\": {\"color\": \"white\"}}, \"type\": \"table\"}]}, \"layout\": {\"annotationdefaults\": {\"arrowcolor\": \"#2a3f5f\", \"arrowhead\": 0, \"arrowwidth\": 1}, \"autotypenumbers\": \"strict\", \"coloraxis\": {\"colorbar\": {\"outlinewidth\": 0, \"ticks\": \"\"}}, \"colorscale\": {\"diverging\": [[0, \"#8e0152\"], [0.1, \"#c51b7d\"], [0.2, \"#de77ae\"], [0.3, \"#f1b6da\"], [0.4, \"#fde0ef\"], [0.5, \"#f7f7f7\"], [0.6, \"#e6f5d0\"], [0.7, \"#b8e186\"], [0.8, \"#7fbc41\"], [0.9, \"#4d9221\"], [1, \"#276419\"]], \"sequential\": [[0.0, \"#0d0887\"], [0.1111111111111111, \"#46039f\"], [0.2222222222222222, \"#7201a8\"], [0.3333333333333333, \"#9c179e\"], [0.4444444444444444, \"#bd3786\"], [0.5555555555555556, \"#d8576b\"], [0.6666666666666666, \"#ed7953\"], [0.7777777777777778, \"#fb9f3a\"], [0.8888888888888888, \"#fdca26\"], [1.0, \"#f0f921\"]], \"sequentialminus\": [[0.0, \"#0d0887\"], [0.1111111111111111, \"#46039f\"], [0.2222222222222222, \"#7201a8\"], [0.3333333333333333, \"#9c179e\"], [0.4444444444444444, \"#bd3786\"], [0.5555555555555556, \"#d8576b\"], [0.6666666666666666, \"#ed7953\"], [0.7777777777777778, \"#fb9f3a\"], [0.8888888888888888, \"#fdca26\"], [1.0, \"#f0f921\"]]}, \"colorway\": [\"#636efa\", \"#EF553B\", \"#00cc96\", \"#ab63fa\", \"#FFA15A\", \"#19d3f3\", \"#FF6692\", \"#B6E880\", \"#FF97FF\", \"#FECB52\"], \"font\": {\"color\": \"#2a3f5f\"}, \"geo\": {\"bgcolor\": \"white\", \"lakecolor\": \"white\", \"landcolor\": \"#E5ECF6\", \"showlakes\": true, \"showland\": true, \"subunitcolor\": \"white\"}, \"hoverlabel\": {\"align\": \"left\"}, \"hovermode\": \"closest\", \"mapbox\": {\"style\": \"light\"}, \"paper_bgcolor\": \"white\", \"plot_bgcolor\": \"#E5ECF6\", \"polar\": {\"angularaxis\": {\"gridcolor\": \"white\", \"linecolor\": \"white\", \"ticks\": \"\"}, \"bgcolor\": \"#E5ECF6\", \"radialaxis\": {\"gridcolor\": \"white\", \"linecolor\": \"white\", \"ticks\": \"\"}}, \"scene\": {\"xaxis\": {\"backgroundcolor\": \"#E5ECF6\", \"gridcolor\": \"white\", \"gridwidth\": 2, \"linecolor\": \"white\", \"showbackground\": true, \"ticks\": \"\", \"zerolinecolor\": \"white\"}, \"yaxis\": {\"backgroundcolor\": \"#E5ECF6\", \"gridcolor\": \"white\", \"gridwidth\": 2, \"linecolor\": \"white\", \"showbackground\": true, \"ticks\": \"\", \"zerolinecolor\": \"white\"}, \"zaxis\": {\"backgroundcolor\": \"#E5ECF6\", \"gridcolor\": \"white\", \"gridwidth\": 2, \"linecolor\": \"white\", \"showbackground\": true, \"ticks\": \"\", \"zerolinecolor\": \"white\"}}, \"shapedefaults\": {\"line\": {\"color\": \"#2a3f5f\"}}, \"ternary\": {\"aaxis\": {\"gridcolor\": \"white\", \"linecolor\": \"white\", \"ticks\": \"\"}, \"baxis\": {\"gridcolor\": \"white\", \"linecolor\": \"white\", \"ticks\": \"\"}, \"bgcolor\": \"#E5ECF6\", \"caxis\": {\"gridcolor\": \"white\", \"linecolor\": \"white\", \"ticks\": \"\"}}, \"title\": {\"x\": 0.05}, \"xaxis\": {\"automargin\": true, \"gridcolor\": \"white\", \"linecolor\": \"white\", \"ticks\": \"\", \"title\": {\"standoff\": 15}, \"zerolinecolor\": \"white\", \"zerolinewidth\": 2}, \"yaxis\": {\"automargin\": true, \"gridcolor\": \"white\", \"linecolor\": \"white\", \"ticks\": \"\", \"title\": {\"standoff\": 15}, \"zerolinecolor\": \"white\", \"zerolinewidth\": 2}}}},                        {\"responsive\": true}                    ).then(function(){\n",
       "                            \n",
       "var gd = document.getElementById('4d057dc2-3357-441b-8524-ce13613e314e');\n",
       "var x = new MutationObserver(function (mutations, observer) {{\n",
       "        var display = window.getComputedStyle(gd).display;\n",
       "        if (!display || display === 'none') {{\n",
       "            console.log([gd, 'removed!']);\n",
       "            Plotly.purge(gd);\n",
       "            observer.disconnect();\n",
       "        }}\n",
       "}});\n",
       "\n",
       "// Listen for the removal of the full notebook cells\n",
       "var notebookContainer = gd.closest('#notebook-container');\n",
       "if (notebookContainer) {{\n",
       "    x.observe(notebookContainer, {childList: true});\n",
       "}}\n",
       "\n",
       "// Listen for the clearing of the current output cell\n",
       "var outputEl = gd.closest('.output');\n",
       "if (outputEl) {{\n",
       "    x.observe(outputEl, {childList: true});\n",
       "}}\n",
       "\n",
       "                        })                };                });            </script>        </div>"
      ]
     },
     "metadata": {},
     "output_type": "display_data"
    }
   ],
   "source": [
    "import plotly.graph_objects as go\n",
    "colors = ['gold', 'mediumturquoise', 'darkorange', 'lightgreen']\n",
    "\n",
    "fig = go.Figure(data=[go.Pie(labels=over['Clusters'],\n",
    "                             values=over['Average'])])\n",
    "fig.update_traces(hoverinfo='label+percent', textinfo='value', textfont_size=20,\n",
    "                  marker=dict(colors=colors, line=dict(color='#000000', width=2)))\n",
    "fig.show()\n",
    "# fig.write_image(\"fig1.w"
   ]
  },
  {
   "cell_type": "code",
   "execution_count": null,
   "metadata": {},
   "outputs": [],
   "source": []
  },
  {
   "cell_type": "code",
   "execution_count": null,
   "metadata": {},
   "outputs": [],
   "source": []
  },
  {
   "cell_type": "markdown",
   "metadata": {},
   "source": [
    "# machine Leraing"
   ]
  },
  {
   "cell_type": "code",
   "execution_count": 44,
   "metadata": {},
   "outputs": [
    {
     "data": {
      "text/html": [
       "<div>\n",
       "<style scoped>\n",
       "    .dataframe tbody tr th:only-of-type {\n",
       "        vertical-align: middle;\n",
       "    }\n",
       "\n",
       "    .dataframe tbody tr th {\n",
       "        vertical-align: top;\n",
       "    }\n",
       "\n",
       "    .dataframe thead th {\n",
       "        text-align: right;\n",
       "    }\n",
       "</style>\n",
       "<table border=\"1\" class=\"dataframe\">\n",
       "  <thead>\n",
       "    <tr style=\"text-align: right;\">\n",
       "      <th></th>\n",
       "      <th>Make</th>\n",
       "      <th>Model</th>\n",
       "      <th>City</th>\n",
       "      <th>Customer No.</th>\n",
       "      <th>Invoice No</th>\n",
       "      <th>Total_Expense</th>\n",
       "      <th>Job_duration(in hrs)</th>\n",
       "      <th>LTV</th>\n",
       "      <th>LTV Category</th>\n",
       "      <th>Clusters</th>\n",
       "    </tr>\n",
       "  </thead>\n",
       "  <tbody>\n",
       "    <tr>\n",
       "      <th>0</th>\n",
       "      <td>AUDI</td>\n",
       "      <td>A8</td>\n",
       "      <td>Thanjavur</td>\n",
       "      <td>164341</td>\n",
       "      <td>1</td>\n",
       "      <td>217.440000</td>\n",
       "      <td>0.000000</td>\n",
       "      <td>217.44</td>\n",
       "      <td>low_ltv</td>\n",
       "      <td>high_revenue</td>\n",
       "    </tr>\n",
       "    <tr>\n",
       "      <th>1</th>\n",
       "      <td>AUDI</td>\n",
       "      <td>A8</td>\n",
       "      <td>Thanjavur</td>\n",
       "      <td>164341</td>\n",
       "      <td>1</td>\n",
       "      <td>217.440000</td>\n",
       "      <td>0.000000</td>\n",
       "      <td>217.44</td>\n",
       "      <td>low_ltv</td>\n",
       "      <td>high_revenue</td>\n",
       "    </tr>\n",
       "    <tr>\n",
       "      <th>2</th>\n",
       "      <td>HYUNDAI</td>\n",
       "      <td>VERNA</td>\n",
       "      <td>Thanjavur</td>\n",
       "      <td>164341</td>\n",
       "      <td>5</td>\n",
       "      <td>16071.566000</td>\n",
       "      <td>53.800000</td>\n",
       "      <td>80357.83</td>\n",
       "      <td>high_ltv</td>\n",
       "      <td>high_revenue</td>\n",
       "    </tr>\n",
       "    <tr>\n",
       "      <th>3</th>\n",
       "      <td>HYUNDAI</td>\n",
       "      <td>VERNA</td>\n",
       "      <td>Thanjavur</td>\n",
       "      <td>164341</td>\n",
       "      <td>5</td>\n",
       "      <td>16071.566000</td>\n",
       "      <td>53.800000</td>\n",
       "      <td>80357.83</td>\n",
       "      <td>high_ltv</td>\n",
       "      <td>high_revenue</td>\n",
       "    </tr>\n",
       "    <tr>\n",
       "      <th>4</th>\n",
       "      <td>AUDI</td>\n",
       "      <td>Q7</td>\n",
       "      <td>Moga</td>\n",
       "      <td>85119</td>\n",
       "      <td>3</td>\n",
       "      <td>524.933333</td>\n",
       "      <td>2.000000</td>\n",
       "      <td>1574.80</td>\n",
       "      <td>low_ltv</td>\n",
       "      <td>low_revenue</td>\n",
       "    </tr>\n",
       "    <tr>\n",
       "      <th>...</th>\n",
       "      <td>...</td>\n",
       "      <td>...</td>\n",
       "      <td>...</td>\n",
       "      <td>...</td>\n",
       "      <td>...</td>\n",
       "      <td>...</td>\n",
       "      <td>...</td>\n",
       "      <td>...</td>\n",
       "      <td>...</td>\n",
       "      <td>...</td>\n",
       "    </tr>\n",
       "    <tr>\n",
       "      <th>42742</th>\n",
       "      <td>VOLKSWAGEN</td>\n",
       "      <td>VENTO</td>\n",
       "      <td>Tirunelveli</td>\n",
       "      <td>206379</td>\n",
       "      <td>8</td>\n",
       "      <td>6567.853750</td>\n",
       "      <td>103.375000</td>\n",
       "      <td>52542.83</td>\n",
       "      <td>high_ltv</td>\n",
       "      <td>avg_revenue</td>\n",
       "    </tr>\n",
       "    <tr>\n",
       "      <th>42743</th>\n",
       "      <td>VOLKSWAGEN</td>\n",
       "      <td>VENTO</td>\n",
       "      <td>Tirunelveli</td>\n",
       "      <td>206379</td>\n",
       "      <td>8</td>\n",
       "      <td>6567.853750</td>\n",
       "      <td>103.375000</td>\n",
       "      <td>52542.83</td>\n",
       "      <td>high_ltv</td>\n",
       "      <td>high_revenue</td>\n",
       "    </tr>\n",
       "    <tr>\n",
       "      <th>42744</th>\n",
       "      <td>VOLKSWAGEN</td>\n",
       "      <td>VENTO</td>\n",
       "      <td>Tirunelveli</td>\n",
       "      <td>228476</td>\n",
       "      <td>3</td>\n",
       "      <td>11843.713333</td>\n",
       "      <td>210.666667</td>\n",
       "      <td>35531.14</td>\n",
       "      <td>high_ltv</td>\n",
       "      <td>avg_revenue</td>\n",
       "    </tr>\n",
       "    <tr>\n",
       "      <th>42745</th>\n",
       "      <td>VOLKSWAGEN</td>\n",
       "      <td>VENTO</td>\n",
       "      <td>Tirunelveli</td>\n",
       "      <td>228476</td>\n",
       "      <td>3</td>\n",
       "      <td>11843.713333</td>\n",
       "      <td>210.666667</td>\n",
       "      <td>35531.14</td>\n",
       "      <td>high_ltv</td>\n",
       "      <td>high_revenue</td>\n",
       "    </tr>\n",
       "    <tr>\n",
       "      <th>42746</th>\n",
       "      <td>VOLKSWAGEN</td>\n",
       "      <td>VENTO</td>\n",
       "      <td>Vadodara</td>\n",
       "      <td>256649</td>\n",
       "      <td>1</td>\n",
       "      <td>34422.020000</td>\n",
       "      <td>101.000000</td>\n",
       "      <td>34422.02</td>\n",
       "      <td>high_ltv</td>\n",
       "      <td>high_revenue</td>\n",
       "    </tr>\n",
       "  </tbody>\n",
       "</table>\n",
       "<p>42747 rows × 10 columns</p>\n",
       "</div>"
      ],
      "text/plain": [
       "             Make  Model         City Customer No.  Invoice No  Total_Expense  \\\n",
       "0            AUDI     A8    Thanjavur       164341           1     217.440000   \n",
       "1            AUDI     A8    Thanjavur       164341           1     217.440000   \n",
       "2         HYUNDAI  VERNA    Thanjavur       164341           5   16071.566000   \n",
       "3         HYUNDAI  VERNA    Thanjavur       164341           5   16071.566000   \n",
       "4            AUDI     Q7         Moga        85119           3     524.933333   \n",
       "...           ...    ...          ...          ...         ...            ...   \n",
       "42742  VOLKSWAGEN  VENTO  Tirunelveli       206379           8    6567.853750   \n",
       "42743  VOLKSWAGEN  VENTO  Tirunelveli       206379           8    6567.853750   \n",
       "42744  VOLKSWAGEN  VENTO  Tirunelveli       228476           3   11843.713333   \n",
       "42745  VOLKSWAGEN  VENTO  Tirunelveli       228476           3   11843.713333   \n",
       "42746  VOLKSWAGEN  VENTO     Vadodara       256649           1   34422.020000   \n",
       "\n",
       "       Job_duration(in hrs)       LTV LTV Category      Clusters  \n",
       "0                  0.000000    217.44      low_ltv  high_revenue  \n",
       "1                  0.000000    217.44      low_ltv  high_revenue  \n",
       "2                 53.800000  80357.83     high_ltv  high_revenue  \n",
       "3                 53.800000  80357.83     high_ltv  high_revenue  \n",
       "4                  2.000000   1574.80      low_ltv   low_revenue  \n",
       "...                     ...       ...          ...           ...  \n",
       "42742            103.375000  52542.83     high_ltv   avg_revenue  \n",
       "42743            103.375000  52542.83     high_ltv  high_revenue  \n",
       "42744            210.666667  35531.14     high_ltv   avg_revenue  \n",
       "42745            210.666667  35531.14     high_ltv  high_revenue  \n",
       "42746            101.000000  34422.02     high_ltv  high_revenue  \n",
       "\n",
       "[42747 rows x 10 columns]"
      ]
     },
     "execution_count": 44,
     "metadata": {},
     "output_type": "execute_result"
    }
   ],
   "source": [
    "df2=merge_data.copy()\n",
    "df2"
   ]
  },
  {
   "cell_type": "code",
   "execution_count": 45,
   "metadata": {},
   "outputs": [],
   "source": [
    "le=LabelEncoder()\n",
    "df2[\"Make\"]=le.fit_transform(df2[\"Make\"])\n",
    "df2[\"Model\"]=le.fit_transform(df2[\"Model\"])\n",
    "df2[\"LTV Category\"]=le.fit_transform(df2[\"LTV Category\"])\n",
    "df2[\"City\"]=le.fit_transform(df2[\"City\"])\n",
    "df2[\"Clusters\"]=le.fit_transform(df2[\"Clusters\"])"
   ]
  },
  {
   "cell_type": "code",
   "execution_count": 46,
   "metadata": {},
   "outputs": [],
   "source": [
    "X=df2.drop([\"Customer No.\",\"LTV\",\"LTV Category\",\"Invoice No\",'Clusters'],1)\n",
    "y=df2[\"LTV Category\"]"
   ]
  },
  {
   "cell_type": "code",
   "execution_count": 47,
   "metadata": {},
   "outputs": [
    {
     "data": {
      "text/html": [
       "<div>\n",
       "<style scoped>\n",
       "    .dataframe tbody tr th:only-of-type {\n",
       "        vertical-align: middle;\n",
       "    }\n",
       "\n",
       "    .dataframe tbody tr th {\n",
       "        vertical-align: top;\n",
       "    }\n",
       "\n",
       "    .dataframe thead th {\n",
       "        text-align: right;\n",
       "    }\n",
       "</style>\n",
       "<table border=\"1\" class=\"dataframe\">\n",
       "  <thead>\n",
       "    <tr style=\"text-align: right;\">\n",
       "      <th></th>\n",
       "      <th>Make</th>\n",
       "      <th>Model</th>\n",
       "      <th>City</th>\n",
       "      <th>Total_Expense</th>\n",
       "      <th>Job_duration(in hrs)</th>\n",
       "    </tr>\n",
       "  </thead>\n",
       "  <tbody>\n",
       "    <tr>\n",
       "      <th>0</th>\n",
       "      <td>0</td>\n",
       "      <td>9</td>\n",
       "      <td>341</td>\n",
       "      <td>217.440000</td>\n",
       "      <td>0.000000</td>\n",
       "    </tr>\n",
       "    <tr>\n",
       "      <th>1</th>\n",
       "      <td>0</td>\n",
       "      <td>9</td>\n",
       "      <td>341</td>\n",
       "      <td>217.440000</td>\n",
       "      <td>0.000000</td>\n",
       "    </tr>\n",
       "    <tr>\n",
       "      <th>2</th>\n",
       "      <td>9</td>\n",
       "      <td>196</td>\n",
       "      <td>341</td>\n",
       "      <td>16071.566000</td>\n",
       "      <td>53.800000</td>\n",
       "    </tr>\n",
       "    <tr>\n",
       "      <th>3</th>\n",
       "      <td>9</td>\n",
       "      <td>196</td>\n",
       "      <td>341</td>\n",
       "      <td>16071.566000</td>\n",
       "      <td>53.800000</td>\n",
       "    </tr>\n",
       "    <tr>\n",
       "      <th>4</th>\n",
       "      <td>0</td>\n",
       "      <td>142</td>\n",
       "      <td>228</td>\n",
       "      <td>524.933333</td>\n",
       "      <td>2.000000</td>\n",
       "    </tr>\n",
       "    <tr>\n",
       "      <th>...</th>\n",
       "      <td>...</td>\n",
       "      <td>...</td>\n",
       "      <td>...</td>\n",
       "      <td>...</td>\n",
       "      <td>...</td>\n",
       "    </tr>\n",
       "    <tr>\n",
       "      <th>42742</th>\n",
       "      <td>23</td>\n",
       "      <td>193</td>\n",
       "      <td>348</td>\n",
       "      <td>6567.853750</td>\n",
       "      <td>103.375000</td>\n",
       "    </tr>\n",
       "    <tr>\n",
       "      <th>42743</th>\n",
       "      <td>23</td>\n",
       "      <td>193</td>\n",
       "      <td>348</td>\n",
       "      <td>6567.853750</td>\n",
       "      <td>103.375000</td>\n",
       "    </tr>\n",
       "    <tr>\n",
       "      <th>42744</th>\n",
       "      <td>23</td>\n",
       "      <td>193</td>\n",
       "      <td>348</td>\n",
       "      <td>11843.713333</td>\n",
       "      <td>210.666667</td>\n",
       "    </tr>\n",
       "    <tr>\n",
       "      <th>42745</th>\n",
       "      <td>23</td>\n",
       "      <td>193</td>\n",
       "      <td>348</td>\n",
       "      <td>11843.713333</td>\n",
       "      <td>210.666667</td>\n",
       "    </tr>\n",
       "    <tr>\n",
       "      <th>42746</th>\n",
       "      <td>23</td>\n",
       "      <td>193</td>\n",
       "      <td>361</td>\n",
       "      <td>34422.020000</td>\n",
       "      <td>101.000000</td>\n",
       "    </tr>\n",
       "  </tbody>\n",
       "</table>\n",
       "<p>42747 rows × 5 columns</p>\n",
       "</div>"
      ],
      "text/plain": [
       "       Make  Model  City  Total_Expense  Job_duration(in hrs)\n",
       "0         0      9   341     217.440000              0.000000\n",
       "1         0      9   341     217.440000              0.000000\n",
       "2         9    196   341   16071.566000             53.800000\n",
       "3         9    196   341   16071.566000             53.800000\n",
       "4         0    142   228     524.933333              2.000000\n",
       "...     ...    ...   ...            ...                   ...\n",
       "42742    23    193   348    6567.853750            103.375000\n",
       "42743    23    193   348    6567.853750            103.375000\n",
       "42744    23    193   348   11843.713333            210.666667\n",
       "42745    23    193   348   11843.713333            210.666667\n",
       "42746    23    193   361   34422.020000            101.000000\n",
       "\n",
       "[42747 rows x 5 columns]"
      ]
     },
     "execution_count": 47,
     "metadata": {},
     "output_type": "execute_result"
    }
   ],
   "source": [
    "X"
   ]
  },
  {
   "cell_type": "code",
   "execution_count": 48,
   "metadata": {},
   "outputs": [
    {
     "data": {
      "text/plain": [
       "0        2\n",
       "1        2\n",
       "2        1\n",
       "3        1\n",
       "4        2\n",
       "        ..\n",
       "42742    1\n",
       "42743    1\n",
       "42744    1\n",
       "42745    1\n",
       "42746    1\n",
       "Name: LTV Category, Length: 42747, dtype: int64"
      ]
     },
     "execution_count": 48,
     "metadata": {},
     "output_type": "execute_result"
    }
   ],
   "source": [
    "y"
   ]
  },
  {
   "cell_type": "code",
   "execution_count": 49,
   "metadata": {},
   "outputs": [],
   "source": [
    "X_train,X_test,y_train,y_test=tts(X,y,test_size=0.3,random_state=0)"
   ]
  },
  {
   "cell_type": "markdown",
   "metadata": {},
   "source": [
    "# Decision Tree Classifier"
   ]
  },
  {
   "cell_type": "code",
   "execution_count": 50,
   "metadata": {},
   "outputs": [
    {
     "name": "stdout",
     "output_type": "stream",
     "text": [
      "              precision    recall  f1-score   support\n",
      "\n",
      "           0       0.76      0.93      0.84      7542\n",
      "           1       0.95      0.38      0.55      2524\n",
      "           2       0.87      0.86      0.87      1116\n",
      "           3       0.61      0.52      0.56      1643\n",
      "\n",
      "    accuracy                           0.77     12825\n",
      "   macro avg       0.80      0.68      0.70     12825\n",
      "weighted avg       0.79      0.77      0.75     12825\n",
      "\n"
     ]
    }
   ],
   "source": [
    "dt = DecisionTreeClassifier(criterion='entropy',max_depth=8,random_state=0)\n",
    "\n",
    "dt.fit(X_train,y_train)\n",
    "\n",
    "y_pred_dt = dt.predict(X_test)\n",
    "y_pred_dt_train = dt.predict(X_train)\n",
    "\n",
    "print(classification_report(y_test,y_pred_dt))"
   ]
  },
  {
   "cell_type": "code",
   "execution_count": 51,
   "metadata": {},
   "outputs": [
    {
     "name": "stdout",
     "output_type": "stream",
     "text": [
      "Training Accuracy :- 0.7673294346978558\n",
      "Testing Accuracy :- 0.7723748412539269\n"
     ]
    }
   ],
   "source": [
    "print(\"Training Accuracy :-\" , accuracy_score(y_test,y_pred_dt))\n",
    "print(\"Testing Accuracy :-\" ,accuracy_score(y_train,y_pred_dt_train))"
   ]
  },
  {
   "cell_type": "code",
   "execution_count": 52,
   "metadata": {},
   "outputs": [
    {
     "data": {
      "text/plain": [
       "<BarContainer object of 5 artists>"
      ]
     },
     "execution_count": 52,
     "metadata": {},
     "output_type": "execute_result"
    },
    {
     "data": {
      "image/png": "[encoded data removed]",
      "text/plain": [
       "<Figure size 432x288 with 1 Axes>"
      ]
     },
     "metadata": {
      "needs_background": "light"
     },
     "output_type": "display_data"
    }
   ],
   "source": [
    "plt.barh(list(X),list(dt.feature_importances_))"
   ]
  },
  {
   "cell_type": "markdown",
   "metadata": {},
   "source": [
    "# Random Forest Classifier\n"
   ]
  },
  {
   "cell_type": "code",
   "execution_count": 53,
   "metadata": {},
   "outputs": [],
   "source": [
    "rfc=RandomForestClassifier(criterion='entropy',max_depth=8,random_state=0)"
   ]
  },
  {
   "cell_type": "code",
   "execution_count": 54,
   "metadata": {},
   "outputs": [
    {
     "data": {
      "text/plain": [
       "RandomForestClassifier(criterion='entropy', max_depth=8, random_state=0)"
      ]
     },
     "execution_count": 54,
     "metadata": {},
     "output_type": "execute_result"
    }
   ],
   "source": [
    "rfc.fit(X_train,y_train)"
   ]
  },
  {
   "cell_type": "code",
   "execution_count": 55,
   "metadata": {},
   "outputs": [],
   "source": [
    "y_pred_rfc=rfc.predict(X_test)"
   ]
  },
  {
   "cell_type": "code",
   "execution_count": 56,
   "metadata": {},
   "outputs": [
    {
     "name": "stdout",
     "output_type": "stream",
     "text": [
      "              precision    recall  f1-score   support\n",
      "\n",
      "           0       0.75      0.96      0.84      7542\n",
      "           1       0.98      0.39      0.56      2524\n",
      "           2       0.86      0.91      0.88      1116\n",
      "           3       0.68      0.41      0.51      1643\n",
      "\n",
      "    accuracy                           0.77     12825\n",
      "   macro avg       0.82      0.67      0.70     12825\n",
      "weighted avg       0.80      0.77      0.75     12825\n",
      "\n"
     ]
    }
   ],
   "source": [
    "print(classification_report(y_test,y_pred_rfc))"
   ]
  },
  {
   "cell_type": "code",
   "execution_count": 57,
   "metadata": {},
   "outputs": [
    {
     "data": {
      "text/plain": [
       "0.7743469785575049"
      ]
     },
     "execution_count": 57,
     "metadata": {},
     "output_type": "execute_result"
    }
   ],
   "source": [
    "accuracy_score(y_test,y_pred_rfc)"
   ]
  },
  {
   "cell_type": "code",
   "execution_count": 58,
   "metadata": {},
   "outputs": [
    {
     "data": {
      "text/plain": [
       "<BarContainer object of 5 artists>"
      ]
     },
     "execution_count": 58,
     "metadata": {},
     "output_type": "execute_result"
    },
    {
     "data": {
      "image/png": "[encoded data removed]",
      "text/plain": [
       "<Figure size 432x288 with 1 Axes>"
      ]
     },
     "metadata": {
      "needs_background": "light"
     },
     "output_type": "display_data"
    }
   ],
   "source": [
    "plt.barh(list(X),list(rfc.feature_importances_))"
   ]
  },
  {
   "cell_type": "code",
   "execution_count": 59,
   "metadata": {},
   "outputs": [],
   "source": [
    "score=cross_val_score(estimator=rfc,X=X,y=y,cv=5)"
   ]
  },
  {
   "cell_type": "code",
   "execution_count": 60,
   "metadata": {},
   "outputs": [
    {
     "data": {
      "text/plain": [
       "0.6216170832196097"
      ]
     },
     "execution_count": 60,
     "metadata": {},
     "output_type": "execute_result"
    }
   ],
   "source": [
    "score.mean()"
   ]
  },
  {
   "cell_type": "markdown",
   "metadata": {},
   "source": [
    "# XgBoost Classifier"
   ]
  },
  {
   "cell_type": "code",
   "execution_count": 61,
   "metadata": {},
   "outputs": [
    {
     "name": "stdout",
     "output_type": "stream",
     "text": [
      "[23:15:23] WARNING: ../src/learner.cc:1061: Starting in XGBoost 1.3.0, the default evaluation metric used with the objective 'multi:softprob' was changed from 'merror' to 'mlogloss'. Explicitly set eval_metric if you'd like to restore the old behavior.\n",
      "              precision    recall  f1-score   support\n",
      "\n",
      "           0       0.83      0.93      0.88      7542\n",
      "           1       0.89      0.63      0.74      2524\n",
      "           2       0.90      0.92      0.91      1116\n",
      "           3       0.74      0.66      0.69      1643\n",
      "\n",
      "    accuracy                           0.84     12825\n",
      "   macro avg       0.84      0.79      0.81     12825\n",
      "weighted avg       0.84      0.84      0.83     12825\n",
      "\n"
     ]
    }
   ],
   "source": [
    "xgb=XGBClassifier()\n",
    "xgb.fit(X_train,y_train)\n",
    "y_pred_xgb=xgb.predict(X_test)\n",
    "accuracy_score(y_test,y_pred_xgb)\n",
    "print(classification_report(y_test,y_pred_xgb))\n"
   ]
  },
  {
   "cell_type": "code",
   "execution_count": 62,
   "metadata": {},
   "outputs": [
    {
     "name": "stdout",
     "output_type": "stream",
     "text": [
      "[23:15:26] WARNING: ../src/learner.cc:1061: Starting in XGBoost 1.3.0, the default evaluation metric used with the objective 'multi:softprob' was changed from 'merror' to 'mlogloss'. Explicitly set eval_metric if you'd like to restore the old behavior.\n",
      "[23:15:33] WARNING: ../src/learner.cc:1061: Starting in XGBoost 1.3.0, the default evaluation metric used with the objective 'multi:softprob' was changed from 'merror' to 'mlogloss'. Explicitly set eval_metric if you'd like to restore the old behavior.\n",
      "[23:15:37] WARNING: ../src/learner.cc:1061: Starting in XGBoost 1.3.0, the default evaluation metric used with the objective 'multi:softprob' was changed from 'merror' to 'mlogloss'. Explicitly set eval_metric if you'd like to restore the old behavior.\n",
      "[23:15:40] WARNING: ../src/learner.cc:1061: Starting in XGBoost 1.3.0, the default evaluation metric used with the objective 'multi:softprob' was changed from 'merror' to 'mlogloss'. Explicitly set eval_metric if you'd like to restore the old behavior.\n",
      "[23:15:44] WARNING: ../src/learner.cc:1061: Starting in XGBoost 1.3.0, the default evaluation metric used with the objective 'multi:softprob' was changed from 'merror' to 'mlogloss'. Explicitly set eval_metric if you'd like to restore the old behavior.\n"
     ]
    },
    {
     "data": {
      "text/plain": [
       "0.6171953109662291"
      ]
     },
     "execution_count": 62,
     "metadata": {},
     "output_type": "execute_result"
    }
   ],
   "source": [
    "scores_xgb=cross_val_score(estimator=xgb,X=X,y=y,cv=5)\n",
    "scores_xgb.mean()"
   ]
  },
  {
   "cell_type": "markdown",
   "metadata": {},
   "source": [
    "# Regression"
   ]
  },
  {
   "cell_type": "code",
   "execution_count": 120,
   "metadata": {},
   "outputs": [
    {
     "data": {
      "text/html": [
       "<div>\n",
       "<style scoped>\n",
       "    .dataframe tbody tr th:only-of-type {\n",
       "        vertical-align: middle;\n",
       "    }\n",
       "\n",
       "    .dataframe tbody tr th {\n",
       "        vertical-align: top;\n",
       "    }\n",
       "\n",
       "    .dataframe thead th {\n",
       "        text-align: right;\n",
       "    }\n",
       "</style>\n",
       "<table border=\"1\" class=\"dataframe\">\n",
       "  <thead>\n",
       "    <tr style=\"text-align: right;\">\n",
       "      <th></th>\n",
       "      <th>Make</th>\n",
       "      <th>Model</th>\n",
       "      <th>City</th>\n",
       "      <th>Customer No.</th>\n",
       "      <th>Invoice No</th>\n",
       "      <th>Total_Expense</th>\n",
       "      <th>Job_duration(in hrs)</th>\n",
       "      <th>LTV</th>\n",
       "      <th>LTV Category</th>\n",
       "      <th>Clusters</th>\n",
       "    </tr>\n",
       "  </thead>\n",
       "  <tbody>\n",
       "    <tr>\n",
       "      <th>0</th>\n",
       "      <td>AUDI</td>\n",
       "      <td>A8</td>\n",
       "      <td>Thanjavur</td>\n",
       "      <td>164341</td>\n",
       "      <td>1</td>\n",
       "      <td>217.440000</td>\n",
       "      <td>0.000000</td>\n",
       "      <td>217.44</td>\n",
       "      <td>low_ltv</td>\n",
       "      <td>high_revenue</td>\n",
       "    </tr>\n",
       "    <tr>\n",
       "      <th>1</th>\n",
       "      <td>AUDI</td>\n",
       "      <td>A8</td>\n",
       "      <td>Thanjavur</td>\n",
       "      <td>164341</td>\n",
       "      <td>1</td>\n",
       "      <td>217.440000</td>\n",
       "      <td>0.000000</td>\n",
       "      <td>217.44</td>\n",
       "      <td>low_ltv</td>\n",
       "      <td>high_revenue</td>\n",
       "    </tr>\n",
       "    <tr>\n",
       "      <th>2</th>\n",
       "      <td>HYUNDAI</td>\n",
       "      <td>VERNA</td>\n",
       "      <td>Thanjavur</td>\n",
       "      <td>164341</td>\n",
       "      <td>5</td>\n",
       "      <td>16071.566000</td>\n",
       "      <td>53.800000</td>\n",
       "      <td>80357.83</td>\n",
       "      <td>high_ltv</td>\n",
       "      <td>high_revenue</td>\n",
       "    </tr>\n",
       "    <tr>\n",
       "      <th>3</th>\n",
       "      <td>HYUNDAI</td>\n",
       "      <td>VERNA</td>\n",
       "      <td>Thanjavur</td>\n",
       "      <td>164341</td>\n",
       "      <td>5</td>\n",
       "      <td>16071.566000</td>\n",
       "      <td>53.800000</td>\n",
       "      <td>80357.83</td>\n",
       "      <td>high_ltv</td>\n",
       "      <td>high_revenue</td>\n",
       "    </tr>\n",
       "    <tr>\n",
       "      <th>4</th>\n",
       "      <td>AUDI</td>\n",
       "      <td>Q7</td>\n",
       "      <td>Moga</td>\n",
       "      <td>85119</td>\n",
       "      <td>3</td>\n",
       "      <td>524.933333</td>\n",
       "      <td>2.000000</td>\n",
       "      <td>1574.80</td>\n",
       "      <td>low_ltv</td>\n",
       "      <td>low_revenue</td>\n",
       "    </tr>\n",
       "    <tr>\n",
       "      <th>...</th>\n",
       "      <td>...</td>\n",
       "      <td>...</td>\n",
       "      <td>...</td>\n",
       "      <td>...</td>\n",
       "      <td>...</td>\n",
       "      <td>...</td>\n",
       "      <td>...</td>\n",
       "      <td>...</td>\n",
       "      <td>...</td>\n",
       "      <td>...</td>\n",
       "    </tr>\n",
       "    <tr>\n",
       "      <th>42742</th>\n",
       "      <td>VOLKSWAGEN</td>\n",
       "      <td>VENTO</td>\n",
       "      <td>Tirunelveli</td>\n",
       "      <td>206379</td>\n",
       "      <td>8</td>\n",
       "      <td>6567.853750</td>\n",
       "      <td>103.375000</td>\n",
       "      <td>52542.83</td>\n",
       "      <td>high_ltv</td>\n",
       "      <td>avg_revenue</td>\n",
       "    </tr>\n",
       "    <tr>\n",
       "      <th>42743</th>\n",
       "      <td>VOLKSWAGEN</td>\n",
       "      <td>VENTO</td>\n",
       "      <td>Tirunelveli</td>\n",
       "      <td>206379</td>\n",
       "      <td>8</td>\n",
       "      <td>6567.853750</td>\n",
       "      <td>103.375000</td>\n",
       "      <td>52542.83</td>\n",
       "      <td>high_ltv</td>\n",
       "      <td>high_revenue</td>\n",
       "    </tr>\n",
       "    <tr>\n",
       "      <th>42744</th>\n",
       "      <td>VOLKSWAGEN</td>\n",
       "      <td>VENTO</td>\n",
       "      <td>Tirunelveli</td>\n",
       "      <td>228476</td>\n",
       "      <td>3</td>\n",
       "      <td>11843.713333</td>\n",
       "      <td>210.666667</td>\n",
       "      <td>35531.14</td>\n",
       "      <td>high_ltv</td>\n",
       "      <td>avg_revenue</td>\n",
       "    </tr>\n",
       "    <tr>\n",
       "      <th>42745</th>\n",
       "      <td>VOLKSWAGEN</td>\n",
       "      <td>VENTO</td>\n",
       "      <td>Tirunelveli</td>\n",
       "      <td>228476</td>\n",
       "      <td>3</td>\n",
       "      <td>11843.713333</td>\n",
       "      <td>210.666667</td>\n",
       "      <td>35531.14</td>\n",
       "      <td>high_ltv</td>\n",
       "      <td>high_revenue</td>\n",
       "    </tr>\n",
       "    <tr>\n",
       "      <th>42746</th>\n",
       "      <td>VOLKSWAGEN</td>\n",
       "      <td>VENTO</td>\n",
       "      <td>Vadodara</td>\n",
       "      <td>256649</td>\n",
       "      <td>1</td>\n",
       "      <td>34422.020000</td>\n",
       "      <td>101.000000</td>\n",
       "      <td>34422.02</td>\n",
       "      <td>high_ltv</td>\n",
       "      <td>high_revenue</td>\n",
       "    </tr>\n",
       "  </tbody>\n",
       "</table>\n",
       "<p>42747 rows × 10 columns</p>\n",
       "</div>"
      ],
      "text/plain": [
       "             Make  Model         City Customer No.  Invoice No  Total_Expense  \\\n",
       "0            AUDI     A8    Thanjavur       164341           1     217.440000   \n",
       "1            AUDI     A8    Thanjavur       164341           1     217.440000   \n",
       "2         HYUNDAI  VERNA    Thanjavur       164341           5   16071.566000   \n",
       "3         HYUNDAI  VERNA    Thanjavur       164341           5   16071.566000   \n",
       "4            AUDI     Q7         Moga        85119           3     524.933333   \n",
       "...           ...    ...          ...          ...         ...            ...   \n",
       "42742  VOLKSWAGEN  VENTO  Tirunelveli       206379           8    6567.853750   \n",
       "42743  VOLKSWAGEN  VENTO  Tirunelveli       206379           8    6567.853750   \n",
       "42744  VOLKSWAGEN  VENTO  Tirunelveli       228476           3   11843.713333   \n",
       "42745  VOLKSWAGEN  VENTO  Tirunelveli       228476           3   11843.713333   \n",
       "42746  VOLKSWAGEN  VENTO     Vadodara       256649           1   34422.020000   \n",
       "\n",
       "       Job_duration(in hrs)       LTV LTV Category      Clusters  \n",
       "0                  0.000000    217.44      low_ltv  high_revenue  \n",
       "1                  0.000000    217.44      low_ltv  high_revenue  \n",
       "2                 53.800000  80357.83     high_ltv  high_revenue  \n",
       "3                 53.800000  80357.83     high_ltv  high_revenue  \n",
       "4                  2.000000   1574.80      low_ltv   low_revenue  \n",
       "...                     ...       ...          ...           ...  \n",
       "42742            103.375000  52542.83     high_ltv   avg_revenue  \n",
       "42743            103.375000  52542.83     high_ltv  high_revenue  \n",
       "42744            210.666667  35531.14     high_ltv   avg_revenue  \n",
       "42745            210.666667  35531.14     high_ltv  high_revenue  \n",
       "42746            101.000000  34422.02     high_ltv  high_revenue  \n",
       "\n",
       "[42747 rows x 10 columns]"
      ]
     },
     "execution_count": 120,
     "metadata": {},
     "output_type": "execute_result"
    }
   ],
   "source": [
    "df3=merge_data.copy()\n",
    "df3"
   ]
  },
  {
   "cell_type": "code",
   "execution_count": 121,
   "metadata": {},
   "outputs": [],
   "source": [
    "le=LabelEncoder()\n",
    "df3[\"Make\"]=le.fit_transform(df2[\"Make\"])\n",
    "df3[\"Model\"]=le.fit_transform(df2[\"Model\"])\n",
    "df3[\"LTV Category\"]=le.fit_transform(df2[\"LTV Category\"])\n",
    "df3[\"City\"]=le.fit_transform(df2[\"City\"])\n",
    "df3[\"Clusters\"]=le.fit_transform(df2[\"Clusters\"])"
   ]
  },
  {
   "cell_type": "code",
   "execution_count": 122,
   "metadata": {},
   "outputs": [
    {
     "data": {
      "text/html": [
       "<div>\n",
       "<style scoped>\n",
       "    .dataframe tbody tr th:only-of-type {\n",
       "        vertical-align: middle;\n",
       "    }\n",
       "\n",
       "    .dataframe tbody tr th {\n",
       "        vertical-align: top;\n",
       "    }\n",
       "\n",
       "    .dataframe thead th {\n",
       "        text-align: right;\n",
       "    }\n",
       "</style>\n",
       "<table border=\"1\" class=\"dataframe\">\n",
       "  <thead>\n",
       "    <tr style=\"text-align: right;\">\n",
       "      <th></th>\n",
       "      <th>Make</th>\n",
       "      <th>Model</th>\n",
       "      <th>City</th>\n",
       "      <th>Customer No.</th>\n",
       "      <th>Invoice No</th>\n",
       "      <th>Total_Expense</th>\n",
       "      <th>Job_duration(in hrs)</th>\n",
       "      <th>LTV</th>\n",
       "      <th>LTV Category</th>\n",
       "      <th>Clusters</th>\n",
       "    </tr>\n",
       "  </thead>\n",
       "  <tbody>\n",
       "    <tr>\n",
       "      <th>0</th>\n",
       "      <td>0</td>\n",
       "      <td>9</td>\n",
       "      <td>341</td>\n",
       "      <td>164341</td>\n",
       "      <td>1</td>\n",
       "      <td>217.440000</td>\n",
       "      <td>0.000000</td>\n",
       "      <td>217.44</td>\n",
       "      <td>2</td>\n",
       "      <td>1</td>\n",
       "    </tr>\n",
       "    <tr>\n",
       "      <th>1</th>\n",
       "      <td>0</td>\n",
       "      <td>9</td>\n",
       "      <td>341</td>\n",
       "      <td>164341</td>\n",
       "      <td>1</td>\n",
       "      <td>217.440000</td>\n",
       "      <td>0.000000</td>\n",
       "      <td>217.44</td>\n",
       "      <td>2</td>\n",
       "      <td>1</td>\n",
       "    </tr>\n",
       "    <tr>\n",
       "      <th>2</th>\n",
       "      <td>9</td>\n",
       "      <td>196</td>\n",
       "      <td>341</td>\n",
       "      <td>164341</td>\n",
       "      <td>5</td>\n",
       "      <td>16071.566000</td>\n",
       "      <td>53.800000</td>\n",
       "      <td>80357.83</td>\n",
       "      <td>1</td>\n",
       "      <td>1</td>\n",
       "    </tr>\n",
       "    <tr>\n",
       "      <th>3</th>\n",
       "      <td>9</td>\n",
       "      <td>196</td>\n",
       "      <td>341</td>\n",
       "      <td>164341</td>\n",
       "      <td>5</td>\n",
       "      <td>16071.566000</td>\n",
       "      <td>53.800000</td>\n",
       "      <td>80357.83</td>\n",
       "      <td>1</td>\n",
       "      <td>1</td>\n",
       "    </tr>\n",
       "    <tr>\n",
       "      <th>4</th>\n",
       "      <td>0</td>\n",
       "      <td>142</td>\n",
       "      <td>228</td>\n",
       "      <td>85119</td>\n",
       "      <td>3</td>\n",
       "      <td>524.933333</td>\n",
       "      <td>2.000000</td>\n",
       "      <td>1574.80</td>\n",
       "      <td>2</td>\n",
       "      <td>2</td>\n",
       "    </tr>\n",
       "    <tr>\n",
       "      <th>...</th>\n",
       "      <td>...</td>\n",
       "      <td>...</td>\n",
       "      <td>...</td>\n",
       "      <td>...</td>\n",
       "      <td>...</td>\n",
       "      <td>...</td>\n",
       "      <td>...</td>\n",
       "      <td>...</td>\n",
       "      <td>...</td>\n",
       "      <td>...</td>\n",
       "    </tr>\n",
       "    <tr>\n",
       "      <th>42742</th>\n",
       "      <td>23</td>\n",
       "      <td>193</td>\n",
       "      <td>348</td>\n",
       "      <td>206379</td>\n",
       "      <td>8</td>\n",
       "      <td>6567.853750</td>\n",
       "      <td>103.375000</td>\n",
       "      <td>52542.83</td>\n",
       "      <td>1</td>\n",
       "      <td>0</td>\n",
       "    </tr>\n",
       "    <tr>\n",
       "      <th>42743</th>\n",
       "      <td>23</td>\n",
       "      <td>193</td>\n",
       "      <td>348</td>\n",
       "      <td>206379</td>\n",
       "      <td>8</td>\n",
       "      <td>6567.853750</td>\n",
       "      <td>103.375000</td>\n",
       "      <td>52542.83</td>\n",
       "      <td>1</td>\n",
       "      <td>1</td>\n",
       "    </tr>\n",
       "    <tr>\n",
       "      <th>42744</th>\n",
       "      <td>23</td>\n",
       "      <td>193</td>\n",
       "      <td>348</td>\n",
       "      <td>228476</td>\n",
       "      <td>3</td>\n",
       "      <td>11843.713333</td>\n",
       "      <td>210.666667</td>\n",
       "      <td>35531.14</td>\n",
       "      <td>1</td>\n",
       "      <td>0</td>\n",
       "    </tr>\n",
       "    <tr>\n",
       "      <th>42745</th>\n",
       "      <td>23</td>\n",
       "      <td>193</td>\n",
       "      <td>348</td>\n",
       "      <td>228476</td>\n",
       "      <td>3</td>\n",
       "      <td>11843.713333</td>\n",
       "      <td>210.666667</td>\n",
       "      <td>35531.14</td>\n",
       "      <td>1</td>\n",
       "      <td>1</td>\n",
       "    </tr>\n",
       "    <tr>\n",
       "      <th>42746</th>\n",
       "      <td>23</td>\n",
       "      <td>193</td>\n",
       "      <td>361</td>\n",
       "      <td>256649</td>\n",
       "      <td>1</td>\n",
       "      <td>34422.020000</td>\n",
       "      <td>101.000000</td>\n",
       "      <td>34422.02</td>\n",
       "      <td>1</td>\n",
       "      <td>1</td>\n",
       "    </tr>\n",
       "  </tbody>\n",
       "</table>\n",
       "<p>42747 rows × 10 columns</p>\n",
       "</div>"
      ],
      "text/plain": [
       "       Make  Model  City Customer No.  Invoice No  Total_Expense  \\\n",
       "0         0      9   341       164341           1     217.440000   \n",
       "1         0      9   341       164341           1     217.440000   \n",
       "2         9    196   341       164341           5   16071.566000   \n",
       "3         9    196   341       164341           5   16071.566000   \n",
       "4         0    142   228        85119           3     524.933333   \n",
       "...     ...    ...   ...          ...         ...            ...   \n",
       "42742    23    193   348       206379           8    6567.853750   \n",
       "42743    23    193   348       206379           8    6567.853750   \n",
       "42744    23    193   348       228476           3   11843.713333   \n",
       "42745    23    193   348       228476           3   11843.713333   \n",
       "42746    23    193   361       256649           1   34422.020000   \n",
       "\n",
       "       Job_duration(in hrs)       LTV  LTV Category  Clusters  \n",
       "0                  0.000000    217.44             2         1  \n",
       "1                  0.000000    217.44             2         1  \n",
       "2                 53.800000  80357.83             1         1  \n",
       "3                 53.800000  80357.83             1         1  \n",
       "4                  2.000000   1574.80             2         2  \n",
       "...                     ...       ...           ...       ...  \n",
       "42742            103.375000  52542.83             1         0  \n",
       "42743            103.375000  52542.83             1         1  \n",
       "42744            210.666667  35531.14             1         0  \n",
       "42745            210.666667  35531.14             1         1  \n",
       "42746            101.000000  34422.02             1         1  \n",
       "\n",
       "[42747 rows x 10 columns]"
      ]
     },
     "execution_count": 122,
     "metadata": {},
     "output_type": "execute_result"
    }
   ],
   "source": [
    "df3"
   ]
  },
  {
   "cell_type": "code",
   "execution_count": 123,
   "metadata": {},
   "outputs": [],
   "source": [
    "X=df3.drop([\"Customer No.\",\"LTV\",\"Invoice No\",'LTV Category'],1)\n",
    "y=df3[\"LTV\"]"
   ]
  },
  {
   "cell_type": "code",
   "execution_count": 124,
   "metadata": {},
   "outputs": [
    {
     "data": {
      "text/html": [
       "<div>\n",
       "<style scoped>\n",
       "    .dataframe tbody tr th:only-of-type {\n",
       "        vertical-align: middle;\n",
       "    }\n",
       "\n",
       "    .dataframe tbody tr th {\n",
       "        vertical-align: top;\n",
       "    }\n",
       "\n",
       "    .dataframe thead th {\n",
       "        text-align: right;\n",
       "    }\n",
       "</style>\n",
       "<table border=\"1\" class=\"dataframe\">\n",
       "  <thead>\n",
       "    <tr style=\"text-align: right;\">\n",
       "      <th></th>\n",
       "      <th>Make</th>\n",
       "      <th>Model</th>\n",
       "      <th>City</th>\n",
       "      <th>Total_Expense</th>\n",
       "      <th>Job_duration(in hrs)</th>\n",
       "      <th>Clusters</th>\n",
       "    </tr>\n",
       "  </thead>\n",
       "  <tbody>\n",
       "    <tr>\n",
       "      <th>0</th>\n",
       "      <td>0</td>\n",
       "      <td>9</td>\n",
       "      <td>341</td>\n",
       "      <td>217.440000</td>\n",
       "      <td>0.000000</td>\n",
       "      <td>1</td>\n",
       "    </tr>\n",
       "    <tr>\n",
       "      <th>1</th>\n",
       "      <td>0</td>\n",
       "      <td>9</td>\n",
       "      <td>341</td>\n",
       "      <td>217.440000</td>\n",
       "      <td>0.000000</td>\n",
       "      <td>1</td>\n",
       "    </tr>\n",
       "    <tr>\n",
       "      <th>2</th>\n",
       "      <td>9</td>\n",
       "      <td>196</td>\n",
       "      <td>341</td>\n",
       "      <td>16071.566000</td>\n",
       "      <td>53.800000</td>\n",
       "      <td>1</td>\n",
       "    </tr>\n",
       "    <tr>\n",
       "      <th>3</th>\n",
       "      <td>9</td>\n",
       "      <td>196</td>\n",
       "      <td>341</td>\n",
       "      <td>16071.566000</td>\n",
       "      <td>53.800000</td>\n",
       "      <td>1</td>\n",
       "    </tr>\n",
       "    <tr>\n",
       "      <th>4</th>\n",
       "      <td>0</td>\n",
       "      <td>142</td>\n",
       "      <td>228</td>\n",
       "      <td>524.933333</td>\n",
       "      <td>2.000000</td>\n",
       "      <td>2</td>\n",
       "    </tr>\n",
       "    <tr>\n",
       "      <th>...</th>\n",
       "      <td>...</td>\n",
       "      <td>...</td>\n",
       "      <td>...</td>\n",
       "      <td>...</td>\n",
       "      <td>...</td>\n",
       "      <td>...</td>\n",
       "    </tr>\n",
       "    <tr>\n",
       "      <th>42742</th>\n",
       "      <td>23</td>\n",
       "      <td>193</td>\n",
       "      <td>348</td>\n",
       "      <td>6567.853750</td>\n",
       "      <td>103.375000</td>\n",
       "      <td>0</td>\n",
       "    </tr>\n",
       "    <tr>\n",
       "      <th>42743</th>\n",
       "      <td>23</td>\n",
       "      <td>193</td>\n",
       "      <td>348</td>\n",
       "      <td>6567.853750</td>\n",
       "      <td>103.375000</td>\n",
       "      <td>1</td>\n",
       "    </tr>\n",
       "    <tr>\n",
       "      <th>42744</th>\n",
       "      <td>23</td>\n",
       "      <td>193</td>\n",
       "      <td>348</td>\n",
       "      <td>11843.713333</td>\n",
       "      <td>210.666667</td>\n",
       "      <td>0</td>\n",
       "    </tr>\n",
       "    <tr>\n",
       "      <th>42745</th>\n",
       "      <td>23</td>\n",
       "      <td>193</td>\n",
       "      <td>348</td>\n",
       "      <td>11843.713333</td>\n",
       "      <td>210.666667</td>\n",
       "      <td>1</td>\n",
       "    </tr>\n",
       "    <tr>\n",
       "      <th>42746</th>\n",
       "      <td>23</td>\n",
       "      <td>193</td>\n",
       "      <td>361</td>\n",
       "      <td>34422.020000</td>\n",
       "      <td>101.000000</td>\n",
       "      <td>1</td>\n",
       "    </tr>\n",
       "  </tbody>\n",
       "</table>\n",
       "<p>42747 rows × 6 columns</p>\n",
       "</div>"
      ],
      "text/plain": [
       "       Make  Model  City  Total_Expense  Job_duration(in hrs)  Clusters\n",
       "0         0      9   341     217.440000              0.000000         1\n",
       "1         0      9   341     217.440000              0.000000         1\n",
       "2         9    196   341   16071.566000             53.800000         1\n",
       "3         9    196   341   16071.566000             53.800000         1\n",
       "4         0    142   228     524.933333              2.000000         2\n",
       "...     ...    ...   ...            ...                   ...       ...\n",
       "42742    23    193   348    6567.853750            103.375000         0\n",
       "42743    23    193   348    6567.853750            103.375000         1\n",
       "42744    23    193   348   11843.713333            210.666667         0\n",
       "42745    23    193   348   11843.713333            210.666667         1\n",
       "42746    23    193   361   34422.020000            101.000000         1\n",
       "\n",
       "[42747 rows x 6 columns]"
      ]
     },
     "execution_count": 124,
     "metadata": {},
     "output_type": "execute_result"
    }
   ],
   "source": [
    "X"
   ]
  },
  {
   "cell_type": "code",
   "execution_count": 125,
   "metadata": {},
   "outputs": [
    {
     "data": {
      "text/plain": [
       "Index(['Make', 'Model', 'City', 'Total_Expense', 'Job_duration(in hrs)',\n",
       "       'Clusters'],\n",
       "      dtype='object')"
      ]
     },
     "execution_count": 125,
     "metadata": {},
     "output_type": "execute_result"
    }
   ],
   "source": [
    "X.columns"
   ]
  },
  {
   "cell_type": "code",
   "execution_count": 126,
   "metadata": {},
   "outputs": [],
   "source": [
    "# from sklearn.preprocessing import StandardScaler\n",
    "# cols = list(X)\n",
    "# for i in cols:\n",
    "    \n",
    "#     # fit on training data column\n",
    "#     scale = StandardScaler().fit(X[[i]])\n",
    "    \n",
    "#     # transform the training data column\n",
    "#     X[i] = scale.transform(X[[i]])"
   ]
  },
  {
   "cell_type": "code",
   "execution_count": 127,
   "metadata": {},
   "outputs": [],
   "source": [
    "X_train,X_test,y_train,y_test=tts(X,y,test_size=0.25,random_state=0)"
   ]
  },
  {
   "cell_type": "code",
   "execution_count": 128,
   "metadata": {},
   "outputs": [],
   "source": [
    "from sklearn.preprocessing import StandardScaler\n",
    "scaler = StandardScaler()\n",
    "X_train[['Make', 'Model', 'City', 'Total_Expense', 'Job_duration(in hrs)',\n",
    "       'Clusters']] = scaler.fit_transform(X_train[['Make', 'Model', 'City', 'Total_Expense', 'Job_duration(in hrs)',\n",
    "       'Clusters']])\n",
    "X_test[['Make', 'Model', 'City', 'Total_Expense', 'Job_duration(in hrs)',\n",
    "       'Clusters']] = scaler.transform(X_test[['Make', 'Model', 'City', 'Total_Expense', 'Job_duration(in hrs)',\n",
    "       'Clusters']])"
   ]
  },
  {
   "cell_type": "code",
   "execution_count": 129,
   "metadata": {},
   "outputs": [
    {
     "data": {
      "text/html": [
       "<div>\n",
       "<style scoped>\n",
       "    .dataframe tbody tr th:only-of-type {\n",
       "        vertical-align: middle;\n",
       "    }\n",
       "\n",
       "    .dataframe tbody tr th {\n",
       "        vertical-align: top;\n",
       "    }\n",
       "\n",
       "    .dataframe thead th {\n",
       "        text-align: right;\n",
       "    }\n",
       "</style>\n",
       "<table border=\"1\" class=\"dataframe\">\n",
       "  <thead>\n",
       "    <tr style=\"text-align: right;\">\n",
       "      <th></th>\n",
       "      <th>Make</th>\n",
       "      <th>Model</th>\n",
       "      <th>City</th>\n",
       "      <th>Total_Expense</th>\n",
       "      <th>Job_duration(in hrs)</th>\n",
       "      <th>Clusters</th>\n",
       "    </tr>\n",
       "  </thead>\n",
       "  <tbody>\n",
       "    <tr>\n",
       "      <th>21244</th>\n",
       "      <td>-0.142723</td>\n",
       "      <td>0.673339</td>\n",
       "      <td>-1.004202</td>\n",
       "      <td>-0.348263</td>\n",
       "      <td>-0.348740</td>\n",
       "      <td>-0.656117</td>\n",
       "    </tr>\n",
       "    <tr>\n",
       "      <th>12658</th>\n",
       "      <td>-1.336587</td>\n",
       "      <td>-1.546835</td>\n",
       "      <td>-1.523614</td>\n",
       "      <td>-0.384447</td>\n",
       "      <td>0.741849</td>\n",
       "      <td>2.511820</td>\n",
       "    </tr>\n",
       "    <tr>\n",
       "      <th>12277</th>\n",
       "      <td>-1.535564</td>\n",
       "      <td>-0.743794</td>\n",
       "      <td>0.231641</td>\n",
       "      <td>-0.397669</td>\n",
       "      <td>-0.468994</td>\n",
       "      <td>-0.656117</td>\n",
       "    </tr>\n",
       "    <tr>\n",
       "      <th>12906</th>\n",
       "      <td>-1.336587</td>\n",
       "      <td>-1.483851</td>\n",
       "      <td>-0.789273</td>\n",
       "      <td>-0.208134</td>\n",
       "      <td>-0.408511</td>\n",
       "      <td>-0.656117</td>\n",
       "    </tr>\n",
       "    <tr>\n",
       "      <th>29284</th>\n",
       "      <td>0.056255</td>\n",
       "      <td>1.287429</td>\n",
       "      <td>-0.843005</td>\n",
       "      <td>-0.222216</td>\n",
       "      <td>-0.202158</td>\n",
       "      <td>-0.656117</td>\n",
       "    </tr>\n",
       "    <tr>\n",
       "      <th>...</th>\n",
       "      <td>...</td>\n",
       "      <td>...</td>\n",
       "      <td>...</td>\n",
       "      <td>...</td>\n",
       "      <td>...</td>\n",
       "      <td>...</td>\n",
       "    </tr>\n",
       "    <tr>\n",
       "      <th>32103</th>\n",
       "      <td>1.648074</td>\n",
       "      <td>-0.476113</td>\n",
       "      <td>-0.028065</td>\n",
       "      <td>-0.258240</td>\n",
       "      <td>0.043332</td>\n",
       "      <td>-0.656117</td>\n",
       "    </tr>\n",
       "    <tr>\n",
       "      <th>30403</th>\n",
       "      <td>0.653187</td>\n",
       "      <td>1.035495</td>\n",
       "      <td>0.652544</td>\n",
       "      <td>0.000662</td>\n",
       "      <td>-0.447647</td>\n",
       "      <td>-0.656117</td>\n",
       "    </tr>\n",
       "    <tr>\n",
       "      <th>21243</th>\n",
       "      <td>-0.142723</td>\n",
       "      <td>0.673339</td>\n",
       "      <td>-1.004202</td>\n",
       "      <td>-0.571625</td>\n",
       "      <td>-0.486190</td>\n",
       "      <td>-0.656117</td>\n",
       "    </tr>\n",
       "    <tr>\n",
       "      <th>42613</th>\n",
       "      <td>2.046029</td>\n",
       "      <td>0.326929</td>\n",
       "      <td>-0.780317</td>\n",
       "      <td>0.167150</td>\n",
       "      <td>-0.097795</td>\n",
       "      <td>0.399862</td>\n",
       "    </tr>\n",
       "    <tr>\n",
       "      <th>2732</th>\n",
       "      <td>-1.137610</td>\n",
       "      <td>1.098478</td>\n",
       "      <td>-0.323593</td>\n",
       "      <td>0.242116</td>\n",
       "      <td>-0.547266</td>\n",
       "      <td>-0.656117</td>\n",
       "    </tr>\n",
       "  </tbody>\n",
       "</table>\n",
       "<p>32060 rows × 6 columns</p>\n",
       "</div>"
      ],
      "text/plain": [
       "           Make     Model      City  Total_Expense  Job_duration(in hrs)  \\\n",
       "21244 -0.142723  0.673339 -1.004202      -0.348263             -0.348740   \n",
       "12658 -1.336587 -1.546835 -1.523614      -0.384447              0.741849   \n",
       "12277 -1.535564 -0.743794  0.231641      -0.397669             -0.468994   \n",
       "12906 -1.336587 -1.483851 -0.789273      -0.208134             -0.408511   \n",
       "29284  0.056255  1.287429 -0.843005      -0.222216             -0.202158   \n",
       "...         ...       ...       ...            ...                   ...   \n",
       "32103  1.648074 -0.476113 -0.028065      -0.258240              0.043332   \n",
       "30403  0.653187  1.035495  0.652544       0.000662             -0.447647   \n",
       "21243 -0.142723  0.673339 -1.004202      -0.571625             -0.486190   \n",
       "42613  2.046029  0.326929 -0.780317       0.167150             -0.097795   \n",
       "2732  -1.137610  1.098478 -0.323593       0.242116             -0.547266   \n",
       "\n",
       "       Clusters  \n",
       "21244 -0.656117  \n",
       "12658  2.511820  \n",
       "12277 -0.656117  \n",
       "12906 -0.656117  \n",
       "29284 -0.656117  \n",
       "...         ...  \n",
       "32103 -0.656117  \n",
       "30403 -0.656117  \n",
       "21243 -0.656117  \n",
       "42613  0.399862  \n",
       "2732  -0.656117  \n",
       "\n",
       "[32060 rows x 6 columns]"
      ]
     },
     "execution_count": 129,
     "metadata": {},
     "output_type": "execute_result"
    }
   ],
   "source": [
    "X_train"
   ]
  },
  {
   "cell_type": "code",
   "execution_count": 130,
   "metadata": {},
   "outputs": [],
   "source": [
    "from IPython.core.interactiveshell import InteractiveShell\n",
    "InteractiveShell.ast_node_interactivity = \"all\""
   ]
  },
  {
   "cell_type": "code",
   "execution_count": 131,
   "metadata": {},
   "outputs": [
    {
     "data": {
      "text/plain": [
       "XGBRegressor(base_score=0.5, booster='gbtree', colsample_bylevel=1,\n",
       "             colsample_bynode=1, colsample_bytree=0.8, eta=0.1, gamma=0,\n",
       "             gpu_id=-1, importance_type='gain', interaction_constraints='',\n",
       "             learning_rate=0.100000001, max_delta_step=0, max_depth=7,\n",
       "             min_child_weight=1, missing=nan, monotone_constraints='()',\n",
       "             n_estimators=1000, n_jobs=8, num_parallel_tree=1, random_state=0,\n",
       "             reg_alpha=0, reg_lambda=1, scale_pos_weight=1, subsample=0.7,\n",
       "             tree_method='exact', validate_parameters=1, verbosity=None)"
      ]
     },
     "execution_count": 131,
     "metadata": {},
     "output_type": "execute_result"
    },
    {
     "data": {
      "text/plain": [
       "0.9873203228599974"
      ]
     },
     "execution_count": 131,
     "metadata": {},
     "output_type": "execute_result"
    },
    {
     "data": {
      "text/plain": [
       "0.8576227737618861"
      ]
     },
     "execution_count": 131,
     "metadata": {},
     "output_type": "execute_result"
    }
   ],
   "source": [
    "from sklearn.model_selection import cross_val_score\n",
    "from sklearn.model_selection import RepeatedKFold\n",
    "from xgboost import XGBRegressor\n",
    "\n",
    "xgbre = XGBRegressor(n_estimators=1000, max_depth=7, eta=0.1, subsample=0.7, colsample_bytree=0.8)\n",
    "xgbre.fit(X_train,y_train)\n",
    "y_pred = xgbre.predict(X_test)\n",
    "xgbre.score(X_train,y_train)\n",
    "xgbre.score(X_test,y_test)"
   ]
  },
  {
   "cell_type": "code",
   "execution_count": 132,
   "metadata": {},
   "outputs": [
    {
     "name": "stdout",
     "output_type": "stream",
     "text": [
      "Train r2 score:  0.9867451045994101\n",
      "Test r2 score:  0.8576227737618861\n",
      "Train RMSE: 4394.5885\n",
      "Test RMSE: 16368.4228\n"
     ]
    }
   ],
   "source": [
    "\n",
    "y_train_pred = xgbre.predict(X_train)\n",
    "y_pred = xgbre.predict(X_test)\n",
    "print('Train r2 score: ', r2_score(y_train_pred, y_train))\n",
    "print('Test r2 score: ', r2_score(y_test, y_pred))\n",
    "train_mse = mean_squared_error(y_train_pred, y_train)\n",
    "test_mse = mean_squared_error(y_pred, y_test)\n",
    "train_rmse = np.sqrt(train_mse)\n",
    "test_rmse = np.sqrt(test_mse)\n",
    "print('Train RMSE: %.4f' % train_rmse)\n",
    "print('Test RMSE: %.4f' % test_rmse)"
   ]
  },
  {
   "cell_type": "code",
   "execution_count": null,
   "metadata": {},
   "outputs": [],
   "source": []
  },
  {
   "cell_type": "code",
   "execution_count": null,
   "metadata": {},
   "outputs": [],
   "source": []
  },
  {
   "cell_type": "code",
   "execution_count": 133,
   "metadata": {},
   "outputs": [
    {
     "data": {
      "text/plain": [
       "0.771119762623506"
      ]
     },
     "execution_count": 133,
     "metadata": {},
     "output_type": "execute_result"
    }
   ],
   "source": [
    "from sklearn.ensemble import RandomForestRegressor\n",
    "rfr = RandomForestRegressor(n_estimators=500,random_state=0,).fit(X_train, y_train)\n",
    "\n",
    "y_pred = rfr.predict(X_test)\n",
    "\n",
    "r2_score(y_test,y_pred)\n"
   ]
  },
  {
   "cell_type": "code",
   "execution_count": null,
   "metadata": {},
   "outputs": [],
   "source": []
  },
  {
   "cell_type": "code",
   "execution_count": null,
   "metadata": {},
   "outputs": [],
   "source": []
  }
 ],
 "metadata": {
  "kernelspec": {
   "display_name": "Python 3",
   "language": "python",
   "name": "python3"
  },
  "language_info": {
   "codemirror_mode": {
    "name": "ipython",
    "version": 3
   },
   "file_extension": ".py",
   "mimetype": "text/x-python",
   "name": "python",
   "nbconvert_exporter": "python",
   "pygments_lexer": "ipython3",
   "version": "3.8.5"
  }
 },
 "nbformat": 4,
 "nbformat_minor": 4
}
